{
 "cells": [
  {
   "cell_type": "code",
   "execution_count": 4,
   "id": "d956c746-8db7-4a0f-bc27-144a9cee65e1",
   "metadata": {},
   "outputs": [
    {
     "name": "stdout",
     "output_type": "stream",
     "text": [
      "{1: 6344, 2: 5954, 3: 6011, 4: 6153, 5: 5844, 6: 5781, 7: 5997, 8: 5859, 9: 6057, 10: 6064, 11: 5936, 12: 6012, 13: 6043, 14: 6028, 15: 6500, 16: 6112, 17: 5852, 18: 5880, 19: 5973, 20: 5930, 21: 5827, 22: 5799, 23: 5782, 24: 5752, 25: 5875, 26: 5823, 27: 5937, 28: 6027, 29: 5507, 30: 5046, 31: 3095}\n",
      "Day with the most frequency of attacks: 15\n"
     ]
    }
   ],
   "source": [
    "import numpy as np\n",
    "import csv\n",
    "\n",
    "day_count = {}  \n",
    "with open('Dataset/terrorismData.csv', encoding='utf-8') as file_obj:\n",
    "    file_data = csv.DictReader(file_obj)\n",
    "    day = []\n",
    "    for row in file_data:\n",
    "        day.append(row['Day'])\n",
    "    np_day = np.array(day, dtype=int)\n",
    "    bool_day = (np_day >= 1) & (np_day <= 31)\n",
    "    filtered_days = np_day[bool_day]\n",
    "\n",
    "    unique_days, counts = np.unique(filtered_days, return_counts=True)\n",
    "    day_count = dict(zip(unique_days, counts))\n",
    "    \n",
    "print(day_count)\n",
    "most_frequent_day = max(day_count, key=day_count.get)\n",
    "print(\"Day with the most frequency of attacks:\", most_frequent_day)\n"
   ]
  },
  {
   "cell_type": "code",
   "execution_count": null,
   "id": "f9306750-b577-410b-beb7-c360ab5d9d37",
   "metadata": {},
   "outputs": [],
   "source": []
  }
 ],
 "metadata": {
  "kernelspec": {
   "display_name": "Python 3 (ipykernel)",
   "language": "python",
   "name": "python3"
  },
  "language_info": {
   "codemirror_mode": {
    "name": "ipython",
    "version": 3
   },
   "file_extension": ".py",
   "mimetype": "text/x-python",
   "name": "python",
   "nbconvert_exporter": "python",
   "pygments_lexer": "ipython3",
   "version": "3.11.7"
  }
 },
 "nbformat": 4,
 "nbformat_minor": 5
}
