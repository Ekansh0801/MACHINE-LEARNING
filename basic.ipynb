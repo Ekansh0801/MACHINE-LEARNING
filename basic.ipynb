{
 "cells": [
  {
   "cell_type": "code",
   "execution_count": 15,
   "id": "cd114397-a3d4-4112-96f9-e5de24de8857",
   "metadata": {},
   "outputs": [
    {
     "name": "stdout",
     "output_type": "stream",
     "text": [
      "Hello Word\n"
     ]
    }
   ],
   "source": [
    "print('Hello Word')"
   ]
  },
  {
   "cell_type": "code",
   "execution_count": 2,
   "id": "2fee5d09-c2c3-434a-b8ce-a0fe56851014",
   "metadata": {},
   "outputs": [
    {
     "data": {
      "text/plain": [
       "30"
      ]
     },
     "execution_count": 2,
     "metadata": {},
     "output_type": "execute_result"
    }
   ],
   "source": [
    "a = 10\n",
    "b = 20\n",
    "a + b"
   ]
  },
  {
   "cell_type": "markdown",
   "id": "d09cd779-0f9d-441d-afc2-0d2f302cdddf",
   "metadata": {},
   "source": [
    "### this is basic python"
   ]
  },
  {
   "cell_type": "code",
   "execution_count": 4,
   "id": "a4be6e40-045d-40ac-b5f6-bedd2020535d",
   "metadata": {},
   "outputs": [
    {
     "name": "stdout",
     "output_type": "stream",
     "text": [
      "4\n",
      "ravi\n"
     ]
    }
   ],
   "source": [
    "a = 4\n",
    "print(a)\n",
    "a = \"ravi\"\n",
    "print(a)\n"
   ]
  },
  {
   "cell_type": "code",
   "execution_count": 5,
   "id": "507f4000-57ad-4f47-a024-418f3cd489e3",
   "metadata": {},
   "outputs": [
    {
     "data": {
      "text/plain": [
       "str"
      ]
     },
     "execution_count": 5,
     "metadata": {},
     "output_type": "execute_result"
    }
   ],
   "source": [
    "type(a)"
   ]
  },
  {
   "cell_type": "markdown",
   "id": "b7abd836-b310-46f3-ad56-a8a0636364ed",
   "metadata": {},
   "source": [
    "a = int(input('Enter first number'))\n",
    "b = int(input('Enter second number'))\n",
    "c = a + b\n",
    "print(c)"
   ]
  },
  {
   "cell_type": "markdown",
   "id": "f464660d-1ee3-4816-8b7a-907ea99fea36",
   "metadata": {},
   "source": [
    "### Average of three numbers"
   ]
  },
  {
   "cell_type": "code",
   "execution_count": 10,
   "id": "1487daa5-3eed-47cc-83ab-c099ff4bc5b0",
   "metadata": {},
   "outputs": [
    {
     "name": "stdin",
     "output_type": "stream",
     "text": [
      "Enter first number: 5\n",
      "Enter second number: 10\n",
      "Enter third number: 5\n"
     ]
    },
    {
     "name": "stdout",
     "output_type": "stream",
     "text": [
      "Average of  5   10   5  is:  6.666666666666667\n"
     ]
    }
   ],
   "source": [
    "a = int(input('Enter first number:'))\n",
    "b = int(input('Enter second number:'))\n",
    "c = int(input('Enter third number:'))\n",
    "\n",
    "avg = (a + b + c) / 3\n",
    "print('Average of ',a, ' ',b,' ',c,' is: ',avg)"
   ]
  },
  {
   "cell_type": "markdown",
   "id": "420e9632-b51c-4675-afab-b3c447d5904c",
   "metadata": {},
   "source": [
    "### Find X raise to power N"
   ]
  },
  {
   "cell_type": "code",
   "execution_count": null,
   "id": "7db1bb37-8133-49be-8974-276307852a56",
   "metadata": {},
   "outputs": [],
   "source": [
    "x = int(input('Enter base number:'))\n",
    "n = int(input('Enter power:'))\n",
    "output = x ** n\n",
    "print(output)"
   ]
  },
  {
   "cell_type": "markdown",
   "id": "402baf20-a124-464e-8622-89aa43e6d4bc",
   "metadata": {},
   "source": [
    "### Aritmetic Progression"
   ]
  },
  {
   "cell_type": "code",
   "execution_count": 13,
   "id": "ca01086b-3637-4f4b-87f4-26ba08e519dc",
   "metadata": {},
   "outputs": [
    {
     "name": "stdin",
     "output_type": "stream",
     "text": [
      "Enter first number: 1\n",
      "Enter second number: 3\n",
      "Enter third number: 5\n"
     ]
    },
    {
     "name": "stdout",
     "output_type": "stream",
     "text": [
      "2\n",
      "2\n",
      "140724167951176\n",
      "140724167951176\n"
     ]
    }
   ],
   "source": [
    "a = int(input('Enter first number:'))\n",
    "b = int(input('Enter second number:'))\n",
    "c = int(input('Enter third number:'))\n",
    "\n",
    "diff1 = b - a\n",
    "diff2 = c - b;\n",
    "\n",
    "print(diff1)\n",
    "print(diff2)\n",
    "print(id(diff1))\n",
    "print(id(diff2))"
   ]
  },
  {
   "cell_type": "markdown",
   "id": "86995c69-76cc-4b40-830d-f892189abc19",
   "metadata": {},
   "source": [
    "### area of rectangle"
   ]
  },
  {
   "cell_type": "code",
   "execution_count": 14,
   "id": "317d2edb-c776-4dee-a1a9-94aa81a8c82b",
   "metadata": {},
   "outputs": [
    {
     "name": "stdin",
     "output_type": "stream",
     "text": [
      "Enter x1 number: 1\n",
      "Enter y1 number: 1\n",
      "Enter x2 number: 3\n",
      "Enter y2 number: 3\n"
     ]
    },
    {
     "name": "stdout",
     "output_type": "stream",
     "text": [
      "4\n"
     ]
    }
   ],
   "source": [
    "x1 = int(input('Enter x1 number:'))\n",
    "y1 = int(input('Enter y1 number:'))\n",
    "x2 = int(input('Enter x2 number:'))\n",
    "y2 = int(input('Enter y2 number:'))\n",
    "\n",
    "area = (x2 - x1) * (y2 - y1)\n",
    "print(area)"
   ]
  },
  {
   "cell_type": "code",
   "execution_count": 1,
   "id": "82419b94-9f01-40dc-a016-89b572e9b622",
   "metadata": {},
   "outputs": [],
   "source": [
    "### odd even"
   ]
  },
  {
   "cell_type": "code",
   "execution_count": 3,
   "id": "9f79208f-1e2d-4eae-90cc-7bda176f187e",
   "metadata": {},
   "outputs": [
    {
     "name": "stdin",
     "output_type": "stream",
     "text": [
      "Enter a number: 5\n"
     ]
    },
    {
     "name": "stdout",
     "output_type": "stream",
     "text": [
      "5 is odd!\n"
     ]
    }
   ],
   "source": [
    "n = int(input('Enter a number:'))\n",
    "\n",
    "if n & 1:\n",
    "    print(n,\"is odd!\")\n",
    "else:\n",
    "    print(n,\"is even!\")\n",
    "    "
   ]
  },
  {
   "cell_type": "code",
   "execution_count": 5,
   "id": "580fecd8-f783-41fc-8509-2f6d7e903c1f",
   "metadata": {},
   "outputs": [
    {
     "name": "stdin",
     "output_type": "stream",
     "text": [
      "Entr first number: 11\n",
      "Enter second number: 12\n"
     ]
    },
    {
     "name": "stdout",
     "output_type": "stream",
     "text": [
      "Yayaya\n"
     ]
    }
   ],
   "source": [
    "a = int(input('Entr first number:'))\n",
    "b = int(input('Enter second number:'))\n",
    "\n",
    "if a > 10 and b > 10:\n",
    "    print(\"Yayaya\")\n",
    "else:\n",
    "    print(\"Nooo\")\n",
    "    "
   ]
  },
  {
   "cell_type": "code",
   "execution_count": 10,
   "id": "347d91fb-8b1e-4359-8f66-957f07b30ddd",
   "metadata": {},
   "outputs": [
    {
     "name": "stdin",
     "output_type": "stream",
     "text": [
      " 105\n"
     ]
    },
    {
     "name": "stdout",
     "output_type": "stream",
     "text": [
      "yes\n"
     ]
    }
   ],
   "source": [
    "n = int(input())\n",
    "\n",
    "if n % 5 == 0:\n",
    "    print('yes')\n",
    "else:\n",
    "    print('no')"
   ]
  },
  {
   "cell_type": "code",
   "execution_count": 13,
   "id": "55423354-9aa5-45f6-8f84-ac73e36c94ef",
   "metadata": {},
   "outputs": [
    {
     "name": "stdin",
     "output_type": "stream",
     "text": [
      " 5\n"
     ]
    },
    {
     "name": "stdout",
     "output_type": "stream",
     "text": [
      "5 is a multiple of 5!\n"
     ]
    }
   ],
   "source": [
    "n = int(input())\n",
    "if n % 5 == 0:\n",
    "    print(n, \"is a multiple of 5!\")\n",
    "else:\n",
    "    print(n,\"is a not multiple of 5!\")"
   ]
  },
  {
   "cell_type": "code",
   "execution_count": 18,
   "id": "eeade291-48fe-46b9-87c3-f015df2e3acd",
   "metadata": {},
   "outputs": [
    {
     "name": "stdin",
     "output_type": "stream",
     "text": [
      " 1\n",
      " 3\n",
      " 2\n"
     ]
    },
    {
     "name": "stdout",
     "output_type": "stream",
     "text": [
      "3 is largest!!\n"
     ]
    }
   ],
   "source": [
    "a = int(input())\n",
    "b = int(input())\n",
    "c = int(input())\n",
    "\n",
    "if a > b and b > c:\n",
    "    print(a,\"is largest!!\")\n",
    "elif b > a and b > c:\n",
    "    print(b,\"is largest!!\")\n",
    "else:\n",
    "    print(c,\"is largest!!\")"
   ]
  },
  {
   "cell_type": "code",
   "execution_count": 20,
   "id": "6fc2f0b7-b194-4cc1-b5e9-a70d241770b1",
   "metadata": {},
   "outputs": [
    {
     "name": "stdin",
     "output_type": "stream",
     "text": [
      " n = int(input())\n"
     ]
    },
    {
     "ename": "ValueError",
     "evalue": "invalid literal for int() with base 10: 'n = int(input())'",
     "output_type": "error",
     "traceback": [
      "\u001b[1;31m---------------------------------------------------------------------------\u001b[0m",
      "\u001b[1;31mValueError\u001b[0m                                Traceback (most recent call last)",
      "Cell \u001b[1;32mIn[20], line 1\u001b[0m\n\u001b[1;32m----> 1\u001b[0m n \u001b[38;5;241m=\u001b[39m \u001b[38;5;28mint\u001b[39m(\u001b[38;5;28minput\u001b[39m())\n\u001b[0;32m      2\u001b[0m \u001b[38;5;28;01mif\u001b[39;00m n \u001b[38;5;241m>\u001b[39m \u001b[38;5;241m10\u001b[39m:\n\u001b[0;32m      3\u001b[0m     \u001b[38;5;28mprint\u001b[39m(\u001b[38;5;124m\"\u001b[39m\u001b[38;5;124mred\u001b[39m\u001b[38;5;124m\"\u001b[39m)\n",
      "\u001b[1;31mValueError\u001b[0m: invalid literal for int() with base 10: 'n = int(input())'"
     ]
    }
   ],
   "source": [
    "n = int(input())\n",
    "if n > 10:\n",
    "    print(\"red\")\n",
    "elif n >= 5 and n <= 10:\n",
    "    print(\"green\")\n",
    "elif n > 0 and n < 5:\n",
    "    print(\"yellow\")\n",
    "    \n"
   ]
  },
  {
   "cell_type": "code",
   "execution_count": 23,
   "id": "d71535a1-ca3b-4395-b706-058d23637c24",
   "metadata": {},
   "outputs": [
    {
     "name": "stdin",
     "output_type": "stream",
     "text": [
      " 14\n"
     ]
    },
    {
     "name": "stdout",
     "output_type": "stream",
     "text": [
      "even!\n",
      "qutient greater than 5\n"
     ]
    }
   ],
   "source": [
    "n = int(input())\n",
    "if n % 2 == 0:\n",
    "    print(\"even!\")\n",
    "    q = n / 2\n",
    "    if q > 5:\n",
    "        print(\"qutient greater than 5\")\n",
    "    elif q == 5:\n",
    "        print(\"quetient equal to 5!\")\n",
    "    else:\n",
    "        print(\"quetient less than 5!\")\n",
    "\n",
    "else:\n",
    "    print(\"odd!\")\n",
    "    q = n / 2\n",
    "    if q > 5:\n",
    "        print(\"qutient greater than 5\")\n",
    "    elif q == 5:\n",
    "        print(\"quetient equal to 5!\")\n",
    "    else:\n",
    "        print(\"quetient less than 5!\")"
   ]
  },
  {
   "cell_type": "code",
   "execution_count": 27,
   "id": "fb4b93f4-3100-46dd-a1d3-9b10a98fab24",
   "metadata": {},
   "outputs": [
    {
     "name": "stdout",
     "output_type": "stream",
     "text": [
      "10\n",
      "9\n",
      "8\n",
      "7\n",
      "6\n",
      "5\n",
      "4\n",
      "3\n",
      "2\n",
      "1\n"
     ]
    }
   ],
   "source": [
    "n = 10\n",
    "while n > 0:\n",
    "    print(n)\n",
    "    n -= 1"
   ]
  },
  {
   "cell_type": "code",
   "execution_count": 30,
   "id": "90dc4131-8d50-4d98-b773-fded135734c4",
   "metadata": {},
   "outputs": [
    {
     "name": "stdin",
     "output_type": "stream",
     "text": [
      " 5\n"
     ]
    },
    {
     "name": "stdout",
     "output_type": "stream",
     "text": [
      "True\n"
     ]
    }
   ],
   "source": [
    "n = int(input())\n",
    "i = 2\n",
    "isPrime = True\n",
    "while i < n:\n",
    "    if n % i == 0:\n",
    "        isPrime = False\n",
    "        break\n",
    "    i += 1\n",
    "print(isPrime)"
   ]
  },
  {
   "cell_type": "code",
   "execution_count": 33,
   "id": "79a27b6a-4cc7-4ffe-b943-82a8fde0a2e7",
   "metadata": {},
   "outputs": [
    {
     "name": "stdin",
     "output_type": "stream",
     "text": [
      " 100\n"
     ]
    },
    {
     "name": "stdout",
     "output_type": "stream",
     "text": [
      "2\n",
      "3\n",
      "5\n",
      "7\n",
      "11\n",
      "13\n",
      "17\n",
      "19\n",
      "23\n",
      "29\n",
      "31\n",
      "37\n",
      "41\n",
      "43\n",
      "47\n",
      "53\n",
      "59\n",
      "61\n",
      "67\n",
      "71\n",
      "73\n",
      "79\n",
      "83\n",
      "89\n",
      "97\n"
     ]
    }
   ],
   "source": [
    "n = int(input())\n",
    "i = 2\n",
    "while i < n:\n",
    "    x = 2\n",
    "    isPrime = True\n",
    "    while x < i:\n",
    "        if i % x == 0:\n",
    "            isPrime = False\n",
    "            break\n",
    "        x += 1\n",
    "    if isPrime:\n",
    "        print(i)\n",
    "    i += 1\n",
    "    "
   ]
  },
  {
   "cell_type": "code",
   "execution_count": null,
   "id": "c02a6584-9bb7-42db-a9b3-908df7eb5dbb",
   "metadata": {},
   "outputs": [],
   "source": [
    "n = int(input())\n",
    "rev = 0\n",
    "while n > 0:\n",
    "    x = n % 10\n",
    "    rev = rev * 10 + x\n",
    "    n = n // 10\n",
    "print(rev)    "
   ]
  },
  {
   "cell_type": "code",
   "execution_count": 1,
   "id": "6a9f4ac1-5be0-4b87-89df-94dc8aaf2b0a",
   "metadata": {},
   "outputs": [
    {
     "name": "stdin",
     "output_type": "stream",
     "text": [
      " 1234\n"
     ]
    },
    {
     "name": "stdout",
     "output_type": "stream",
     "text": [
      "4321\n"
     ]
    }
   ],
   "source": [
    "n = int(input())\n",
    "rev = 0\n",
    "while n > 0:\n",
    "    x = n % 10\n",
    "    rev = rev * 10 + x\n",
    "    n = n // 10\n",
    "print(rev)    "
   ]
  },
  {
   "cell_type": "markdown",
   "id": "f66bd163-1d13-4fc8-8e34-9c71eb3d1ea7",
   "metadata": {},
   "source": [
    "### pattern\n"
   ]
  },
  {
   "cell_type": "code",
   "execution_count": 13,
   "id": "fc8c2ddf-0444-4b1d-ab94-85a6d7efe29c",
   "metadata": {},
   "outputs": [
    {
     "name": "stdin",
     "output_type": "stream",
     "text": [
      "Enter number of rows -> 4\n"
     ]
    },
    {
     "name": "stdout",
     "output_type": "stream",
     "text": [
      "      1 \n",
      "    2 3 2 \n",
      "  3 4 5 4 3 \n",
      "4 5 6 7 6 5 4 \n"
     ]
    }
   ],
   "source": [
    "n = int(input('Enter number of rows ->'))\n",
    "for i in range (0,n,1):\n",
    "    for j in range (0,n - i - 1,1):\n",
    "        print(' ',end=' ')\n",
    "    for j in range (i + 1,2 * i + 2,1):\n",
    "        print(j,end=' ')\n",
    "    for j in range (2 * i,i,-1):\n",
    "        print(j,end = ' ')\n",
    "    print(end='\\n')    "
   ]
  },
  {
   "cell_type": "markdown",
   "id": "2b1d77c3-acd7-4e05-aaf1-30103ba13fb4",
   "metadata": {},
   "source": [
    "### Square Root"
   ]
  },
  {
   "cell_type": "code",
   "execution_count": 16,
   "id": "cb59ca6f-6ce8-4ca4-b6fc-2e799929060a",
   "metadata": {},
   "outputs": [
    {
     "name": "stdin",
     "output_type": "stream",
     "text": [
      " 4\n"
     ]
    },
    {
     "name": "stdout",
     "output_type": "stream",
     "text": [
      "2\n"
     ]
    }
   ],
   "source": [
    "n = int(input())\n",
    "ans = -1\n",
    "for i in range (1,n):\n",
    "    if(i * i <= n):\n",
    "        ans = i\n",
    "    else:\n",
    "        break\n",
    "print(ans)"
   ]
  },
  {
   "cell_type": "markdown",
   "id": "0b321645-be6b-48d6-88e5-b9be0c3d3874",
   "metadata": {},
   "source": [
    "### Decimal to Binary"
   ]
  },
  {
   "cell_type": "code",
   "execution_count": 8,
   "id": "fc56d10f-2c48-4709-849b-2507dbbc13fe",
   "metadata": {},
   "outputs": [
    {
     "name": "stdin",
     "output_type": "stream",
     "text": [
      " 100\n"
     ]
    },
    {
     "name": "stdout",
     "output_type": "stream",
     "text": [
      "1100100\n"
     ]
    }
   ],
   "source": [
    "n = int(input())\n",
    "i = 0\n",
    "ans = 0\n",
    "while n > 0:\n",
    "    rem = n % 2\n",
    "    ans = rem * (10 ** i) + ans\n",
    "    i = i + 1\n",
    "    n = n // 2\n",
    "print(ans)    \n",
    "    "
   ]
  },
  {
   "cell_type": "markdown",
   "id": "f60c1c79-c1b0-44fd-8c06-dc33ee91dbaa",
   "metadata": {},
   "source": [
    "### Binary to Decimal"
   ]
  },
  {
   "cell_type": "code",
   "execution_count": 11,
   "id": "b97f8552-9185-4347-8546-910f9ac30e1e",
   "metadata": {},
   "outputs": [
    {
     "name": "stdin",
     "output_type": "stream",
     "text": [
      " 111\n"
     ]
    },
    {
     "name": "stdout",
     "output_type": "stream",
     "text": [
      "7\n"
     ]
    }
   ],
   "source": [
    "n = int(input())\n",
    "i = 0\n",
    "ans = 0\n",
    "while n != 0:\n",
    "    ans += (n % 10) * (2 ** i)\n",
    "    i += 1\n",
    "    n = n // 10\n",
    "print(ans)    "
   ]
  },
  {
   "cell_type": "code",
   "execution_count": 2,
   "id": "984498b9-26a8-47fd-b729-149b697c137a",
   "metadata": {},
   "outputs": [
    {
     "name": "stdout",
     "output_type": "stream",
     "text": [
      "dlroW olleH\n"
     ]
    }
   ],
   "source": [
    "s = 'Hello World'\n",
    "p = s[::-1]\n",
    "print(p)"
   ]
  },
  {
   "cell_type": "code",
   "execution_count": 3,
   "id": "832880a6-7b0c-46ae-8f41-ff4eac2b02cc",
   "metadata": {},
   "outputs": [],
   "source": [
    "str = 'This is Ekansh \\'s code'"
   ]
  },
  {
   "cell_type": "code",
   "execution_count": 4,
   "id": "5e52f7d3-516b-40d1-b396-e555db826b8e",
   "metadata": {},
   "outputs": [
    {
     "name": "stdout",
     "output_type": "stream",
     "text": [
      "This is Ekansh 's code\n"
     ]
    }
   ],
   "source": [
    "print(str)"
   ]
  },
  {
   "cell_type": "code",
   "execution_count": 9,
   "id": "c434a478-1686-448a-bf60-eb54ad6aee1a",
   "metadata": {},
   "outputs": [
    {
     "data": {
      "text/plain": [
       "'9876543'"
      ]
     },
     "execution_count": 9,
     "metadata": {},
     "output_type": "execute_result"
    }
   ],
   "source": [
    "x = '0123456789'\n",
    "x[9:2:-1]"
   ]
  },
  {
   "cell_type": "code",
   "execution_count": null,
   "id": "d217bb91-0d8a-4729-8447-cad209af4ea4",
   "metadata": {},
   "outputs": [],
   "source": [
    "s = int(input())\n",
    "a = 'x'\n",
    "b = 'y'\n",
    "ans = s\n",
    "for i in range (0,len(ans)):\n",
    "    if s[i] == a:\n",
    "        ans = ans[:i] + b + ans[i + 1:]\n",
    "ans        "
   ]
  },
  {
   "cell_type": "markdown",
   "id": "c09c7a19-ea77-4958-a543-c5f3a9a47eb7",
   "metadata": {},
   "source": [
    "### Swap Alternate"
   ]
  },
  {
   "cell_type": "code",
   "execution_count": 1,
   "id": "c7848e7b-a7b5-4dd8-9601-bbc6c7dea9fc",
   "metadata": {},
   "outputs": [
    {
     "name": "stdin",
     "output_type": "stream",
     "text": [
      " 1 2 3 4 5 6 7\n"
     ]
    },
    {
     "name": "stdout",
     "output_type": "stream",
     "text": [
      "[2, 1, 4, 3, 6, 5, 7]\n"
     ]
    }
   ],
   "source": [
    "a = [int(s) for s in input().split()]\n",
    "\n",
    "for i in range (len(a) - 1):\n",
    "    if i & 1:\n",
    "        continue\n",
    "    else:        \n",
    "        temp = a[i]\n",
    "        a[i] = a[i + 1]\n",
    "        a[i + 1] = temp\n",
    "        \n",
    "print(a)        \n",
    "    "
   ]
  },
  {
   "cell_type": "markdown",
   "id": "9885e890-1c8b-4e03-b343-da7d79888961",
   "metadata": {},
   "source": [
    "### Equilibrium index"
   ]
  },
  {
   "cell_type": "code",
   "execution_count": 11,
   "id": "a4e90488-8d3f-4c27-b145-a72e9544c166",
   "metadata": {},
   "outputs": [
    {
     "name": "stdin",
     "output_type": "stream",
     "text": [
      " 1 4 6\n"
     ]
    },
    {
     "name": "stdout",
     "output_type": "stream",
     "text": [
      "-1\n"
     ]
    }
   ],
   "source": [
    "a = [int(s) for s in input().split()]\n",
    "sum = 0\n",
    "for i in a:\n",
    "    sum += i\n",
    "preSum = 0\n",
    "isPresent = False\n",
    "for i in range (len(a)):\n",
    "    postSum = sum - preSum - a[i]\n",
    "    if(postSum == preSum):\n",
    "        print(i)\n",
    "        isPresent = True\n",
    "    preSum += a[i] \n",
    "if isPresent == False:\n",
    "    print(-1)\n",
    "        "
   ]
  },
  {
   "cell_type": "code",
   "execution_count": 2,
   "id": "4a8f7412-1071-42f4-97fc-9a0b7effc17f",
   "metadata": {},
   "outputs": [
    {
     "name": "stdin",
     "output_type": "stream",
     "text": [
      " 3 4\n",
      " 1 2 3 4\n",
      " 5 6 7 8\n",
      " 9 10 11 12\n"
     ]
    }
   ],
   "source": [
    "sizes = input().split()\n",
    "m = int(sizes[0])\n",
    "n = int(sizes[1])\n",
    "\n",
    "l = []\n",
    "\n",
    "for i in range (m):\n",
    "    new_row = [int(j) for j in input().split()]\n",
    "    l.append(new_row)\n",
    "    "
   ]
  },
  {
   "cell_type": "code",
   "execution_count": 3,
   "id": "bad25ec7-6dfc-4ee0-aa20-44a88c1e1149",
   "metadata": {},
   "outputs": [
    {
     "name": "stdin",
     "output_type": "stream",
     "text": [
      " 3 4\n",
      " 1\n",
      " 2\n",
      " 3\n",
      " 4\n",
      " 5\n",
      " 6\n",
      " 7\n",
      " 8\n",
      " 9\n",
      " 10\n",
      " 11\n",
      " 12\n"
     ]
    }
   ],
   "source": [
    "sizes = input().split()\n",
    "m = int(sizes[0])\n",
    "n = int(sizes[1])\n",
    "\n",
    "l = []\n",
    "for i in range (m):\n",
    "    new_row = []\n",
    "    for j in range (n):\n",
    "        ele = int(input())\n",
    "        new_row.append(ele)\n",
    "    l.append(new_row)    "
   ]
  },
  {
   "cell_type": "code",
   "execution_count": 4,
   "id": "9710d955-bd78-43c2-9543-41dedb34ba7e",
   "metadata": {},
   "outputs": [
    {
     "name": "stdin",
     "output_type": "stream",
     "text": [
      " 3 4\n",
      " 1 2 3 4 5 6 7 8 9 10 11 12\n"
     ]
    }
   ],
   "source": [
    "sizes = input().split()\n",
    "m = int(sizes[0])\n",
    "n = int(sizes[1])\n",
    "\n",
    "l_ld = [int(i) for i in input().split()]\n",
    "l = []\n",
    "\n",
    "for i in range(m):\n",
    "    si = n * i\n",
    "    ei = n * (i + 1)\n",
    "    next_row = l_ld[si:ei]\n",
    "    l.append(next_row)\n",
    "\n"
   ]
  },
  {
   "cell_type": "markdown",
   "id": "c69a7711-3b5a-4f5d-b115-6bf5c1789c4a",
   "metadata": {},
   "source": [
    "### Row Wise Sum"
   ]
  },
  {
   "cell_type": "code",
   "execution_count": 6,
   "id": "54f2d878-a5f6-4c79-9984-88e6ab2f5076",
   "metadata": {},
   "outputs": [
    {
     "name": "stdin",
     "output_type": "stream",
     "text": [
      " 4 2\n",
      " 1 2 3 4 5 6 7 8\n"
     ]
    },
    {
     "name": "stdout",
     "output_type": "stream",
     "text": [
      "16\n",
      "20\n"
     ]
    }
   ],
   "source": [
    "sizes = input().split()\n",
    "m = int(sizes[0])\n",
    "n = int(sizes[1])\n",
    "\n",
    "l_ld = [int(i) for i in input().split()]\n",
    "l = []\n",
    "\n",
    "for i in range(m):\n",
    "    si = n * i\n",
    "    ei = n * (i + 1)\n",
    "    next_row = l_ld[si:ei]\n",
    "    l.append(next_row)\n",
    "\n",
    "\n",
    "for j in range (n):\n",
    "    sum = 0\n",
    "    for i in range (m):\n",
    "        sum += l[i][j]\n",
    "    print(sum)    "
   ]
  },
  {
   "cell_type": "markdown",
   "id": "7c5bf36e-b872-4ee5-80ea-5c26fa3755be",
   "metadata": {},
   "source": [
    "### Wave Print"
   ]
  },
  {
   "cell_type": "code",
   "execution_count": 8,
   "id": "54629820-f650-4368-a6c7-7d19b45cd233",
   "metadata": {},
   "outputs": [
    {
     "name": "stdin",
     "output_type": "stream",
     "text": [
      " 3 4\n",
      " 1 2 3 4\n",
      " 5 6 7 8\n",
      " 9 10 11 12\n"
     ]
    },
    {
     "name": "stdout",
     "output_type": "stream",
     "text": [
      "1 5 9 10 6 2 3 7 11 12 8 4 "
     ]
    }
   ],
   "source": [
    "sizes = input().split()\n",
    "m = int(sizes[0])\n",
    "n = int(sizes[1])\n",
    "\n",
    "l = []\n",
    "\n",
    "for i in range (m):\n",
    "    new_row = [int(j) for j in input().split()]\n",
    "    l.append(new_row)\n",
    "\n",
    "for j in range (n):\n",
    "    for i in range (m):\n",
    "        if j & 1:\n",
    "            print (l[m - i - 1][j] ,end=' ')\n",
    "        else:\n",
    "            print(l[i][j] ,end = ' ')"
   ]
  },
  {
   "cell_type": "code",
   "execution_count": 21,
   "id": "ff7c8998-1ed7-468c-bb4f-29ff8bb26889",
   "metadata": {},
   "outputs": [
    {
     "name": "stdin",
     "output_type": "stream",
     "text": [
      " aaa\n"
     ]
    },
    {
     "name": "stdout",
     "output_type": "stream",
     "text": [
      "a\n"
     ]
    }
   ],
   "source": [
    "\n"
   ]
  },
  {
   "cell_type": "code",
   "execution_count": 45,
   "id": "94da08ee-1b0b-49ee-a150-af18f43d8fe4",
   "metadata": {},
   "outputs": [
    {
     "name": "stdout",
     "output_type": "stream",
     "text": [
      "syawlA tnedni ruoy edoc\n"
     ]
    }
   ],
   "source": [
    "s = 'Always indent your code'\n",
    "words = s.split()\n",
    "reversed_words = [word[::-1] for word in words]\n",
    "output = ' '.join(reversed_words)\n",
    "print(output)"
   ]
  },
  {
   "cell_type": "code",
   "execution_count": 4,
   "id": "1963b1c5-f32e-4949-a84d-52103deebef1",
   "metadata": {},
   "outputs": [
    {
     "name": "stdin",
     "output_type": "stream",
     "text": [
      " 5\n",
      " 2\n"
     ]
    },
    {
     "name": "stdout",
     "output_type": "stream",
     "text": [
      "10\n"
     ]
    }
   ],
   "source": [
    "def fact(n):\n",
    "    fact_n = 1\n",
    "    for i in range (1,n + 1):\n",
    "        fact_n = fact_n * i\n",
    "    return fact_n\n",
    "\n",
    "n = int(input())\n",
    "r = int(input())\n",
    "\n",
    "n_fact = fact(n)\n",
    "r_fact = fact(r)\n",
    "n_r_fact = fact(n - r)\n",
    "\n",
    "ans = n_fact // (r_fact * n_r_fact)\n",
    "print(ans)"
   ]
  },
  {
   "cell_type": "code",
   "execution_count": 5,
   "id": "5e94874b-1065-4ef6-a2e5-8ecc70cd6d6b",
   "metadata": {},
   "outputs": [
    {
     "name": "stdout",
     "output_type": "stream",
     "text": [
      "5\n"
     ]
    }
   ],
   "source": [
    "def func(a):\n",
    "    a = a + 10\n",
    "    return a\n",
    "a = 5\n",
    "func(a)\n",
    "print(a)"
   ]
  },
  {
   "cell_type": "code",
   "execution_count": 6,
   "id": "d336557c-3e89-4d6d-99e1-b8757060c027",
   "metadata": {},
   "outputs": [
    {
     "name": "stdout",
     "output_type": "stream",
     "text": [
      "14\n",
      "12\n"
     ]
    }
   ],
   "source": [
    "a = 14\n",
    "def f():\n",
    "    global a\n",
    "    a = 12\n",
    "print(a)    \n",
    "f()\n",
    "print(a)"
   ]
  },
  {
   "cell_type": "code",
   "execution_count": 7,
   "id": "7ddc3c4a-18cf-4a78-9b71-acbdcdfdd650",
   "metadata": {},
   "outputs": [
    {
     "name": "stdout",
     "output_type": "stream",
     "text": [
      "11\n"
     ]
    }
   ],
   "source": [
    "def f(a,b,c = 1,d = 5):\n",
    "    return a + b + c + d\n",
    "value = f(1,2,d = 7)\n",
    "print(value)"
   ]
  },
  {
   "cell_type": "code",
   "execution_count": 2,
   "id": "c9d55956-1bae-4fac-aa2c-bc9b067cc842",
   "metadata": {},
   "outputs": [
    {
     "name": "stdout",
     "output_type": "stream",
     "text": [
      "(1, 2, 3)\n",
      "<class 'tuple'>\n"
     ]
    }
   ],
   "source": [
    "a = (1,2,3)\n",
    "print(a)\n",
    "print(type(a))"
   ]
  },
  {
   "cell_type": "markdown",
   "id": "f2645daf-3bbd-4638-b7f0-a554b08ae96f",
   "metadata": {},
   "source": [
    "### Dictionary"
   ]
  },
  {
   "cell_type": "code",
   "execution_count": 1,
   "id": "30cb506e-02e2-43e7-8e5c-cdbc303271d9",
   "metadata": {},
   "outputs": [],
   "source": [
    "a = {\"the\":2,\"abc\":4,100:\"huhu\"}"
   ]
  },
  {
   "cell_type": "code",
   "execution_count": 2,
   "id": "aa6963d6-d706-4b04-8ab8-983dd430d8b6",
   "metadata": {},
   "outputs": [
    {
     "data": {
      "text/plain": [
       "{'the': 2, 'abc': 4, 100: 'huhu'}"
      ]
     },
     "execution_count": 2,
     "metadata": {},
     "output_type": "execute_result"
    }
   ],
   "source": [
    "a"
   ]
  },
  {
   "cell_type": "code",
   "execution_count": 3,
   "id": "5b54d0ff-6e02-4524-94aa-a72bf9a746e4",
   "metadata": {},
   "outputs": [
    {
     "data": {
      "text/plain": [
       "{'the': 2, 'abc': 4, 100: 'huhu'}"
      ]
     },
     "execution_count": 3,
     "metadata": {},
     "output_type": "execute_result"
    }
   ],
   "source": [
    "b = a.copy()\n",
    "b"
   ]
  },
  {
   "cell_type": "code",
   "execution_count": 4,
   "id": "ff26cbf7-80ae-414a-9ae9-71f83bf6ba50",
   "metadata": {},
   "outputs": [
    {
     "name": "stdout",
     "output_type": "stream",
     "text": [
      "2637961950080\n",
      "2637961978112\n"
     ]
    }
   ],
   "source": [
    "print(id(a))\n",
    "print(id(b))"
   ]
  },
  {
   "cell_type": "code",
   "execution_count": 5,
   "id": "8ea26cb5-4d23-478d-aef7-b7ac31c203ce",
   "metadata": {},
   "outputs": [
    {
     "data": {
      "text/plain": [
       "dict_items([('the', 2), ('abc', 4), (100, 'huhu')])"
      ]
     },
     "execution_count": 5,
     "metadata": {},
     "output_type": "execute_result"
    }
   ],
   "source": [
    "a.items()"
   ]
  },
  {
   "cell_type": "code",
   "execution_count": 6,
   "id": "05b79af2-7097-4a37-a006-b6ced8d46df2",
   "metadata": {},
   "outputs": [
    {
     "name": "stdout",
     "output_type": "stream",
     "text": [
      "dict_items([('the', 2), ('abc', 4), (100, 'huhu')])\n"
     ]
    }
   ],
   "source": [
    "print(a.items())"
   ]
  },
  {
   "cell_type": "markdown",
   "id": "9d6b8164-a5f4-4e58-8997-972eb911f7de",
   "metadata": {},
   "source": [
    "### Print all words with frequency k"
   ]
  },
  {
   "cell_type": "code",
   "execution_count": 10,
   "id": "324b483e-c4e9-4f29-a421-166ecb472326",
   "metadata": {},
   "outputs": [
    {
     "name": "stdout",
     "output_type": "stream",
     "text": [
      "word\n",
      "many\n"
     ]
    }
   ],
   "source": [
    "s = \"This is a word string having many many word\"\n",
    "k = 2\n",
    "a = s.split()\n",
    "dict = {}\n",
    "for i in a:\n",
    "    if i in dict:\n",
    "        dict[i] = dict[i] + 1\n",
    "    else:\n",
    "        dict[i] = 1\n",
    "        \n",
    "for i in dict:\n",
    "    if dict[i] == k:\n",
    "        print(i)"
   ]
  },
  {
   "cell_type": "markdown",
   "id": "890d81e7-fef7-4cb0-a9f5-3dc6297aee16",
   "metadata": {},
   "source": [
    "### Highest frequency Number"
   ]
  },
  {
   "cell_type": "code",
   "execution_count": null,
   "id": "ef3425c9-fcac-4a88-9681-148a5db3facc",
   "metadata": {},
   "outputs": [],
   "source": [
    "n = int(input())\n",
    "a = [int(i) for i in input().split()]\n",
    "dict = {}\n",
    "for i in a:\n",
    "    if i in dict:\n",
    "        dict[i] = dict[i] + 1\n",
    "    else:\n",
    "        dict[i] = 1\n",
    "maxi = 0     \n",
    "max_val = None\n",
    "\n",
    "for i in dict:\n",
    "    if dict[i] > maxi:\n",
    "        maxi = dict[i]\n",
    "        max_val = i\n",
    "        \n",
    "print(max_val)"
   ]
  },
  {
   "cell_type": "markdown",
   "id": "9debfd33-1c22-40ec-ac16-d17b937f637f",
   "metadata": {},
   "source": [
    "### OOPs"
   ]
  },
  {
   "cell_type": "code",
   "execution_count": 3,
   "id": "a0ffe40e-0641-4d5a-8167-2c74b79f09ea",
   "metadata": {},
   "outputs": [],
   "source": [
    "class Student:\n",
    "    pass\n",
    "\n",
    "s1 = Student()\n",
    "s2 = Student()\n",
    "s3 = Student()"
   ]
  },
  {
   "cell_type": "code",
   "execution_count": 5,
   "id": "ba7188c6-ec66-45df-a0b8-ac26dbb12693",
   "metadata": {},
   "outputs": [
    {
     "name": "stdout",
     "output_type": "stream",
     "text": [
      "1\n"
     ]
    }
   ],
   "source": [
    "class A:\n",
    "    def __init__(self):\n",
    "        self.x = 1\n",
    "        self.__y = 1\n",
    "    def getY(self):\n",
    "        return self.__y\n",
    "\n",
    "a = A()\n",
    "a.__y = 45\n",
    "print(a.getY())"
   ]
  },
  {
   "cell_type": "code",
   "execution_count": 7,
   "id": "94ba3285-d4d6-4fd9-9579-016a00ff5809",
   "metadata": {},
   "outputs": [
    {
     "name": "stdout",
     "output_type": "stream",
     "text": [
      "10\n",
      "9\n",
      "8\n",
      "7\n",
      "6\n",
      "5\n",
      "4\n",
      "3\n",
      "2\n",
      "1\n"
     ]
    }
   ],
   "source": [
    "def printNum(x):\n",
    "    if x == 0:\n",
    "        return\n",
    "    print(x)\n",
    "    printNum(x - 1)\n",
    "\n",
    "printNum(10)"
   ]
  },
  {
   "cell_type": "code",
   "execution_count": null,
   "id": "7789ebf6-17ce-4070-a585-79728af7a316",
   "metadata": {},
   "outputs": [],
   "source": []
  },
  {
   "cell_type": "code",
   "execution_count": 1,
   "id": "be103bcf-7d7e-4744-b90f-ed88315f0c50",
   "metadata": {},
   "outputs": [
    {
     "name": "stdout",
     "output_type": "stream",
     "text": [
      "Accuracy: 1.0\n"
     ]
    }
   ],
   "source": [
    "from sklearn.datasets import load_iris\n",
    "from sklearn.model_selection import train_test_split\n",
    "from sklearn.tree import DecisionTreeClassifier\n",
    "from sklearn.metrics import accuracy_score\n",
    "\n",
    "# Load dataset\n",
    "iris = load_iris()\n",
    "X = iris.data\n",
    "y = iris.target\n",
    "\n",
    "X_train, X_test, y_train, y_test = train_test_split(X, y, test_size=0.2, random_state=42)\n",
    "\n",
    "clf = DecisionTreeClassifier()\n",
    "\n",
    "clf.fit(X_train, y_train)\n",
    "\n",
    "# Make predictions\n",
    "y_pred = clf.predict(X_test)\n",
    "\n",
    "# Evaluate accuracy\n",
    "accuracy = accuracy_score(y_test, y_pred)\n",
    "print(\"Accuracy:\", accuracy)\n"
   ]
  },
  {
   "cell_type": "code",
   "execution_count": null,
   "id": "abd60ae3-95a1-4459-84a2-6445c543ef8b",
   "metadata": {},
   "outputs": [],
   "source": []
  }
 ],
 "metadata": {
  "kernelspec": {
   "display_name": "Python 3 (ipykernel)",
   "language": "python",
   "name": "python3"
  },
  "language_info": {
   "codemirror_mode": {
    "name": "ipython",
    "version": 3
   },
   "file_extension": ".py",
   "mimetype": "text/x-python",
   "name": "python",
   "nbconvert_exporter": "python",
   "pygments_lexer": "ipython3",
   "version": "3.11.7"
  }
 },
 "nbformat": 4,
 "nbformat_minor": 5
}
