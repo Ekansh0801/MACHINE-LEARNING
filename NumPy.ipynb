{
 "cells": [
  {
   "cell_type": "markdown",
   "id": "6532dd36-3f89-4b4f-a45d-94ac40f1655c",
   "metadata": {},
   "source": [
    "### NumPy Library"
   ]
  },
  {
   "cell_type": "code",
   "execution_count": 2,
   "id": "85348dc1-09e2-4220-9fa3-3f948480fe9d",
   "metadata": {},
   "outputs": [
    {
     "name": "stdout",
     "output_type": "stream",
     "text": [
      "[0, 1, 2, 3, 4, 5, 6, 7, 8, 9, 10, 11, 12, 13, 14, 15, 16, 17, 18, 19, 20, 21, 22, 23, 24, 25, 26, 27, 28, 29, 30, 31, 32, 33, 34, 35, 36, 37, 38, 39, 40, 41, 42, 43, 44, 45, 46, 47, 48, 49, 50, 51, 52, 53, 54, 55, 56, 57, 58, 59, 60, 61, 62, 63, 64, 65, 66, 67, 68, 69, 70, 71, 72, 73, 74, 75, 76, 77, 78, 79, 80, 81, 82, 83, 84, 85, 86, 87, 88, 89, 90, 91, 92, 93, 94, 95, 96, 97, 98, 99]\n",
      "[ 0  1  2  3  4  5  6  7  8  9 10 11 12 13 14 15 16 17 18 19 20 21 22 23\n",
      " 24 25 26 27 28 29 30 31 32 33 34 35 36 37 38 39 40 41 42 43 44 45 46 47\n",
      " 48 49 50 51 52 53 54 55 56 57 58 59 60 61 62 63 64 65 66 67 68 69 70 71\n",
      " 72 73 74 75 76 77 78 79 80 81 82 83 84 85 86 87 88 89 90 91 92 93 94 95\n",
      " 96 97 98 99]\n"
     ]
    }
   ],
   "source": [
    "import numpy as np\n",
    "li_arr = [i for i in range(0,100)]\n",
    "np_arr = np.arange(100)\n",
    "\n",
    "print(li_arr)\n",
    "print(np_arr)"
   ]
  },
  {
   "cell_type": "code",
   "execution_count": 5,
   "id": "421cf4be-d597-4cd9-8ebd-4a6e75b99945",
   "metadata": {},
   "outputs": [
    {
     "name": "stdout",
     "output_type": "stream",
     "text": [
      "4\n",
      "400\n"
     ]
    }
   ],
   "source": [
    "## size of one element in numpy array\n",
    "print(np_arr.itemsize)\n",
    "\n",
    "## size of whole array\n",
    "print(np_arr.itemsize * np_arr.size)"
   ]
  },
  {
   "cell_type": "code",
   "execution_count": 12,
   "id": "a1a4264c-0dc9-45b9-8ca3-a7f448ddf703",
   "metadata": {},
   "outputs": [
    {
     "name": "stdout",
     "output_type": "stream",
     "text": [
      "28\n",
      "2800\n"
     ]
    }
   ],
   "source": [
    "import sys\n",
    "a = 10\n",
    "print(sys.getsizeof(a))\n",
    "print(sys.getsizeof(a) * len(li_arr))"
   ]
  },
  {
   "cell_type": "code",
   "execution_count": 14,
   "id": "d796c50c-b83e-4dde-976a-7fea04cd382c",
   "metadata": {},
   "outputs": [
    {
     "name": "stdout",
     "output_type": "stream",
     "text": [
      "[1 2 3 4]\n",
      "<class 'numpy.ndarray'>\n"
     ]
    }
   ],
   "source": [
    "import numpy as np\n",
    "a = [1,2,3,4]\n",
    "b = np.array(a)\n",
    "print(b)\n",
    "print(type(b))"
   ]
  },
  {
   "cell_type": "code",
   "execution_count": 19,
   "id": "f2899071-205e-4466-97bf-480105dfad6c",
   "metadata": {},
   "outputs": [
    {
     "name": "stdout",
     "output_type": "stream",
     "text": [
      "[1 2 3 4 5]\n",
      "<class 'numpy.ndarray'>\n"
     ]
    }
   ],
   "source": [
    "a = [1,2,3,'4',5.5]\n",
    "b = np.array(a,dtype = int)\n",
    "print(b)\n",
    "print(type(b))"
   ]
  },
  {
   "cell_type": "code",
   "execution_count": 20,
   "id": "1ff3880e-0808-4ad4-86ac-1f92a9c82c54",
   "metadata": {},
   "outputs": [
    {
     "name": "stdout",
     "output_type": "stream",
     "text": [
      "[[8 8 8]\n",
      " [8 8 8]\n",
      " [8 8 8]]\n"
     ]
    }
   ],
   "source": [
    "b = np.full((3,3),8)\n",
    "print(b)"
   ]
  },
  {
   "cell_type": "code",
   "execution_count": 24,
   "id": "07991fe0-18f3-4df1-bab9-4ee46f63d335",
   "metadata": {},
   "outputs": [
    {
     "name": "stdout",
     "output_type": "stream",
     "text": [
      "[[0. 0. 0.]\n",
      " [0. 0. 0.]\n",
      " [0. 0. 0.]]\n"
     ]
    }
   ],
   "source": [
    "c = np.empty((3,3))\n",
    "print(c)"
   ]
  },
  {
   "cell_type": "code",
   "execution_count": 31,
   "id": "a39a6b3d-88b3-4b47-a93e-c24928812c91",
   "metadata": {},
   "outputs": [
    {
     "name": "stdout",
     "output_type": "stream",
     "text": [
      "[[1 2 3]\n",
      " [4 5 6]\n",
      " [7 8 9]]\n"
     ]
    }
   ],
   "source": [
    "list = [[1,2,3],[4,5,6],[7,8,9]]\n",
    "np_array = np.array(list)\n",
    "print(np_array)"
   ]
  },
  {
   "cell_type": "code",
   "execution_count": 34,
   "id": "c2966343-c2d6-42e5-9118-9ff97337bf20",
   "metadata": {},
   "outputs": [
    {
     "name": "stdout",
     "output_type": "stream",
     "text": [
      "[0 0 0 0 5 0 0 0 0 0]\n"
     ]
    }
   ],
   "source": [
    "a = np.zeros(10,dtype = int)\n",
    "a[4] = 5\n",
    "print(a)"
   ]
  },
  {
   "cell_type": "code",
   "execution_count": 1,
   "id": "a443cdd0-3614-4a79-ba33-97dae25b3a80",
   "metadata": {},
   "outputs": [
    {
     "ename": "NameError",
     "evalue": "name 'np' is not defined",
     "output_type": "error",
     "traceback": [
      "\u001b[1;31m---------------------------------------------------------------------------\u001b[0m",
      "\u001b[1;31mNameError\u001b[0m                                 Traceback (most recent call last)",
      "Cell \u001b[1;32mIn[1], line 1\u001b[0m\n\u001b[1;32m----> 1\u001b[0m a \u001b[38;5;241m=\u001b[39m np\u001b[38;5;241m.\u001b[39marray([\u001b[38;5;241m1\u001b[39m, \u001b[38;5;241m2\u001b[39m, \u001b[38;5;241m3\u001b[39m, \u001b[38;5;241m4\u001b[39m])\n\u001b[0;32m      2\u001b[0m shape_a \u001b[38;5;241m=\u001b[39m a\u001b[38;5;241m.\u001b[39mshape\n",
      "\u001b[1;31mNameError\u001b[0m: name 'np' is not defined"
     ]
    }
   ],
   "source": [
    "a = np.array([1, 2, 3, 4])\n",
    "shape_a = a.shape"
   ]
  },
  {
   "cell_type": "code",
   "execution_count": 14,
   "id": "0e66e8c7-0613-4c30-95c2-3eee3e71d9a6",
   "metadata": {},
   "outputs": [
    {
     "data": {
      "text/plain": [
       "array([ 3,  6, 10])"
      ]
     },
     "execution_count": 14,
     "metadata": {},
     "output_type": "execute_result"
    }
   ],
   "source": [
    "import numpy as np\n",
    "a = np.linspace(3,10,3,dtype=int)\n",
    "a"
   ]
  },
  {
   "cell_type": "code",
   "execution_count": 22,
   "id": "e896cc36-c238-4e32-aad5-8b7e60b0c675",
   "metadata": {},
   "outputs": [
    {
     "data": {
      "text/plain": [
       "array([[[1, 1, 1],\n",
       "        [1, 1, 1],\n",
       "        [1, 1, 1],\n",
       "        [1, 1, 1],\n",
       "        [1, 1, 1]],\n",
       "\n",
       "       [[1, 1, 1],\n",
       "        [1, 1, 1],\n",
       "        [1, 1, 1],\n",
       "        [1, 1, 1],\n",
       "        [1, 1, 1]],\n",
       "\n",
       "       [[1, 1, 1],\n",
       "        [1, 1, 1],\n",
       "        [1, 1, 1],\n",
       "        [1, 1, 1],\n",
       "        [1, 1, 1]],\n",
       "\n",
       "       [[1, 1, 1],\n",
       "        [1, 1, 1],\n",
       "        [1, 1, 1],\n",
       "        [1, 1, 1],\n",
       "        [1, 1, 1]]])"
      ]
     },
     "execution_count": 22,
     "metadata": {},
     "output_type": "execute_result"
    }
   ],
   "source": [
    "b = np.ones((4,5,3),dtype=int)\n",
    "b"
   ]
  },
  {
   "cell_type": "code",
   "execution_count": 31,
   "id": "a31f6bfa-8d62-4b68-b42e-3300e17e7c6a",
   "metadata": {},
   "outputs": [
    {
     "data": {
      "text/plain": [
       "array([[6.41211134, 4.1082522 , 8.27317787, 2.94185846],\n",
       "       [8.57308462, 9.62099519, 7.0668603 , 3.96371341],\n",
       "       [2.42167165, 8.86028126, 5.68986229, 9.63123923],\n",
       "       [6.48532981, 5.18920401, 8.78985988, 2.91045719],\n",
       "       [5.17162344, 1.60401844, 5.29756035, 2.4701747 ]])"
      ]
     },
     "execution_count": 31,
     "metadata": {},
     "output_type": "execute_result"
    }
   ],
   "source": [
    "a = np.random.rand(5,4) * 10\n",
    "a"
   ]
  },
  {
   "cell_type": "markdown",
   "id": "d2e92a08-77dd-48d2-8d05-cbeb8d418a97",
   "metadata": {},
   "source": [
    "### randint"
   ]
  },
  {
   "cell_type": "code",
   "execution_count": 65,
   "id": "17b0cd83-ea68-4f64-ace0-842771b09147",
   "metadata": {},
   "outputs": [
    {
     "data": {
      "text/plain": [
       "array([[3, 8, 3, 7, 2],\n",
       "       [4, 6, 3, 3, 6],\n",
       "       [9, 4, 5, 6, 5],\n",
       "       [4, 3, 5, 2, 5]])"
      ]
     },
     "execution_count": 65,
     "metadata": {},
     "output_type": "execute_result"
    }
   ],
   "source": [
    "import numpy as np\n",
    "a = np.random.randint(1,10 ,size = (4,5))\n",
    "a"
   ]
  },
  {
   "cell_type": "code",
   "execution_count": 66,
   "id": "60779b5f-155e-4275-8e8f-96dac80e2de4",
   "metadata": {},
   "outputs": [
    {
     "name": "stdout",
     "output_type": "stream",
     "text": [
      "7\n",
      "5\n",
      "[7 2 3 4 1]\n",
      "[[28  6 39]\n",
      " [48  8 51]]\n"
     ]
    }
   ],
   "source": [
    "import numpy as np\n",
    "\n",
    "# Generate a single random integer between 0 and 10 (exclusive)\n",
    "random_int = np.random.randint(10)\n",
    "print(random_int)\n",
    "\n",
    "# Generate a single random integer between 5 and 10 (exclusive)\n",
    "random_int_range = np.random.randint(5, 10)\n",
    "print(random_int_range)\n",
    "\n",
    "# Generate a 1D array of 5 random integers between 0 and 10 (exclusive)\n",
    "array_1d = np.random.randint(0, 10, size=5)\n",
    "print(array_1d)\n",
    "\n",
    "# Generate a 2D array of shape (2, 3) with random integers between 1 and 100 (exclusive)\n",
    "array_2d = np.random.randint(1, 100, size=(2, 3))\n",
    "print(array_2d)"
   ]
  },
  {
   "cell_type": "code",
   "execution_count": 67,
   "id": "6bc20863-294b-44d7-8c09-b7d859f44d2b",
   "metadata": {},
   "outputs": [
    {
     "ename": "ValueError",
     "evalue": "low >= high",
     "output_type": "error",
     "traceback": [
      "\u001b[1;31m---------------------------------------------------------------------------\u001b[0m",
      "\u001b[1;31mValueError\u001b[0m                                Traceback (most recent call last)",
      "Cell \u001b[1;32mIn[67], line 1\u001b[0m\n\u001b[1;32m----> 1\u001b[0m np\u001b[38;5;241m.\u001b[39mrandom\u001b[38;5;241m.\u001b[39mrandint(\u001b[38;5;241m10\u001b[39m,\u001b[38;5;241m4\u001b[39m)\n",
      "File \u001b[1;32mmtrand.pyx:763\u001b[0m, in \u001b[0;36mnumpy.random.mtrand.RandomState.randint\u001b[1;34m()\u001b[0m\n",
      "File \u001b[1;32m_bounded_integers.pyx:1338\u001b[0m, in \u001b[0;36mnumpy.random._bounded_integers._rand_int32\u001b[1;34m()\u001b[0m\n",
      "\u001b[1;31mValueError\u001b[0m: low >= high"
     ]
    }
   ],
   "source": [
    "np.random.randint(10,4)"
   ]
  },
  {
   "cell_type": "code",
   "execution_count": 78,
   "id": "cf917904-3127-43df-8ce7-d1352e987a13",
   "metadata": {},
   "outputs": [
    {
     "data": {
      "text/plain": [
       "array([ 9, 10, 11, 12, 13, 14, 15, 16, 17, 18, 19, 20, 21, 22, 23, 24, 25,\n",
       "       26, 27, 28, 29, 30, 31, 32, 33, 34, 35, 36, 37, 38, 39, 40, 41, 42,\n",
       "       43, 44, 45, 46, 47, 48, 49])"
      ]
     },
     "execution_count": 78,
     "metadata": {},
     "output_type": "execute_result"
    }
   ],
   "source": [
    "import numpy as np\n",
    "a = np.arange(9,50)\n",
    "a"
   ]
  },
  {
   "cell_type": "code",
   "execution_count": 81,
   "id": "8220cb8c-b7dd-41d9-a064-2a36577a538d",
   "metadata": {},
   "outputs": [
    {
     "data": {
      "text/plain": [
       "array([[1, 0, 0, 0, 0, 0],\n",
       "       [0, 1, 0, 0, 0, 0],\n",
       "       [0, 0, 1, 0, 0, 0],\n",
       "       [0, 0, 0, 1, 0, 0],\n",
       "       [0, 0, 0, 0, 1, 0]])"
      ]
     },
     "execution_count": 81,
     "metadata": {},
     "output_type": "execute_result"
    }
   ],
   "source": [
    "b = np.eye(5,6, dtype = int)\n",
    "b"
   ]
  },
  {
   "cell_type": "code",
   "execution_count": 87,
   "id": "9037c39b-44db-4804-9be3-cadef4b7aa96",
   "metadata": {},
   "outputs": [
    {
     "data": {
      "text/plain": [
       "[0.0, 0.56, 1.11, 1.67, 2.22, 2.78, 3.33, 3.89, 4.44, 5.0]"
      ]
     },
     "execution_count": 87,
     "metadata": {},
     "output_type": "execute_result"
    }
   ],
   "source": [
    "c = np.linspace(0,5,10, dtype = float)\n",
    "d = []\n",
    "for x in c:\n",
    "    d.append(round(x,2))\n",
    "\n",
    "d"
   ]
  },
  {
   "cell_type": "code",
   "execution_count": 89,
   "id": "b921340b-aee3-43f8-b156-d7697a851bd8",
   "metadata": {},
   "outputs": [
    {
     "name": "stdout",
     "output_type": "stream",
     "text": [
      "[[ 1  2  3  4  5]\n",
      " [ 6  7  8  9 10]\n",
      " [11 12 13 14 15]\n",
      " [16 17 18 19 20]]\n"
     ]
    }
   ],
   "source": [
    "li = [[1,2,3,4,5],[6,7,8,9,10],[11,12,13,14,15],[16,17,18,19,20]]\n",
    "import numpy as np\n",
    "np_array = np.array(li)\n",
    "print(np_array)"
   ]
  },
  {
   "cell_type": "code",
   "execution_count": 93,
   "id": "ef492e79-37cf-4c55-9777-1d8f6da3dbd1",
   "metadata": {},
   "outputs": [
    {
     "name": "stdout",
     "output_type": "stream",
     "text": [
      "[11 12 13]\n",
      "[ 9 14 19]\n",
      "[[11 12 13 14 15]\n",
      " [16 17 18 19 20]]\n",
      "[[ 7  8]\n",
      " [12 13]]\n"
     ]
    }
   ],
   "source": [
    "print(np_array[2,:3])\n",
    "print(np_array[1:4,3])\n",
    "print(np_array[2:4,:5])\n",
    "print(np_array[1:3,1:3])"
   ]
  },
  {
   "cell_type": "code",
   "execution_count": 95,
   "id": "9a326daa-8452-4aa6-be91-8aa0f67baa5c",
   "metadata": {},
   "outputs": [
    {
     "name": "stdout",
     "output_type": "stream",
     "text": [
      "[1, 2, 3, 4, 5]\n",
      "[ 2  7 18 13 11]\n",
      "[ 4  3  4  8 17]\n"
     ]
    }
   ],
   "source": [
    "import numpy as np\n",
    "\n",
    "li = [1,2,3,4,5]\n",
    "a = np.random.randint(1,20,5)\n",
    "b = np.random.randint(1,20,5)\n",
    "\n",
    "print(li)\n",
    "print(a)\n",
    "print(b)"
   ]
  },
  {
   "cell_type": "code",
   "execution_count": 97,
   "id": "df0d0c1c-1e98-4216-b2ee-5f4f2311bb9d",
   "metadata": {},
   "outputs": [
    {
     "name": "stdout",
     "output_type": "stream",
     "text": [
      "[3, 4, 5, 6, 7]\n",
      "[ 3  8 19 14 12]\n"
     ]
    }
   ],
   "source": [
    "li = [i + 1 for i in li]\n",
    "print(li)\n",
    "\n",
    "a = a + 1\n",
    "print(a)"
   ]
  },
  {
   "cell_type": "code",
   "execution_count": 104,
   "id": "3587d285-8296-4865-b9c6-48542e4f2c7d",
   "metadata": {},
   "outputs": [
    {
     "name": "stdout",
     "output_type": "stream",
     "text": [
      "[1 2 4]\n",
      "(array([0, 1, 4], dtype=int64),)\n",
      "[array([0, 1, 4], dtype=int64)]\n"
     ]
    }
   ],
   "source": [
    "import numpy as np\n",
    "li = [1,2,0,0,4,0]\n",
    "\n",
    "arr = np.array(li)\n",
    "print(arr[arr != 0])\n",
    "ind = np.where(arr != 0)\n",
    "print(ind)"
   ]
  },
  {
   "cell_type": "code",
   "execution_count": 109,
   "id": "fad8f8c8-f716-4800-b23c-0a32573f5c6f",
   "metadata": {},
   "outputs": [
    {
     "name": "stdout",
     "output_type": "stream",
     "text": [
      "(array([1, 4, 7], dtype=int64),)\n"
     ]
    }
   ],
   "source": [
    "import numpy as np\n",
    "li = [1,3,5,7,9,11,13,15,17,19]\n",
    "arr = np.array(li)\n",
    "mul = arr[arr % 3 == 0]\n",
    "mul\n",
    "ind = np.where(arr % 3 == 0)\n",
    "print(ind)"
   ]
  },
  {
   "cell_type": "code",
   "execution_count": 113,
   "id": "c6dc7613-2754-4568-907b-740b45d1a6ec",
   "metadata": {},
   "outputs": [
    {
     "name": "stdout",
     "output_type": "stream",
     "text": [
      "[-1  2 -1  4 -1  6 -1  8 -1 10]\n"
     ]
    }
   ],
   "source": [
    "import numpy as np\n",
    "arr = np.arange(1,11)\n",
    "arr[arr & 1 == 1] = -1\n",
    "print(arr)"
   ]
  },
  {
   "cell_type": "code",
   "execution_count": 122,
   "id": "72177100-e1a9-47c9-a30f-9da2b1ac160c",
   "metadata": {},
   "outputs": [
    {
     "data": {
      "text/plain": [
       "array([11,  2, 13,  4, 15,  6,  0,  8, 19])"
      ]
     },
     "execution_count": 122,
     "metadata": {},
     "output_type": "execute_result"
    }
   ],
   "source": [
    "import numpy as np\n",
    "li = [11,2,13,4,15,6,27,8,19]\n",
    "arr = np.array(li)\n",
    "a =  arr.argmax()\n",
    "arr[a] = 0\n",
    "arr"
   ]
  },
  {
   "cell_type": "code",
   "execution_count": 126,
   "id": "65a644e2-1a50-456a-b44c-de4185c212f7",
   "metadata": {},
   "outputs": [
    {
     "name": "stdout",
     "output_type": "stream",
     "text": [
      "[ 1  2 -4 -5 -6 -7 -8 -9  9 10]\n"
     ]
    }
   ],
   "source": [
    "import numpy as np\n",
    "\n",
    "arr = np.arange(1, 11)  # Create array from 1 to 10\n",
    "mask = (arr >= 3) & (arr <= 8)  # Create boolean mask for values between 3 and 8\n",
    "arr[mask] = ~arr[mask]  # Negate values between 3 and 8\n",
    "\n",
    "print(arr)\n"
   ]
  },
  {
   "cell_type": "code",
   "execution_count": 127,
   "id": "74100144-5269-44a1-b1dc-fbfcaf8f57b7",
   "metadata": {},
   "outputs": [
    {
     "name": "stdout",
     "output_type": "stream",
     "text": [
      "Heights: [181 152 179 186 161 184 190 153 172 192 184 144 188 174 171 183 191 176\n",
      " 197 197]\n",
      "Ages: [67 40 19 22 67 53 26 22 48 57 26 64 48 32 64 30 45 77 23 39]\n"
     ]
    }
   ],
   "source": [
    "import numpy as np\n",
    "\n",
    "# Heights array (in centimeters)\n",
    "heights = np.random.randint(140, 200, size=20)\n",
    "\n",
    "# Ages array (in years)\n",
    "ages = np.random.randint(18, 80, size=20)\n",
    "\n",
    "print(\"Heights:\", heights)\n",
    "print(\"Ages:\", ages)"
   ]
  },
  {
   "cell_type": "code",
   "execution_count": 129,
   "id": "732227f5-0ab9-400b-9cca-9bf923c98198",
   "metadata": {},
   "outputs": [
    {
     "name": "stdout",
     "output_type": "stream",
     "text": [
      "(array([ 0,  2,  3,  4,  5,  6,  8,  9, 10, 12, 13, 14, 15, 16, 17, 18, 19],\n",
      "      dtype=int64),)\n"
     ]
    }
   ],
   "source": [
    "ind = np.where(heights > 155)\n",
    "print(ind)"
   ]
  },
  {
   "cell_type": "code",
   "execution_count": 130,
   "id": "ec8a9395-5d4c-477f-b58f-d19e3f8e1d52",
   "metadata": {},
   "outputs": [
    {
     "name": "stdout",
     "output_type": "stream",
     "text": [
      "[67 19 22 67 53 26 48 57 26 48 32 64 30 45 77 23 39]\n"
     ]
    }
   ],
   "source": [
    "print(ages[ind])"
   ]
  },
  {
   "cell_type": "code",
   "execution_count": 1,
   "id": "d838f22e-9962-49c1-9561-be6d87864cc3",
   "metadata": {},
   "outputs": [
    {
     "data": {
      "text/plain": [
       "array([[13, 16,  1, 11,  9, 15],\n",
       "       [ 7, 13, 20, 29,  2, 12],\n",
       "       [26, 18, 25,  6, 29, 21],\n",
       "       [27, 27,  4,  3, 12, 28],\n",
       "       [21,  4, 15, 19, 22, 23]])"
      ]
     },
     "execution_count": 1,
     "metadata": {},
     "output_type": "execute_result"
    }
   ],
   "source": [
    "import numpy as np\n",
    "a = np.random.randint(1,30,(5,6))\n",
    "a"
   ]
  },
  {
   "cell_type": "code",
   "execution_count": 6,
   "id": "099fb2ff-9ed9-4a55-95ab-479d5c971f6a",
   "metadata": {},
   "outputs": [
    {
     "name": "stdout",
     "output_type": "stream",
     "text": [
      "[[False False False False False False]\n",
      " [False False False  True False False]\n",
      " [ True False  True False  True  True]\n",
      " [ True  True False False False  True]\n",
      " [ True False False False  True  True]]\n",
      "[29 26 25 29 21 27 27 28 21 22 23]\n"
     ]
    }
   ],
   "source": [
    "arr = a > 20\n",
    "print(arr)\n",
    "\n",
    "b = a[arr]\n",
    "print(b)"
   ]
  },
  {
   "cell_type": "code",
   "execution_count": 7,
   "id": "85b51e8e-5bb9-49d2-bed3-d28e8028d803",
   "metadata": {},
   "outputs": [],
   "source": [
    "a[arr] = 100"
   ]
  },
  {
   "cell_type": "code",
   "execution_count": 8,
   "id": "9d884f11-74e3-4923-98e5-0ab30a36ea7b",
   "metadata": {},
   "outputs": [
    {
     "data": {
      "text/plain": [
       "array([[ 13,  16,   1,  11,   9,  15],\n",
       "       [  7,  13,  20, 100,   2,  12],\n",
       "       [100,  18, 100,   6, 100, 100],\n",
       "       [100, 100,   4,   3,  12, 100],\n",
       "       [100,   4,  15,  19, 100, 100]])"
      ]
     },
     "execution_count": 8,
     "metadata": {},
     "output_type": "execute_result"
    }
   ],
   "source": [
    "a"
   ]
  },
  {
   "cell_type": "code",
   "execution_count": 9,
   "id": "6f7daaad-a97e-4937-a4af-75223ccf9cdf",
   "metadata": {},
   "outputs": [
    {
     "name": "stdout",
     "output_type": "stream",
     "text": [
      "[False  True False False False]\n"
     ]
    }
   ],
   "source": [
    "bool_arr = a[:,3] == 100\n",
    "print(bool_arr)"
   ]
  },
  {
   "cell_type": "code",
   "execution_count": 10,
   "id": "e835fe47-abba-4058-a1b1-5dc544429d31",
   "metadata": {},
   "outputs": [
    {
     "name": "stdout",
     "output_type": "stream",
     "text": [
      "[[  7  13  20 100   2  12]]\n"
     ]
    }
   ],
   "source": [
    "print(a[bool_arr])"
   ]
  },
  {
   "cell_type": "code",
   "execution_count": 11,
   "id": "133acc11-d6c8-4941-8822-989ad07e8151",
   "metadata": {},
   "outputs": [
    {
     "name": "stdout",
     "output_type": "stream",
     "text": [
      "[[ 13  16   1  11   9  15]\n",
      " [  7  13  20  99   2  12]\n",
      " [100  18 100   6 100 100]\n",
      " [100 100   4   3  12 100]\n",
      " [100   4  15  19 100 100]]\n"
     ]
    }
   ],
   "source": [
    "a[bool_arr,3]=99\n",
    "print(a)"
   ]
  },
  {
   "cell_type": "code",
   "execution_count": 12,
   "id": "687f17f8-6318-4d00-94c6-025be12e0aa9",
   "metadata": {},
   "outputs": [
    {
     "name": "stdout",
     "output_type": "stream",
     "text": [
      "Sorted array by the 2nd column in ascending order:\n",
      "[[1 0 3 2 6]\n",
      " [3 2 5 4 1]\n",
      " [4 5 2 7 8]\n",
      " [9 8 7 6 5]]\n"
     ]
    }
   ],
   "source": [
    "import numpy as np\n",
    "\n",
    "# Sample 2D numpy array\n",
    "arr = np.array([[3, 2, 5, 4, 1],\n",
    "                [9, 8, 7, 6, 5],\n",
    "                [1, 0, 3, 2, 6],\n",
    "                [4, 5, 2, 7, 8]])\n",
    "\n",
    "# Get the indices that would sort the array by the second column (index 1)\n",
    "sorted_indices = arr[:, 1].argsort()\n",
    "\n",
    "# Use the sorted indices to rearrange the rows of the array\n",
    "sorted_arr = arr[sorted_indices]\n",
    "\n",
    "print(\"Sorted array by the 2nd column in ascending order:\")\n",
    "print(sorted_arr)\n"
   ]
  },
  {
   "cell_type": "code",
   "execution_count": 14,
   "id": "a904004e-ae1a-4248-a92b-ed05fb030e31",
   "metadata": {},
   "outputs": [
    {
     "data": {
      "text/plain": [
       "array([[27,  4,  5, 28, 10, 10],\n",
       "       [10,  6, 26, 17, 18, 23],\n",
       "       [ 2, 14, 20, 19, 26, 19],\n",
       "       [24, 19, 19, 16, 11,  1],\n",
       "       [28,  7,  8,  1, 25, 14]])"
      ]
     },
     "execution_count": 14,
     "metadata": {},
     "output_type": "execute_result"
    }
   ],
   "source": [
    "import numpy as np\n",
    "a = np.random.randint(1,30,(5,6))\n",
    "a"
   ]
  },
  {
   "cell_type": "code",
   "execution_count": 19,
   "id": "1499752a-b998-4785-9d36-018b7acea337",
   "metadata": {},
   "outputs": [
    {
     "data": {
      "text/plain": [
       "array([[1, 2, 4, 5, 0, 3],\n",
       "       [1, 0, 3, 4, 5, 2],\n",
       "       [0, 1, 3, 5, 2, 4],\n",
       "       [5, 4, 3, 1, 2, 0],\n",
       "       [3, 1, 2, 5, 4, 0]], dtype=int64)"
      ]
     },
     "execution_count": 19,
     "metadata": {},
     "output_type": "execute_result"
    }
   ],
   "source": [
    "sorted_indices = a[:,:].argsort()\n",
    "sorted_indices"
   ]
  },
  {
   "cell_type": "code",
   "execution_count": 16,
   "id": "ba07c065-8630-49b2-b48d-b919ef0233ee",
   "metadata": {},
   "outputs": [
    {
     "name": "stdout",
     "output_type": "stream",
     "text": [
      "[[27  4  5 28 10 10]\n",
      " [10  6 26 17 18 23]\n",
      " [28  7  8  1 25 14]\n",
      " [ 2 14 20 19 26 19]\n",
      " [24 19 19 16 11  1]]\n"
     ]
    }
   ],
   "source": [
    "sorted_arr = a[sorted_indices]\n",
    "print(sorted_arr)"
   ]
  },
  {
   "cell_type": "markdown",
   "id": "2be55ab6-0161-4c82-a085-065577cda737",
   "metadata": {},
   "source": [
    "### Broadcasting"
   ]
  },
  {
   "cell_type": "code",
   "execution_count": 20,
   "id": "ed570661-e8b7-4a71-98f6-ad81dc969029",
   "metadata": {},
   "outputs": [
    {
     "name": "stdout",
     "output_type": "stream",
     "text": [
      "[[9 4 5]\n",
      " [1 1 6]\n",
      " [9 4 4]]\n",
      "[7 4 7]\n"
     ]
    }
   ],
   "source": [
    "import numpy as np\n",
    "x = np.random.randint(1,10,(3,3))\n",
    "y = np.random.randint(1,10,3)\n",
    "print(x)\n",
    "print(y)"
   ]
  },
  {
   "cell_type": "code",
   "execution_count": 21,
   "id": "f379047b-5465-42a8-ba55-6a498fdb2257",
   "metadata": {},
   "outputs": [
    {
     "name": "stdout",
     "output_type": "stream",
     "text": [
      "[[ 2  0 -2]\n",
      " [-6 -3 -1]\n",
      " [ 2  0 -3]]\n"
     ]
    }
   ],
   "source": [
    "print(x - y)"
   ]
  },
  {
   "cell_type": "markdown",
   "id": "79cd09e0-607a-49d1-ad28-ed2b38a7aeb8",
   "metadata": {},
   "source": [
    "### Practice"
   ]
  },
  {
   "cell_type": "code",
   "execution_count": 5,
   "id": "2c34ae1e-ecd8-458d-8f18-b1ad3ca09471",
   "metadata": {},
   "outputs": [
    {
     "data": {
      "text/plain": [
       "array([4, 3, 4, 7, 6, 5, 6, 7, 3, 6])"
      ]
     },
     "execution_count": 5,
     "metadata": {},
     "output_type": "execute_result"
    }
   ],
   "source": [
    "import numpy as np\n",
    "a = np.random.randint(1,10,10)\n",
    "a"
   ]
  },
  {
   "cell_type": "code",
   "execution_count": 6,
   "id": "577e3d14-2854-41c6-8ee6-4ac41f7127c5",
   "metadata": {},
   "outputs": [
    {
     "data": {
      "text/plain": [
       "array([False, False, False,  True,  True,  True,  True,  True, False,\n",
       "        True])"
      ]
     },
     "execution_count": 6,
     "metadata": {},
     "output_type": "execute_result"
    }
   ],
   "source": [
    "bool_arr = a > 4\n",
    "bool_arr"
   ]
  },
  {
   "cell_type": "code",
   "execution_count": 8,
   "id": "97ec528a-497d-421a-8236-366cfb04d259",
   "metadata": {},
   "outputs": [
    {
     "data": {
      "text/plain": [
       "array([7, 6, 5, 6, 7, 6])"
      ]
     },
     "execution_count": 8,
     "metadata": {},
     "output_type": "execute_result"
    }
   ],
   "source": [
    "new_arr = a[bool_arr]\n",
    "new_arr"
   ]
  },
  {
   "cell_type": "code",
   "execution_count": 17,
   "id": "2a761de6-6483-4f67-a62d-65cf778f05ab",
   "metadata": {},
   "outputs": [],
   "source": [
    "# a = [1,2,3,4,5]\n",
    "# a[:3] = 19\n",
    "# a\n",
    "\n",
    "# a = np.random.randint(1,10,10)\n",
    "# a[:3] = 19\n",
    "# a"
   ]
  },
  {
   "cell_type": "code",
   "execution_count": 23,
   "id": "ecede037-c833-41b2-85a3-b42c6ca013fb",
   "metadata": {},
   "outputs": [
    {
     "name": "stdout",
     "output_type": "stream",
     "text": [
      "[6 4 2 1 9 9 6 7 7 4]\n",
      "[19 19  2  1 19 19 19 19 19 19]\n"
     ]
    }
   ],
   "source": [
    "import numpy as np\n",
    "a = np.random.randint(1,10,10)\n",
    "print(a)\n",
    "a[a > 3] = 19\n",
    "print(a)"
   ]
  },
  {
   "cell_type": "code",
   "execution_count": 26,
   "id": "353aaa34-a5cc-4109-9a56-15eb4d39d5e8",
   "metadata": {},
   "outputs": [
    {
     "name": "stdout",
     "output_type": "stream",
     "text": [
      "[19 19 19 19 19 19 19 19]\n"
     ]
    }
   ],
   "source": [
    "print(a[a == 19])"
   ]
  },
  {
   "cell_type": "code",
   "execution_count": 27,
   "id": "deccd4d0-3776-497e-9953-d8d52130652f",
   "metadata": {},
   "outputs": [
    {
     "name": "stdout",
     "output_type": "stream",
     "text": [
      "(array([0, 1, 4, 5, 6, 7, 8, 9], dtype=int64),)\n"
     ]
    }
   ],
   "source": [
    "print(np.where(a == 19))"
   ]
  },
  {
   "cell_type": "code",
   "execution_count": 30,
   "id": "36ad1b4f-8430-4a16-8d35-ce007c9ede55",
   "metadata": {},
   "outputs": [
    {
     "name": "stdout",
     "output_type": "stream",
     "text": [
      "[6 2 1 8 9 6 5 2 3 5]\n",
      "[ True False False False False  True  True False False  True]\n",
      "[-6  2  1  8  9 -6 -5  2  3 -5]\n"
     ]
    }
   ],
   "source": [
    "import numpy as np\n",
    "\n",
    "# Create a random numpy array\n",
    "a = np.random.randint(1, 10, 10)\n",
    "print(a)\n",
    "\n",
    "# Create a boolean mask for elements between 3 and 8\n",
    "mask = (a > 3) & (a < 8)\n",
    "print(mask)\n",
    "\n",
    "# # Negate the elements identified by the mask\n",
    "a[mask] = -a[mask]\n",
    "\n",
    "print(a)"
   ]
  },
  {
   "cell_type": "code",
   "execution_count": 36,
   "id": "5a1ee58d-c2fc-4282-8f76-660d2ae232ff",
   "metadata": {},
   "outputs": [
    {
     "name": "stdout",
     "output_type": "stream",
     "text": [
      "Heights: [150 165 180 155 175 168 172 163 178 185]\n",
      "Ages: [25 30 35 40 45 28 33 38 43 50]\n"
     ]
    }
   ],
   "source": [
    "import numpy as np\n",
    "\n",
    "# Heights in centimeters\n",
    "heights = np.array([150, 165, 180, 155, 175, 168, 172, 163, 178, 185])\n",
    "\n",
    "# Ages in years\n",
    "ages = np.array([25, 30, 35, 40, 45, 28, 33, 38, 43, 50])\n",
    "\n",
    "print(\"Heights:\", heights)\n",
    "print(\"Ages:\", ages)"
   ]
  },
  {
   "cell_type": "code",
   "execution_count": 37,
   "id": "b7fc4be1-ec56-4f78-a932-6dbf22fbf38b",
   "metadata": {},
   "outputs": [
    {
     "name": "stdout",
     "output_type": "stream",
     "text": [
      "[False  True  True False  True  True  True  True  True  True]\n",
      "[30 35 45 28 33 38 43 50]\n"
     ]
    }
   ],
   "source": [
    "ind = heights > 155\n",
    "print(ind)\n",
    "print(ages[ind])"
   ]
  },
  {
   "cell_type": "code",
   "execution_count": 39,
   "id": "2640d32b-6e5f-4886-aec0-29dbba59189e",
   "metadata": {},
   "outputs": [
    {
     "data": {
      "text/plain": [
       "array([[ 1, 21,  8, 23, 26, 20],\n",
       "       [14, 26, 24, 14, 27, 28],\n",
       "       [ 9,  3, 15, 26, 19,  9],\n",
       "       [12, 20, 23,  4, 11,  5],\n",
       "       [18,  4, 11, 26, 18,  7]])"
      ]
     },
     "execution_count": 39,
     "metadata": {},
     "output_type": "execute_result"
    }
   ],
   "source": [
    "import numpy as np\n",
    "a = np.random.randint(1,30,(5,6))\n",
    "a"
   ]
  },
  {
   "cell_type": "code",
   "execution_count": 41,
   "id": "787a11a5-b87d-4c98-a7f6-a8d1a84fbb1d",
   "metadata": {},
   "outputs": [
    {
     "name": "stdout",
     "output_type": "stream",
     "text": [
      "[[False  True False  True  True False]\n",
      " [False  True  True False  True  True]\n",
      " [False False False  True False False]\n",
      " [False False  True False False False]\n",
      " [False False False  True False False]]\n"
     ]
    }
   ],
   "source": [
    "bool_arr = a > 20\n",
    "print(bool_arr)"
   ]
  },
  {
   "cell_type": "code",
   "execution_count": 42,
   "id": "aba9bf23-7e23-4c3c-9ab6-055ae4b7df0c",
   "metadata": {},
   "outputs": [
    {
     "name": "stdout",
     "output_type": "stream",
     "text": [
      "[21 23 26 26 24 27 28 26 23 26]\n"
     ]
    }
   ],
   "source": [
    "new_arr = a[bool_arr]\n",
    "print(new_arr)"
   ]
  },
  {
   "cell_type": "code",
   "execution_count": 44,
   "id": "13768a9a-742b-4318-a3cf-c243992c254c",
   "metadata": {},
   "outputs": [
    {
     "name": "stdout",
     "output_type": "stream",
     "text": [
      "[[  1 100   8 100 100  20]\n",
      " [ 14 100 100  14 100 100]\n",
      " [  9   3  15 100  19   9]\n",
      " [ 12  20 100   4  11   5]\n",
      " [ 18   4  11 100  18   7]]\n"
     ]
    }
   ],
   "source": [
    "a[bool_arr] = 100\n",
    "print(a)"
   ]
  },
  {
   "cell_type": "code",
   "execution_count": 45,
   "id": "ad9ac3d9-d596-41c0-bc6d-040588c48a4a",
   "metadata": {},
   "outputs": [
    {
     "data": {
      "text/plain": [
       "array([[False,  True, False,  True,  True, False],\n",
       "       [False,  True,  True, False,  True,  True],\n",
       "       [False, False, False,  True, False, False]])"
      ]
     },
     "execution_count": 45,
     "metadata": {},
     "output_type": "execute_result"
    }
   ],
   "source": [
    "cool_arr = a[:3] == 100\n",
    "cool_arr"
   ]
  },
  {
   "cell_type": "code",
   "execution_count": 46,
   "id": "1b5229cb-c6fa-4924-b718-93afadb9919d",
   "metadata": {},
   "outputs": [
    {
     "data": {
      "text/plain": [
       "array([[26,  4, 27, 25,  1, 10],\n",
       "       [12,  9, 21, 19,  5, 28],\n",
       "       [27, 13,  5, 15, 11, 20],\n",
       "       [ 6,  8, 26, 10,  9, 27],\n",
       "       [15, 23, 17, 12,  9, 26]])"
      ]
     },
     "execution_count": 46,
     "metadata": {},
     "output_type": "execute_result"
    }
   ],
   "source": [
    "import numpy as np\n",
    "a = np.random.randint(1,30,(5,6))\n",
    "a"
   ]
  },
  {
   "cell_type": "code",
   "execution_count": 51,
   "id": "a7ed8478-e793-478a-9e77-9bbed05fe988",
   "metadata": {},
   "outputs": [
    {
     "name": "stdout",
     "output_type": "stream",
     "text": [
      "[0 3 1 2 4]\n"
     ]
    }
   ],
   "source": [
    "sorted_indices = a[:,1].argsort()\n",
    "print(sorted_indices)"
   ]
  },
  {
   "cell_type": "code",
   "execution_count": 52,
   "id": "b91fac98-3f5b-4523-800a-244a853c4410",
   "metadata": {},
   "outputs": [
    {
     "name": "stdout",
     "output_type": "stream",
     "text": [
      "[[26  4 27 25  1 10]\n",
      " [ 6  8 26 10  9 27]\n",
      " [12  9 21 19  5 28]\n",
      " [27 13  5 15 11 20]\n",
      " [15 23 17 12  9 26]]\n"
     ]
    }
   ],
   "source": [
    "sorted_Arr = a[sorted_indices]\n",
    "print(sorted_Arr)"
   ]
  },
  {
   "cell_type": "markdown",
   "id": "7ad6ff7a-d942-4224-a184-0a43382dfe90",
   "metadata": {},
   "source": [
    "### CSV"
   ]
  },
  {
   "cell_type": "code",
   "execution_count": 94,
   "id": "9939e436-e696-46f2-9f3b-30cf53ae2e25",
   "metadata": {},
   "outputs": [
    {
     "name": "stdout",
     "output_type": "stream",
     "text": [
      "['0.0' '2.0' '7.0' ... '0.0' '0.0' '0.0']\n",
      "['0.0' '0.0' '0.0' ... '0.0' '0.0' '0.0']\n",
      "['0.0', '2.0', '7.0', '7.0', '39.0', '4.0', '1.0', '0.0', '0.0', '0.0', '3.0', '0.0', '3.0', '1.0', '1.0', '0.0', '', '4.0', '', '0.0', '8.0', '1.0', '9.0', '0.0', '0.0', '1.0', '0.0', '0.0', '0.0', '0.0', '0.0', '6.0', '5.0', '0.0', '0.0', '1.0', '0.0', '10.0', '2.0', '36.0', '0.0', '2.0', '1.0', '0.0', '1.0', '4.0', '9.0', '3.0', '6.0', '5.0', '', '1.0', '1.0', '6.0', '1.0', '1.0', '0.0', '0.0', '1.0', '0.0', '3.0', '0.0', '3.0', '2.0', '1.0', '1.0', '0.0', '0.0', '2.0', '1.0', '1.0', '1.0', '2.0', '1.0', '0.0', '2.0', '', '2.0', '75.0', '93.0', '11.0', '0.0', '1.0', '0.0', '0.0', '0.0', '0.0', '1.0', '', '10.0', '1.0', '1.0', '0.0', '6.0', '0.0', '0.0', '0.0', '2.0', '7.0', '1.0', '4.0', '1.0', '0.0', '0.0', '', '0.0', '0.0', '1.0', '1.0', '2.0', '0.0', '1.0', '3.0', '3.0', '1.0', '1.0', '0.0', '0.0', '2.0', '0.0', '0.0', '0.0', '', '', '', '2.0', '3.0', '6.0', '1.0', '8.0', '0.0', '5.0', '0.0', '1.0', '4.0', '3.0', '1.0', '6.0', '12.0', '0.0', '1.0', '0.0', '4.0', '0.0', '0.0', '1.0', '0.0', '0.0', '1.0', '0.0', '0.0', '1.0', '0.0', '0.0', '0.0', '0.0', '8.0', '', '1.0', '2.0', '0.0', '5.0', '', '0.0', '6.0', '13.0', '0.0', '1.0', '1.0', '1.0', '2.0', '4.0', '2.0', '3.0', '3.0', '1.0', '1.0', '0.0', '0.0', '1.0', '7.0', '1.0', '0.0', '0.0', '0.0', '0.0', '3.0', '0.0', '0.0', '1.0', '1.0', '20.0', '43.0', '2.0', '0.0', '1.0', '1.0', '20.0', '0.0', '1.0', '0.0', '0.0', '0.0', '1.0', '0.0', '1.0', '5.0', '12.0', '7.0', '2.0', '6.0', '4.0', '0.0', '1.0', '3.0', '2.0', '2.0', '4.0', '2.0', '2.0', '0.0', '0.0', '11.0', '5.0', '0.0', '1.0', '2.0', '14.0', '0.0', '1.0', '1.0', '1.0', '1.0', '0.0', '0.0', '1.0', '8.0', '10.0', '2.0', '3.0', '1.0', '4.0', '0.0', '12.0', '1.0', '1.0', '0.0', '1.0', '3.0', '0.0', '0.0', '15.0', '0.0', '0.0', '8.0', '20.0', '20.0', '12.0', '1.0', '1.0', '1.0', '', '1.0', '0.0', '8.0', '2.0', '1.0', '0.0', '0.0', '0.0', '0.0', '0.0', '1.0', '1.0', '0.0', '3.0', '0.0', '1.0', '0.0', '1.0', '', '', '', '', '', '', '', '', '0.0', '0.0', '0.0', '1.0', '0.0', '4.0', '2.0', '2.0', '3.0', '0.0', '17.0', '5.0', '0.0', '0.0', '5.0', '5.0', '3.0', '0.0', '0.0', '1.0', '0.0', '0.0', '1.0', '2.0', '0.0', '2.0', '1.0', '12.0', '1.0', '0.0', '4.0', '', '1.0', '1.0', '1.0', '2.0', '0.0', '0.0', '2.0', '0.0', '5.0', '2.0', '2.0', '1.0', '1.0', '1.0', '0.0', '0.0', '0.0', '0.0', '0.0', '0.0', '0.0', '0.0', '17.0', '1.0', '4.0', '1.0', '1.0', '1.0', '2.0', '0.0', '0.0', '0.0', '9.0', '13.0', '0.0', '1.0', '2.0', '', '4.0', '0.0', '1.0', '8.0', '3.0', '2.0', '8.0', '0.0', '1.0', '0.0', '0.0', '1.0', '2.0', '0.0', '0.0', '8.0', '1.0', '0.0', '0.0', '1.0', '1.0', '0.0', '0.0', '0.0', '0.0', '0.0', '', '', '0.0', '7.0', '3.0', '1.0', '0.0', '0.0', '1.0', '0.0', '0.0', '0.0', '0.0', '0.0', '5.0', '0.0', '0.0', '7.0', '10.0', '0.0', '1.0', '0.0', '', '0.0', '0.0', '10.0', '0.0', '1.0', '4.0', '1.0', '13.0', '0.0', '2.0', '2.0', '1.0', '', '1.0', '1.0', '1.0', '1.0', '0.0', '0.0', '5.0', '0.0', '10.0', '1.0', '0.0', '1.0', '1.0', '1.0', '1.0', '23.0', '0.0', '0.0', '2.0', '1.0', '2.0', '0.0', '0.0', '6.0', '0.0', '', '', '', '', '', '', '', '', '1.0', '9.0', '', '3.0', '1.0', '1.0', '1.0', '0.0', '0.0', '7.0', '0.0', '', '', '2.0', '3.0', '0.0', '', '', '', '', '', '6.0', '', '82.0', '', '2.0', '1.0', '17.0', '3.0', '2.0', '0.0', '0.0', '0.0', '0.0', '0.0', '2.0', '0.0', '1.0', '0.0', '0.0', '0.0', '0.0', '0.0', '0.0', '0.0', '0.0', '0.0', '0.0', '0.0', '', '7.0', '3.0', '0.0', '2.0', '2.0', '2.0', '3.0', '0.0', '3.0', '3.0', '2.0', '1.0', '0.0', '1.0', '3.0', '6.0', '1.0', '', '7.0', '4.0', '1.0', '0.0', '1.0', '8.0', '1.0', '1.0', '0.0', '0.0', '0.0', '0.0', '0.0', '1.0', '0.0', '22.0', '21.0', '1.0', '2.0', '0.0', '0.0', '0.0', '0.0', '1.0', '10.0', '10.0', '1.0', '5.0', '7.0', '0.0', '0.0', '3.0', '2.0', '2.0', '3.0', '0.0', '0.0', '2.0', '0.0', '0.0', '2.0', '26.0', '2.0', '2.0', '2.0', '4.0', '0.0', '', '', '3.0', '14.0', '0.0', '0.0', '0.0', '11.0', '0.0', '1.0', '0.0', '0.0', '0.0', '0.0', '0.0', '1.0', '0.0', '4.0', '0.0', '2.0', '5.0', '1.0', '0.0', '3.0', '0.0', '6.0', '0.0', '', '1.0', '5.0', '2.0', '', '1.0', '0.0', '1.0', '1.0', '1.0', '1.0', '0.0', '34.0', '5.0', '2.0', '1.0', '0.0', '0.0', '5.0', '0.0', '3.0', '0.0', '', '0.0', '0.0', '4.0', '1.0', '1.0', '0.0', '1.0', '0.0', '0.0', '0.0', '0.0', '2.0', '0.0', '0.0', '1.0', '3.0', '0.0', '1.0', '0.0', '0.0', '1.0', '1.0', '0.0', '0.0', '0.0', '1.0', '1.0', '5.0', '0.0', '2.0', '1.0', '0.0', '', '7.0', '7.0', '0.0', '0.0', '0.0', '1.0', '34.0', '3.0', '0.0', '9.0', '3.0', '0.0', '0.0', '1.0', '0.0', '0.0', '0.0', '0.0', '0.0', '0.0', '0.0', '0.0', '2.0', '3.0', '0.0', '0.0', '1.0', '1.0', '0.0', '2.0', '0.0', '1.0', '1.0', '0.0', '0.0', '', '0.0', '0.0', '0.0', '0.0', '1.0', '0.0', '1.0', '0.0', '0.0', '0.0', '0.0', '0.0', '0.0', '0.0', '0.0', '0.0', '0.0', '0.0', '2.0', '1.0', '1.0', '1.0', '', '1.0', '0.0', '1.0', '5.0', '0.0', '1.0', '0.0', '79.0', '2.0', '7.0', '7.0', '0.0', '3.0', '7.0', '0.0', '0.0', '0.0', '0.0', '1.0', '0.0', '3.0', '1.0', '4.0', '0.0', '1.0', '0.0', '', '', '', '0.0', '3.0', '0.0', '0.0', '0.0', '0.0', '0.0', '0.0', '0.0', '10.0', '0.0', '0.0', '0.0', '0.0', '0.0', '1.0', '1.0', '0.0', '1.0', '1.0', '15.0', '1.0', '1.0', '3.0', '4.0', '2.0', '3.0', '7.0', '', '0.0', '41.0', '2.0', '0.0', '1.0', '1.0', '0.0', '6.0', '1.0', '2.0', '0.0', '4.0', '0.0', '2.0', '1.0', '1.0', '0.0', '0.0', '5.0', '0.0', '0.0', '0.0', '1.0', '19.0', '1.0', '9.0', '4.0', '14.0', '0.0', '1.0', '3.0', '1.0', '0.0', '0.0', '3.0', '1.0', '0.0', '0.0', '0.0', '35.0', '3.0', '2.0', '1.0', '2.0', '0.0', '0.0', '0.0', '0.0', '0.0', '0.0', '0.0', '1.0', '0.0', '1.0', '1.0', '0.0', '32.0', '', '0.0', '3.0', '2.0', '1.0', '1.0', '1.0', '1.0', '1.0', '0.0', '35.0', '1.0', '1.0', '1.0', '0.0', '0.0', '0.0', '0.0', '0.0', '0.0', '0.0', '5.0', '0.0', '3.0', '0.0', '7.0', '2.0', '1.0', '2.0', '0.0', '1.0', '2.0', '1.0', '7.0', '0.0', '2.0', '0.0', '39.0', '2.0', '0.0', '0.0', '3.0', '2.0', '0.0', '', '1.0', '0.0', '0.0', '2.0', '0.0', '0.0', '1.0', '1.0', '1.0', '0.0', '0.0', '8.0', '1.0', '0.0', '3.0', '0.0', '0.0', '2.0', '3.0', '1.0', '', '0.0', '0.0', '1.0', '1.0', '1.0', '5.0', '0.0', '0.0', '1.0', '', '0.0', '1.0', '0.0', '3.0', '0.0', '1.0', '0.0', '2.0', '0.0', '0.0', '0.0', '0.0', '1.0', '0.0', '0.0', '0.0', '0.0', '0.0', '0.0', '1.0', '1.0', '1.0', '1.0', '', '', '20.0', '1.0', '1.0', '0.0', '0.0', '6.0', '1.0', '2.0', '4.0', '1.0', '0.0', '0.0', '0.0', '', '0.0', '1.0', '30.0', '0.0', '', '3.0', '0.0', '14.0', '13.0', '17.0', '8.0', '8.0', '1.0', '0.0', '0.0', '0.0', '0.0', '0.0', '', '0.0', '0.0', '0.0', '0.0', '0.0', '0.0', '0.0', '0.0', '0.0', '0.0', '0.0', '0.0', '0.0', '0.0', '0.0', '0.0', '0.0', '0.0', '0.0', '0.0', '0.0', '0.0', '0.0', '0.0', '0.0', '1.0', '0.0', '2.0', '0.0', '23.0', '5.0', '2.0', '2.0', '1.0', '4.0', '7.0', '0.0', '3.0', '0.0', '1.0', '', '0.0', '0.0', '0.0', '1.0', '0.0', '0.0', '0.0', '0.0', '', '0.0', '', '0.0', '0.0', '2.0', '0.0', '2.0', '2.0', '4.0', '1.0', '0.0', '1.0', '0.0', '1.0', '2.0', '5.0', '1.0', '4.0', '1.0', '0.0', '10.0', '1.0', '1.0', '1.0', '2.0', '', '', '0.0', '0.0', '3.0', '0.0', '2.0', '2.0', '1.0', '0.0', '0.0', '1.0', '2.0', '', '0.0', '22.0', '1.0', '0.0', '0.0', '', '1.0', '0.0', '12.0', '', '2.0', '', '0.0', '0.0', '0.0', '1.0', '1.0', '0.0', '0.0', '3.0', '0.0', '1.0', '0.0', '0.0', '0.0', '3.0', '0.0', '1.0', '0.0', '0.0', '1.0', '1.0', '6.0', '3.0', '1.0', '1.0', '1.0', '11.0', '0.0', '0.0', '1.0', '', '1.0', '0.0', '0.0', '11.0', '2.0', '0.0', '6.0', '1.0', '3.0', '0.0', '1.0', '0.0', '0.0', '0.0', '0.0', '1.0', '0.0', '0.0', '1.0', '1.0', '4.0', '1.0', '0.0', '0.0', '1.0', '0.0', '1.0', '0.0', '3.0', '1.0', '0.0', '8.0', '1.0', '1.0', '', '0.0', '0.0', '0.0', '', '6.0', '0.0', '0.0', '1.0', '0.0', '0.0', '1.0', '0.0', '0.0', '2.0', '0.0', '2.0', '14.0', '', '1.0', '0.0', '0.0', '5.0', '5.0', '2.0', '1.0', '1.0', '1.0', '7.0', '1.0', '3.0', '1.0', '0.0', '0.0', '0.0', '2.0', '30.0', '2.0', '', '1.0', '0.0', '4.0', '0.0', '0.0', '', '7.0', '0.0', '0.0', '0.0', '0.0', '1.0', '0.0', '0.0', '1.0', '1.0', '1.0', '1.0', '0.0', '', '4.0', '0.0', '0.0', '1.0', '1.0', '3.0', '', '3.0', '1.0', '', '1.0', '1.0', '0.0', '0.0', '', '1.0', '1.0', '5.0', '1.0', '17.0', '17.0', '16.0', '3.0', '1.0', '2.0', '2.0', '2.0', '1.0', '0.0', '2.0', '1.0', '1.0', '3.0', '4.0', '0.0', '1.0', '0.0', '1.0', '0.0', '8.0', '8.0', '7.0', '0.0', '2.0', '', '0.0', '0.0', '', '1.0', '0.0', '16.0', '4.0', '1.0', '1.0', '2.0', '', '13.0', '0.0', '1.0', '2.0', '', '0.0', '1.0', '2.0', '1.0', '3.0', '1.0', '3.0', '', '0.0', '0.0', '0.0', '3.0', '0.0', '0.0', '1.0', '1.0', '0.0', '0.0', '0.0', '0.0', '0.0', '', '0.0', '0.0', '0.0', '1.0', '0.0', '0.0', '4.0', '8.0', '2.0', '0.0', '0.0', '1.0', '9.0', '3.0', '0.0', '26.0', '25.0', '0.0', '0.0', '2.0', '0.0', '0.0', '7.0', '2.0', '1.0', '', '', '', '10.0', '0.0', '40.0', '8.0', '1.0', '2.0', '3.0', '', '0.0', '1.0', '5.0', '0.0', '1.0', '2.0', '0.0', '2.0', '0.0', '1.0', '0.0', '0.0', '1.0', '7.0', '10.0', '0.0', '17.0', '0.0', '0.0', '0.0', '', '0.0', '0.0', '1.0', '91.0', '45.0', '3.0', '1.0', '2.0', '0.0', '0.0', '1.0', '0.0', '1.0', '0.0', '38.0', '0.0', '2.0', '0.0', '2.0', '0.0', '0.0', '1.0', '0.0', '0.0', '0.0', '4.0', '1.0', '2.0', '1.0', '0.0', '0.0', '0.0', '0.0', '0.0', '0.0', '0.0', '2.0', '1.0', '5.0', '0.0', '18.0', '0.0', '0.0', '2.0', '4.0', '4.0', '3.0', '0.0', '0.0', '0.0', '0.0', '2.0', '4.0', '0.0', '0.0', '8.0', '0.0', '6.0', '2.0', '2.0', '1.0', '0.0', '', '6.0', '35.0', '1.0', '6.0', '0.0', '4.0', '25.0', '1.0', '0.0', '0.0', '0.0', '1.0', '1.0', '0.0', '0.0', '2.0', '0.0', '34.0', '3.0', '1.0', '0.0', '0.0', '9.0', '1.0', '0.0', '0.0', '40.0', '0.0', '1.0', '10.0', '2.0', '2.0', '0.0', '0.0', '0.0', '4.0', '3.0', '3.0', '1.0', '7.0', '1.0', '3.0', '0.0', '0.0', '1.0', '1.0', '2.0', '0.0', '6.0', '0.0', '1.0', '1.0', '1.0', '1.0', '0.0', '0.0', '0.0', '0.0', '2.0', '0.0', '0.0', '0.0', '0.0', '2.0', '1.0', '0.0', '0.0', '1.0', '0.0', '0.0', '0.0', '7.0', '7.0', '6.0', '', '1.0', '', '0.0', '0.0', '7.0', '1.0', '0.0', '1.0', '0.0', '1.0', '10.0', '0.0', '2.0', '0.0', '4.0', '2.0', '0.0', '9.0', '5.0', '0.0', '0.0', '0.0', '0.0', '0.0', '1.0', '0.0', '1.0', '1.0', '0.0', '1.0', '1.0', '14.0', '7.0', '0.0', '2.0', '3.0', '2.0', '2.0', '0.0', '2.0', '0.0', '0.0', '7.0', '1.0', '0.0', '24.0', '1.0', '0.0', '', '0.0', '2.0', '0.0', '0.0', '0.0', '2.0', '3.0', '13.0', '4.0', '15.0', '3.0', '1.0', '1.0', '0.0', '0.0', '0.0', '0.0', '1.0', '0.0', '0.0', '0.0', '2.0', '0.0', '10.0', '', '2.0', '0.0', '7.0', '1.0', '1.0', '1.0', '1.0', '0.0', '1.0', '1.0', '1.0', '0.0', '0.0', '1.0', '', '', '', '0.0', '4.0', '', '', '0.0', '0.0', '3.0', '3.0', '1.0', '1.0', '0.0', '24.0', '1.0', '0.0', '0.0', '0.0', '0.0', '0.0', '32.0', '0.0', '1.0', '1.0', '1.0', '0.0', '1.0', '0.0', '3.0', '0.0', '6.0', '2.0', '0.0', '78.0', '3.0', '3.0', '1.0', '0.0', '0.0', '15.0', '0.0', '2.0', '0.0', '', '1.0', '1.0', '15.0', '26.0', '5.0', '0.0', '0.0', '0.0', '', '1.0', '0.0', '1.0', '0.0', '', '1.0', '0.0', '0.0', '33.0', '15.0', '0.0', '0.0', '0.0', '2.0', '0.0', '0.0', '0.0', '0.0', '0.0', '0.0', '0.0', '0.0', '', '1.0', '0.0', '1.0', '6.0', '0.0', '0.0', '0.0', '0.0', '0.0', '0.0', '0.0', '0.0', '5.0', '0.0', '2.0', '0.0', '3.0', '1.0', '0.0', '1.0', '0.0', '0.0', '1.0', '0.0', '0.0', '1.0', '0.0', '0.0', '0.0', '0.0', '1.0', '0.0', '0.0', '3.0', '4.0', '14.0', '0.0', '1.0', '1.0', '3.0', '1.0', '1.0', '', '0.0', '0.0', '1.0', '1.0', '1.0', '2.0', '0.0', '1.0', '1.0', '0.0', '1.0', '1.0', '0.0', '0.0', '1.0', '0.0', '0.0', '1.0', '', '0.0', '0.0', '0.0', '0.0', '0.0', '0.0', '1.0', '1.0', '1.0', '1.0', '0.0', '', '1.0', '0.0', '0.0', '2.0', '2.0', '0.0', '0.0', '0.0', '0.0', '0.0', '0.0', '0.0', '0.0', '1.0', '2.0', '1.0', '11.0', '1.0', '4.0', '0.0', '0.0', '0.0', '0.0', '2.0', '2.0', '2.0', '32.0', '0.0', '0.0', '0.0', '0.0', '0.0', '1.0', '1.0', '2.0', '0.0', '0.0', '4.0', '4.0', '0.0', '0.0', '0.0', '1.0', '1.0', '6.0', '', '3.0', '8.0', '', '0.0', '', '0.0', '0.0', '0.0', '0.0', '16.0', '14.0', '1.0', '0.0', '0.0', '1.0', '0.0', '0.0', '0.0', '0.0', '2.0', '1.0', '0.0', '1.0', '', '0.0', '0.0', '0.0', '0.0', '5.0', '5.0', '4.0', '4.0', '4.0', '0.0', '0.0', '0.0', '0.0', '1.0', '0.0', '0.0', '2.0', '13.0', '1.0', '0.0', '0.0', '2.0', '', '', '0.0', '8.0', '8.0', '4.0', '', '0.0', '0.0', '0.0', '3.0', '1.0', '0.0', '0.0', '0.0', '0.0', '1.0', '3.0', '6.0', '1.0', '', '1.0', '0.0', '0.0', '0.0', '0.0', '1.0', '0.0', '0.0', '1.0', '0.0', '0.0', '0.0', '0.0', '0.0', '1.0', '0.0', '1.0', '5.0', '4.0', '', '2.0', '1.0', '3.0', '0.0', '', '0.0', '3.0', '0.0', '0.0', '0.0', '0.0', '0.0', '8.0', '0.0', '0.0', '0.0', '1.0', '0.0', '0.0', '6.0', '0.0', '0.0', '1.0', '0.0', '', '10.0', '2.0', '', '1.0', '0.0', '', '', '3.0', '0.0', '0.0', '0.0', '1.0', '1.0', '9.0', '0.0', '6.0', '0.0', '2.0', '0.0', '0.0', '1.0', '1.0', '6.0', '5.0', '0.0', '11.0', '9.0', '6.0', '1.0', '21.0', '', '1.0', '0.0', '', '0.0', '0.0', '0.0', '0.0', '1.0', '', '8.0', '1.0', '0.0', '9.0', '8.0', '8.0', '8.0', '0.0', '1.0', '0.0', '0.0', '0.0', '1.0', '1.0', '0.0', '4.0', '3.0', '8.0', '0.0', '4.0', '1.0', '30.0', '0.0', '0.0', '2.0', '1.0', '1.0', '5.0', '0.0', '0.0', '0.0', '0.0', '0.0', '0.0', '', '', '1.0', '0.0', '1.0', '1.0', '1.0', '0.0', '1.0', '0.0', '1.0', '3.0', '1.0', '0.0', '1.0', '0.0', '1.0', '0.0', '0.0', '7.0', '0.0', '0.0', '0.0', '1.0', '0.0', '0.0', '0.0', '0.0', '0.0', '0.0', '1.0', '', '0.0', '0.0', '0.0', '0.0', '0.0', '0.0', '0.0', '', '0.0', '0.0', '0.0', '0.0', '4.0', '1.0', '2.0', '54.0', '0.0', '', '0.0', '1.0', '2.0', '0.0', '1.0', '1.0', '0.0', '1.0', '1.0', '0.0', '1.0', '1.0', '0.0', '0.0', '1.0', '0.0', '0.0', '10.0', '10.0', '10.0', '0.0', '0.0', '0.0', '1.0', '0.0', '0.0', '', '1.0', '1.0', '0.0', '0.0', '0.0', '0.0', '0.0', '0.0', '1.0', '0.0', '3.0', '', '1.0', '0.0', '0.0', '0.0', '1.0', '', '1.0', '0.0', '1.0', '', '2.0', '0.0', '1.0', '0.0', '1.0', '0.0', '1.0', '1.0', '1.0', '0.0', '', '1.0', '3.0', '', '7.0', '0.0', '0.0', '0.0', '0.0', '9.0', '1.0', '0.0', '0.0', '', '2.0', '0.0', '1.0', '0.0', '0.0', '', '0.0', '0.0', '0.0', '0.0', '38.0', '38.0', '15.0', '11.0', '8.0', '1.0', '12.0', '4.0', '', '0.0', '0.0', '0.0', '2.0', '2.0', '0.0', '7.0', '1.0', '5.0', '0.0', '2.0', '4.0', '', '0.0', '', '0.0', '20.0', '1.0', '0.0', '0.0', '1.0', '0.0', '3.0', '3.0', '18.0', '1.0', '0.0', '0.0', '0.0', '0.0', '14.0', '1.0', '0.0', '23.0', '0.0', '1.0', '2.0', '1.0', '1.0', '1.0', '0.0', '1.0', '1.0', '0.0', '0.0', '0.0', '0.0', '0.0', '', '0.0', '0.0', '0.0', '1.0', '1.0', '0.0', '1.0', '1.0', '8.0', '11.0', '0.0', '2.0', '1.0', '2.0', '0.0', '1.0', '0.0', '4.0', '0.0', '1.0', '14.0', '0.0', '', '1.0', '0.0', '1.0', '2.0', '8.0', '15.0', '4.0', '3.0', '0.0', '0.0', '1.0', '0.0', '1.0', '0.0', '0.0', '0.0', '0.0', '1.0', '5.0', '1.0', '', '2.0', '1.0', '2.0', '0.0', '4.0', '4.0', '0.0', '1.0', '1.0', '0.0', '1.0', '0.0', '8.0', '1.0', '', '0.0', '1.0', '0.0', '0.0', '0.0', '0.0', '3.0', '0.0', '0.0', '0.0', '0.0', '3.0', '2.0', '1.0', '1.0', '32.0', '1.0', '1.0', '0.0', '0.0', '0.0', '8.0', '0.0', '1.0', '0.0', '0.0', '1.0', '6.0', '5.0', '0.0', '3.0', '1.0', '1.0', '0.0', '2.0', '0.0', '0.0', '1.0', '5.0', '0.0', '0.0', '0.0', '0.0', '9.0', '7.0', '0.0', '0.0', '0.0', '0.0', '0.0', '0.0', '1.0', '1.0', '4.0', '0.0', '2.0', '1.0', '5.0', '', '2.0', '0.0', '0.0', '1.0', '3.0', '8.0', '1.0', '3.0', '5.0', '2.0', '0.0', '', '16.0', '16.0', '1.0', '', '', '0.0', '0.0', '0.0', '0.0', '0.0', '0.0', '0.0', '0.0', '0.0', '0.0', '1.0', '0.0', '3.0', '1.0', '1.0', '2.0', '0.0', '0.0', '0.0', '0.0', '0.0', '0.0', '1.0', '1.0', '2.0', '3.0', '0.0', '0.0', '1.0', '0.0', '0.0', '0.0', '0.0', '1.0', '7.0', '1.0', '1.0', '2.0', '0.0', '1.0', '0.0', '0.0', '6.0', '0.0', '3.0', '0.0', '0.0', '1.0', '3.0', '0.0', '1.0', '28.0', '0.0', '0.0', '0.0', '0.0', '0.0', '0.0', '0.0', '1.0', '3.0', '2.0', '0.0', '0.0', '0.0', '1.0', '0.0', '20.0', '2.0', '1.0', '10.0', '10.0', '2.0', '1.0', '1.0', '1.0', '', '1.0', '2.0', '2.0', '0.0', '0.0', '0.0', '0.0', '4.0', '1.0', '', '27.0', '9.0', '8.0', '0.0', '3.0', '0.0', '0.0', '', '73.0', '1.0', '7.0', '', '7.0', '7.0', '0.0', '0.0', '1.0', '1.0', '1.0', '6.0', '5.0', '', '0.0', '0.0', '1.0', '1.0', '0.0', '1.0', '7.0', '1.0', '8.0', '', '6.0', '5.0', '8.0', '0.0', '1.0', '1.0', '0.0', '0.0', '0.0', '0.0', '0.0', '', '17.0', '17.0', '16.0', '', '', '', '0.0', '0.0', '2.0', '1.0', '2.0', '0.0', '6.0', '5.0', '1.0', '0.0', '1.0', '0.0', '0.0', '0.0', '1.0', '6.0', '1.0', '0.0', '1.0', '2.0', '1.0', '5.0', '2.0', '1.0', '1.0', '0.0', '0.0', '0.0', '0.0', '0.0', '3.0', '2.0', '1.0', '0.0', '0.0', '230.0', '0.0', '0.0', '1.0', '1.0', '2.0', '1.0', '1.0', '0.0', '0.0', '0.0', '0.0', '1.0', '5.0', '0.0', '', '1.0', '3.0', '1.0', '1.0', '0.0', '0.0', '10.0', '0.0', '5.0', '9.0', '1.0', '1.0', '3.0', '1.0', '0.0', '1.0', '0.0', '5.0', '0.0', '0.0', '3.0', '0.0', '2.0', '0.0', '1.0', '12.0', '39.0', '3.0', '1.0', '0.0', '3.0', '1.0', '0.0', '0.0', '1.0', '0.0', '2.0', '0.0', '4.0', '0.0', '0.0', '0.0', '', '0.0', '0.0', '1.0', '1.0', '0.0', '1.0', '0.0', '0.0', '0.0', '0.0', '0.0', '4.0', '3.0', '1.0', '5.0', '0.0', '2.0', '16.0', '1.0', '3.0', '0.0', '0.0', '0.0', '0.0', '0.0', '0.0', '3.0', '1.0', '3.0', '1.0', '0.0', '4.0', '1.0', '3.0', '1.0', '6.0', '2.0', '0.0', '1.0', '0.0', '1.0', '0.0', '3.0', '0.0', '1.0', '0.0', '0.0', '0.0', '0.0', '2.0', '0.0', '0.0', '3.0', '0.0', '1.0', '0.0', '5.0', '4.0', '49.0', '1.0', '1.0', '0.0', '0.0', '0.0', '0.0', '0.0', '2.0', '8.0', '12.0', '0.0', '1.0', '1.0', '0.0', '0.0', '0.0', '11.0', '20.0', '0.0', '38.0', '0.0', '0.0', '0.0', '0.0', '1.0', '0.0', '1.0', '0.0', '0.0', '0.0', '0.0', '0.0', '0.0', '0.0', '0.0', '', '1.0', '2.0', '0.0', '1.0', '0.0', '1.0', '', '1.0', '1.0', '0.0', '1.0', '3.0', '1.0', '', '0.0', '0.0', '0.0', '4.0', '1.0', '0.0', '3.0', '2.0', '1.0', '', '0.0', '0.0', '', '', '', '1.0', '0.0', '0.0', '0.0', '0.0', '0.0', '1.0', '36.0', '0.0', '10.0', '1.0', '0.0', '0.0', '0.0', '0.0', '0.0', '12.0', '0.0', '0.0', '0.0', '1.0', '151.0', '', '5.0', '0.0', '0.0', '0.0', '3.0', '0.0', '1.0', '0.0', '0.0', '6.0', '1.0', '0.0', '16.0', '1.0', '3.0', '2.0', '0.0', '1.0', '0.0', '0.0', '', '0.0', '18.0', '0.0', '0.0', '0.0', '0.0', '0.0', '0.0', '0.0', '1.0', '1.0', '0.0', '0.0', '0.0', '0.0', '23.0', '0.0', '6.0', '2.0', '11.0', '1.0', '0.0', '1.0', '5.0', '0.0', '2.0', '', '4.0', '6.0', '3.0', '0.0', '1.0', '1.0', '0.0', '7.0', '0.0', '0.0', '0.0', '0.0', '0.0', '2.0', '24.0', '0.0', '0.0', '1.0', '1.0', '0.0', '0.0', '0.0', '1.0', '2.0', '1.0', '0.0', '3.0', '', '0.0', '1.0', '1.0', '2.0', '2.0', '2.0', '0.0', '1.0', '0.0', '0.0', '0.0', '4.0', '0.0', '4.0', '0.0', '0.0', '', '16.0', '5.0', '', '', '', '10.0', '1.0', '0.0', '2.0', '0.0', '2.0', '0.0', '2.0', '0.0', '0.0', '0.0', '0.0', '0.0', '0.0', '1.0', '2.0', '1.0', '1.0', '4.0', '1.0', '1.0', '0.0', '0.0', '2.0', '4.0', '1.0', '0.0', '1.0', '0.0', '1.0', '0.0', '0.0', '0.0', '2.0', '0.0', '0.0', '16.0', '0.0', '0.0', '8.0', '1.0', '', '', '0.0', '0.0', '1.0', '4.0', '0.0', '0.0', '4.0', '1.0', '2.0', '1.0', '0.0', '0.0', '1.0', '1.0', '1.0', '0.0', '0.0', '0.0', '0.0', '1.0', '1.0', '1.0', '1.0', '2.0', '', '0.0', '0.0', '1.0', '0.0', '3.0', '1.0', '0.0', '36.0', '0.0', '0.0', '0.0', '0.0', '36.0', '0.0', '0.0', '0.0', '1.0', '0.0', '9.0', '7.0', '7.0', '0.0', '0.0', '1.0', '4.0', '1.0', '', '0.0', '', '0.0', '1.0', '1.0', '3.0', '1.0', '3.0', '2.0', '0.0', '1.0', '1.0', '0.0', '33.0', '', '0.0', '1.0', '3.0', '0.0', '0.0', '0.0', '4.0', '20.0', '2.0', '', '0.0', '2.0', '4.0', '4.0', '2.0', '2.0', '30.0', '0.0', '0.0', '1.0', '0.0', '2.0', '1.0', '0.0', '1.0', '0.0', '1.0', '4.0', '0.0', '3.0', '3.0', '1.0', '21.0', '0.0', '1.0', '0.0', '3.0', '0.0', '0.0', '0.0', '0.0', '0.0', '0.0', '0.0', '0.0', '0.0', '0.0', '0.0', '0.0', '0.0', '0.0', '0.0', '0.0', '0.0', '0.0', '0.0', '0.0', '0.0', '0.0', '0.0', '0.0', '0.0', '0.0', '0.0', '0.0', '0.0', '0.0', '0.0', '0.0', '0.0', '0.0', '0.0', '0.0', '0.0', '5.0', '5.0', '1.0', '2.0', '1.0', '', '4.0', '0.0', '5.0', '0.0', '0.0', '0.0', '1.0', '1.0', '0.0', '1.0', '0.0', '3.0', '2.0', '5.0', '0.0', '0.0', '0.0', '1.0', '0.0', '0.0', '0.0', '0.0', '2.0', '5.0', '8.0', '2.0', '2.0', '1.0', '1.0', '0.0', '1.0', '0.0', '26.0', '25.0', '10.0', '9.0', '2.0', '1.0', '9.0', '3.0', '0.0', '1.0', '0.0', '0.0', '0.0', '0.0', '0.0', '6.0', '2.0', '0.0', '0.0', '0.0', '1.0', '0.0', '2.0', '1.0', '0.0', '0.0', '31.0', '19.0', '0.0', '6.0', '16.0', '0.0', '0.0', '0.0', '1.0', '0.0', '23.0', '1.0', '0.0', '5.0', '12.0', '0.0', '0.0', '0.0', '0.0', '57.0', '5.0', '0.0', '1.0', '0.0', '', '7.0', '6.0', '0.0', '1.0', '0.0', '1.0', '0.0', '0.0', '2.0', '14.0', '1.0', '2.0', '1.0', '0.0', '10.0', '0.0', '1.0', '4.0', '1.0', '2.0', '1.0', '7.0', '1.0', '0.0', '0.0', '0.0', '0.0', '0.0', '3.0', '1.0', '', '0.0', '0.0', '2.0', '0.0', '2.0', '', '0.0', '0.0', '2.0', '0.0', '0.0', '0.0', '0.0', '0.0', '', '0.0', '1.0', '0.0', '3.0', '1.0', '6.0', '0.0', '0.0', '0.0', '0.0', '1.0', '1.0', '1.0', '2.0', '0.0', '', '0.0', '1.0', '1.0', '1.0', '0.0', '0.0', '0.0', '0.0', '8.0', '0.0', '0.0', '0.0', '0.0', '', '0.0', '5.0', '1.0', '0.0', '0.0', '0.0', '0.0', '2.0', '11.0', '1.0', '0.0', '3.0', '0.0', '53.0', '21.0', '2.0', '0.0', '0.0', '1.0', '1.0', '0.0', '0.0', '0.0', '1.0', '0.0', '0.0', '1.0', '1.0', '12.0', '127.0', '0.0', '2.0', '1.0', '0.0', '0.0', '0.0', '0.0', '1.0', '10.0', '0.0', '0.0', '0.0', '0.0', '0.0', '0.0', '1.0', '1.0', '4.0', '0.0', '0.0', '1.0', '1.0', '0.0', '0.0', '0.0', '0.0', '1.0', '0.0', '2.0', '2.0', '2.0', '9.0', '1.0', '0.0', '1.0', '0.0', '0.0', '8.0', '17.0', '2.0', '0.0', '1.0', '0.0', '2.0', '0.0', '0.0', '0.0', '0.0', '0.0', '1.0', '1.0', '9.0', '1.0', '4.0', '0.0', '4.0', '0.0', '0.0', '2.0', '0.0', '0.0', '5.0', '0.0', '0.0', '0.0', '0.0', '0.0', '0.0', '0.0', '0.0', '0.0', '1.0', '3.0', '0.0', '0.0', '0.0', '', '', '1.0', '0.0', '1.0', '1.0', '5.0', '0.0', '2.0', '0.0', '1.0', '17.0', '2.0', '1.0', '1.0', '0.0', '1.0', '1.0', '0.0', '0.0', '0.0', '10.0', '14.0', '0.0', '1.0', '0.0', '0.0', '0.0', '3.0', '9.0', '0.0', '2.0', '0.0', '0.0', '4.0', '1.0', '2.0', '0.0', '0.0', '0.0', '0.0', '0.0', '0.0', '0.0', '0.0', '0.0', '0.0', '0.0', '0.0', '0.0', '0.0', '0.0', '0.0', '0.0', '0.0', '0.0', '0.0', '1.0', '0.0', '0.0', '0.0', '0.0', '0.0', '5.0', '0.0', '2.0', '0.0', '0.0', '1.0', '1.0', '0.0', '2.0', '6.0', '0.0', '12.0', '1.0', '', '0.0', '0.0', '0.0', '', '1.0', '0.0', '2.0', '1.0', '1.0', '1.0', '1.0', '0.0', '0.0', '1.0', '0.0', '2.0', '1.0', '8.0', '2.0', '4.0', '0.0', '2.0', '1.0', '2.0', '0.0', '0.0', '0.0', '1.0', '1.0', '0.0', '0.0', '2.0', '0.0', '1.0', '1.0', '0.0', '0.0', '0.0', '0.0', '25.0', '1.0', '0.0', '4.0', '266.0', '1.0', '0.0', '3.0', '0.0', '0.0', '0.0', '0.0', '0.0', '0.0', '0.0', '0.0', '0.0', '0.0', '0.0', '0.0', '0.0', '0.0', '0.0', '0.0', '0.0', '0.0', '0.0', '0.0', '0.0', '0.0', '0.0', '0.0', '0.0', '0.0', '0.0', '0.0', '0.0', '0.0', '0.0', '0.0', '0.0', '0.0', '0.0', '1.0', '0.0', '3.0', '1.0', '3.0', '1.0', '0.0', '0.0', '0.0', '0.0', '0.0', '1.0', '3.0', '2.0', '1.0', '1.0', '2.0', '3.0', '', '0.0', '1.0', '7.0', '0.0', '0.0', '2.0', '2.0', '0.0', '0.0', '4.0', '2.0', '', '0.0', '2.0', '5.0', '1.0', '4.0', '8.0', '', '0.0', '0.0', '1.0', '10.0', '3.0', '', '1.0', '0.0', '0.0', '2.0', '0.0', '1.0', '8.0', '0.0', '3.0', '1.0', '', '', '1.0', '3.0', '4.0', '35.0', '0.0', '3.0', '1.0', '5.0', '', '1.0', '1.0', '0.0', '6.0', '6.0', '4.0', '0.0', '0.0', '0.0', '0.0', '0.0', '0.0', '1.0', '1.0', '4.0', '1.0', '0.0', '5.0', '14.0', '0.0', '17.0', '0.0', '0.0', '0.0', '2.0', '2.0', '1.0', '1.0', '0.0', '1.0', '4.0', '0.0', '1.0', '1.0', '1.0', '0.0', '0.0', '0.0', '0.0', '1.0', '1.0', '1.0', '2.0', '10.0', '', '1.0', '0.0', '0.0', '0.0', '0.0', '', '1.0', '1.0', '19.0', '18.0', '1.0', '0.0', '0.0', '2.0', '1.0', '0.0', '0.0', '1.0', '5.0', '6.0', '15.0', '0.0', '0.0', '3.0', '6.0', '3.0', '1.0', '2.0', '1.0', '8.0', '0.0', '0.0', '0.0', '0.0', '0.0', '0.0', '0.0', '0.0', '13.0', '13.0', '1.0', '0.0', '0.0', '2.0', '1.0', '5.0', '1.0', '0.0', '0.0', '0.0', '2.0', '0.0', '', '0.0', '0.0', '1.0', '5.0', '1.0', '2.0', '1.0', '0.0', '0.0', '0.0', '0.0', '0.0', '1.0', '1.0', '1.0', '1.0', '0.0', '37.0', '0.0', '0.0', '0.0', '0.0', '', '0.0', '1.0', '0.0', '0.0', '2.0', '1.0', '0.0', '2.0', '0.0', '0.0', '0.0', '1.0', '0.0', '0.0', '0.0', '0.0', '3.0', '13.0', '1.0', '2.0', '1.0', '13.0', '', '0.0', '0.0', '1.0', '2.0', '11.0', '3.0', '7.0', '2.0', '1.0', '0.0', '16.0', '15.0', '0.0', '2.0', '1.0', '8.0', '1.0', '0.0', '1.0', '0.0', '0.0', '0.0', '2.0', '10.0', '0.0', '7.0', '0.0', '2.0', '0.0', '3.0', '1.0', '1.0', '13.0', '2.0', '1.0', '4.0', '0.0', '1.0', '0.0', '0.0', '', '0.0', '1.0', '2.0', '2.0', '0.0', '0.0', '1.0', '0.0', '', '1.0', '0.0', '0.0', '26.0', '0.0', '0.0', '0.0', '5.0', '1.0', '8.0', '1.0', '0.0', '0.0', '0.0', '2.0', '1.0', '0.0', '0.0', '3.0', '0.0', '0.0', '0.0', '0.0', '0.0', '0.0', '1.0', '25.0', '0.0', '0.0', '1.0', '16.0', '3.0', '0.0', '0.0', '1.0', '9.0', '1.0', '0.0', '1.0', '0.0', '4.0', '0.0', '2.0', '1.0', '', '3.0', '1.0', '0.0', '4.0', '1.0', '0.0', '3.0', '1.0', '0.0', '3.0', '', '1.0', '7.0', '16.0', '0.0', '1.0', '1.0', '', '7.0', '0.0', '1.0', '0.0', '1.0', '1.0', '0.0', '1.0', '0.0', '1.0', '0.0', '0.0', '0.0', '', '15.0', '15.0', '0.0', '0.0', '4.0', '49.0', '0.0', '1.0', '0.0', '2.0', '0.0', '13.0', '0.0', '', '', '0.0', '0.0', '1.0', '6.0', '2.0', '2.0', '2.0', '0.0', '2.0', '0.0', '0.0', '0.0', '4.0', '0.0', '0.0', '7.0', '0.0', '0.0', '0.0', '1.0', '0.0', '1.0', '0.0', '0.0', '2.0', '0.0', '1.0', '1.0', '0.0', '0.0', '', '1.0', '1.0', '0.0', '0.0', '0.0', '1.0', '', '0.0', '1.0', '1.0', '0.0', '2.0', '9.0', '3.0', '0.0', '0.0', '0.0', '0.0', '50.0', '7.0', '3.0', '1.0', '0.0', '1.0', '0.0', '2.0', '2.0', '0.0', '0.0', '13.0', '0.0', '0.0', '0.0', '1.0', '0.0', '133.0', '', '0.0', '1.0', '9.0', '3.0', '1.0', '2.0', '0.0', '1.0', '0.0', '7.0', '3.0', '1.0', '0.0', '0.0', '1.0', '4.0', '2.0', '1.0', '0.0', '1.0', '2.0', '1.0', '0.0', '1.0', '4.0', '1.0', '0.0', '2.0', '0.0', '0.0', '4.0', '0.0', '0.0', '1.0', '12.0', '1.0', '0.0', '0.0', '2.0', '1.0', '1.0', '1.0', '3.0', '0.0', '0.0', '6.0', '7.0', '0.0', '8.0', '2.0', '0.0', '1.0', '10.0', '2.0', '0.0', '0.0', '0.0', '0.0', '0.0', '0.0', '', '0.0', '0.0', '0.0', '0.0', '4.0', '0.0', '5.0', '2.0', '0.0', '4.0', '0.0', '1.0', '', '0.0', '0.0', '64.0', '', '', '4.0', '0.0', '0.0', '0.0', '0.0', '0.0', '1.0', '0.0', '0.0', '3.0', '0.0', '3.0', '29.0', '2.0', '3.0', '0.0', '6.0', '1.0', '1.0', '4.0', '0.0', '0.0', '0.0', '0.0', '0.0', '0.0', '0.0', '1.0', '0.0', '9.0', '3.0', '', '0.0', '5.0', '0.0', '0.0', '2.0', '0.0', '0.0', '0.0', '1.0', '1.0', '1.0', '0.0', '0.0', '1.0', '7.0', '2.0', '5.0', '8.0', '2.0', '0.0', '108.0', '2.0', '10.0', '4.0', '2.0', '1.0', '0.0', '0.0', '0.0', '0.0', '0.0', '4.0', '0.0', '5.0', '0.0', '0.0', '0.0', '', '3.0', '', '1.0', '3.0', '3.0', '0.0', '0.0', '0.0', '', '2.0', '0.0', '0.0', '0.0', '1.0', '1.0', '2.0', '0.0', '1.0', '0.0', '0.0', '0.0', '0.0', '0.0', '0.0', '0.0', '2.0', '0.0', '', '0.0', '0.0', '27.0', '0.0', '0.0', '3.0', '3.0', '2.0', '2.0', '2.0', '4.0', '2.0', '2.0', '0.0', '0.0', '0.0', '0.0', '0.0', '0.0', '0.0', '0.0', '0.0', '1.0', '1.0', '1.0', '1.0', '0.0', '1.0', '5.0', '1.0', '1.0', '0.0', '2.0', '0.0', '0.0', '0.0', '2.0', '', '5.0', '5.0', '4.0', '4.0', '4.0', '6.0', '0.0', '5.0', '2.0', '8.0', '7.0', '0.0', '1.0', '0.0', '1.0', '0.0', '1.0', '1.0', '2.0', '1.0', '1.0', '0.0', '0.0', '', '0.0', '1.0', '', '0.0', '5.0', '0.0', '0.0', '0.0', '0.0', '0.0', '0.0', '0.0', '2.0', '1.0', '1.0', '0.0', '0.0', '3.0', '1.0', '0.0', '0.0', '1.0', '0.0', '2.0', '2.0', '2.0', '0.0', '0.0', '1.0', '4.0', '1.0', '2.0', '32.0', '36.0', '', '1.0', '1.0', '4.0', '0.0', '0.0', '1.0', '2.0', '0.0', '1.0', '0.0', '0.0', '0.0', '0.0', '0.0', '0.0', '0.0', '0.0', '0.0', '0.0', '0.0', '0.0', '0.0', '0.0', '0.0', '0.0', '0.0', '0.0', '1.0', '1.0', '0.0', '0.0', '0.0', '0.0', '2.0', '4.0', '4.0', '1.0', '5.0', '4.0', '1.0', '0.0', '', '10.0', '3.0', '3.0', '0.0', '0.0', '1.0', '0.0', '1.0', '3.0', '1.0', '0.0', '', '', '', '', '2.0', '0.0', '0.0', '0.0', '0.0', '0.0', '0.0', '15.0', '50.0', '0.0', '3.0', '2.0', '0.0', '0.0', '2.0', '2.0', '0.0', '0.0', '0.0', '0.0', '0.0', '0.0', '1.0', '1.0', '10.0', '6.0', '1.0', '5.0', '2.0', '', '0.0', '0.0', '0.0', '141.0', '5.0', '0.0', '0.0', '31.0', '31.0', '0.0', '3.0', '1.0', '0.0', '0.0', '0.0', '1.0', '0.0', '11.0', '1.0', '0.0', '2.0', '1.0', '1.0', '0.0', '0.0', '1.0', '2.0', '4.0', '0.0', '0.0', '0.0', '0.0', '14.0', '6.0', '1.0', '0.0', '3.0', '3.0', '3.0', '3.0', '3.0', '', '6.0', '6.0', '5.0', '5.0', '5.0', '0.0', '0.0', '6.0', '0.0', '3.0', '1.0', '1.0', '11.0', '0.0', '14.0', '0.0', '0.0', '15.0', '', '0.0', '0.0', '0.0', '0.0', '0.0', '0.0', '0.0', '1.0', '1.0', '0.0', '2.0', '0.0', '0.0', '0.0', '1.0', '1.0', '1.0', '0.0', '0.0', '0.0', '1.0', '0.0', '0.0', '12.0', '1.0', '', '7.0', '0.0', '0.0', '1.0', '9.0', '14.0', '4.0', '0.0', '31.0', '8.0', '2.0', '1.0', '1.0', '7.0', '7.0', '6.0', '0.0', '0.0', '0.0', '1.0', '0.0', '', '0.0', '0.0', '4.0', '0.0', '0.0', '1.0', '0.0', '1.0', '', '', '', '', '', '4.0', '0.0', '0.0', '0.0', '0.0', '0.0', '0.0', '2.0', '0.0', '0.0', '1.0', '0.0', '12.0', '0.0', '7.0', '4.0', '5.0', '5.0', '4.0', '1.0', '6.0', '2.0', '0.0', '2.0', '', '0.0', '0.0', '0.0', '0.0', '1.0', '0.0', '0.0', '1.0', '0.0', '0.0', '0.0', '0.0', '', '1.0', '6.0', '2.0', '23.0', '3.0', '0.0', '1.0', '1.0', '1.0', '0.0', '1.0', '0.0', '0.0', '0.0', '0.0', '0.0', '0.0', '0.0', '0.0', '0.0', '1.0', '0.0', '5.0', '0.0', '0.0', '0.0', '1.0', '0.0', '1.0', '0.0', '1.0', '0.0', '1.0', '0.0', '1.0', '1.0', '0.0', '0.0', '0.0', '13.0', '7.0', '2.0', '1.0', '2.0', '6.0', '', '3.0', '3.0', '0.0', '0.0', '22.0', '3.0', '5.0', '3.0', '0.0', '12.0', '1.0', '0.0', '0.0', '0.0', '', '3.0', '3.0', '6.0', '3.0', '2.0', '0.0', '0.0', '2.0', '0.0', '9.0', '', '0.0', '0.0', '2.0', '', '10.0', '0.0', '0.0', '0.0', '1.0', '0.0', '3.0', '2.0', '0.0', '8.0', '3.0', '2.0', '1.0', '0.0', '0.0', '0.0', '6.0', '2.0', '0.0', '3.0', '5.0', '6.0', '21.0', '0.0', '0.0', '0.0', '3.0', '1.0', '3.0', '1.0', '1.0', '0.0', '0.0', '0.0', '0.0', '1.0', '1.0', '', '0.0', '0.0', '0.0', '2.0', '0.0', '0.0', '1.0', '11.0', '2.0', '0.0', '', '0.0', '1.0', '0.0', '0.0', '0.0', '3.0', '1.0', '0.0', '1.0', '0.0', '0.0', '0.0', '0.0', '5.0', '36.0', '7.0', '1.0', '4.0', '0.0', '0.0', '1.0', '2.0', '1.0', '2.0', '0.0', '9.0', '1.0', '0.0', '1.0', '0.0', '30.0', '1.0', '0.0', '10.0', '21.0', '25.0', '0.0', '0.0', '0.0', '0.0', '1.0', '0.0', '0.0', '0.0', '', '3.0', '2.0', '2.0', '0.0', '1.0', '27.0', '2.0', '2.0', '0.0', '0.0', '', '0.0', '0.0', '1.0', '0.0', '0.0', '0.0', '0.0', '0.0', '0.0', '1.0', '0.0', '0.0', '4.0', '19.0', '6.0', '0.0', '0.0', '0.0', '1.0', '1.0', '2.0', '0.0', '8.0', '0.0', '0.0', '0.0', '0.0', '0.0', '0.0', '0.0', '1.0', '11.0', '2.0', '4.0', '1.0', '0.0', '0.0', '0.0', '4.0', '0.0', '12.0', '', '13.0', '0.0', '0.0', '5.0', '0.0', '0.0', '2.0', '7.0', '0.0', '0.0', '0.0', '1.0', '0.0', '1.0', '1.0', '0.0', '', '2.0', '0.0', '6.0', '7.0', '1.0', '9.0', '0.0', '', '1.0', '0.0', '1.0', '2.0', '2.0', '2.0', '2.0', '1.0', '1.0', '1.0', '1.0', '1.0', '7.0', '8.0', '6.0', '2.0', '', '0.0', '0.0', '1.0', '0.0', '1.0', '', '', '', '', '0.0', '1.0', '0.0', '2.0', '0.0', '0.0', '0.0', '0.0', '0.0', '7.0', '0.0', '1.0', '1.0', '5.0', '4.0', '30.0', '4.0', '0.0', '', '7.0', '0.0', '0.0', '0.0', '0.0', '12.0', '18.0', '10.0', '0.0', '5.0', '4.0', '4.0', '2.0', '0.0', '1.0', '2.0', '2.0', '2.0', '1.0', '1.0', '1.0', '0.0', '0.0', '2.0', '', '4.0', '3.0', '0.0', '0.0', '1.0', '0.0', '0.0', '0.0', '0.0', '0.0', '1.0', '0.0', '1.0', '1.0', '0.0', '0.0', '0.0', '0.0', '93.0', '0.0', '0.0', '1.0', '7.0', '34.0', '14.0', '0.0', '0.0', '1.0', '6.0', '2.0', '0.0', '8.0', '0.0', '2.0', '0.0', '1.0', '0.0', '0.0', '1.0', '0.0', '0.0', '1.0', '1.0', '1.0', '', '0.0', '0.0', '0.0', '0.0', '13.0', '0.0', '', '0.0', '14.0', '13.0', '0.0', '6.0', '163.0', '0.0', '1.0', '0.0', '4.0', '2.0', '1.0', '1.0', '0.0', '0.0', '0.0', '2.0', '0.0', '1.0', '2.0', '7.0', '3.0', '2.0', '6.0', '0.0', '1.0', '0.0', '0.0', '1.0', '0.0', '2.0', '0.0', '1.0', '0.0', '0.0', '0.0', '11.0', '0.0', '0.0', '0.0', '0.0', '0.0', '1.0', '1.0', '0.0', '0.0', '', '0.0', '0.0', '0.0', '0.0', '1.0', '0.0', '0.0', '0.0', '0.0', '0.0', '1.0', '2.0', '2.0', '0.0', '0.0', '2.0', '5.0', '11.0', '', '', '8.0', '9.0', '1.0', '0.0', '1.0', '41.0', '7.0', '4.0', '15.0', '13.0', '8.0', '1.0', '1.0', '3.0', '0.0', '2.0', '0.0', '0.0', '0.0', '0.0', '1.0', '0.0', '0.0', '1.0', '3.0', '0.0', '0.0', '', '0.0', '1.0', '1.0', '0.0', '', '', '0.0', '3.0', '1.0', '0.0', '5.0', '1.0', '2.0', '1.0', '4.0', '0.0', '0.0', '0.0', '4.0', '4.0', '0.0', '1.0', '0.0', '2.0', '0.0', '0.0', '0.0', '2.0', '1.0', '0.0', '0.0', '1.0', '1.0', '0.0', '0.0', '1.0', '2.0', '4.0', '0.0', '1.0', '2.0', '0.0', '0.0', '', '1.0', '0.0', '8.0', '0.0', '0.0', '0.0', '6.0', '7.0', '3.0', '0.0', '1.0', '0.0', '4.0', '4.0', '0.0', '0.0', '0.0', '0.0', '2.0', '0.0', '1.0', '0.0', '0.0', '', '', '0.0', '1.0', '1.0', '1.0', '0.0', '1.0', '0.0', '9.0', '0.0', '0.0', '0.0', '0.0', '0.0', '1.0', '0.0', '0.0', '9.0', '8.0', '0.0', '0.0', '0.0', '', '2.0', '0.0', '10.0', '2.0', '11.0', '0.0', '1.0', '0.0', '', '4.0', '7.0', '3.0', '2.0', '0.0', '2.0', '0.0', '0.0', '0.0', '0.0', '1.0', '3.0', '4.0', '0.0', '0.0', '0.0', '', '0.0', '0.0', '0.0', '0.0', '0.0', '0.0', '0.0', '1.0', '0.0', '1.0', '', '2.0', '3.0', '0.0', '0.0', '1.0', '0.0', '0.0', '0.0', '0.0', '0.0', '0.0', '0.0', '77.0', '3.0', '1.0', '', '0.0', '2.0', '14.0', '1.0', '0.0', '1.0', '5.0', '', '', '1.0', '0.0', '0.0', '0.0', '0.0', '0.0', '1.0', '32.0', '', '', '', '2.0', '0.0', '1.0', '3.0', '2.0', '3.0', '4.0', '0.0', '2.0', '0.0', '0.0', '1.0', '0.0', '0.0', '5.0', '0.0', '0.0', '13.0', '0.0', '0.0', '', '1.0', '1.0', '0.0', '0.0', '1.0', '', '0.0', '2.0', '0.0', '7.0', '1.0', '0.0', '0.0', '14.0', '', '0.0', '0.0', '0.0', '0.0', '0.0', '0.0', '0.0', '0.0', '0.0', '0.0', '0.0', '0.0', '0.0', '0.0', '0.0', '0.0', '3.0', '0.0', '2.0', '4.0', '4.0', '10.0', '8.0', '0.0', '8.0', '4.0', '1.0', '0.0', '1.0', '1.0', '0.0', '0.0', '0.0', '0.0', '0.0', '2.0', '0.0', '2.0', '0.0', '0.0', '0.0', '2.0', '1.0', '0.0', '2.0', '0.0', '14.0', '0.0', '0.0', '3.0', '1.0', '0.0', '0.0', '0.0', '0.0', '0.0', '1.0', '4.0', '1.0', '1.0', '1.0', '3.0', '0.0', '0.0', '', '0.0', '0.0', '3.0', '0.0', '0.0', '11.0', '3.0', '2.0', '1.0', '1.0', '0.0', '0.0', '1.0', '8.0', '0.0', '0.0', '2.0', '5.0', '2.0', '0.0', '0.0', '0.0', '0.0', '0.0', '2.0', '0.0', '3.0', '1.0', '0.0', '0.0', '0.0', '', '12.0', '0.0', '0.0', '0.0', '0.0', '0.0', '2.0', '1.0', '0.0', '4.0', '0.0', '5.0', '0.0', '1.0', '0.0', '0.0', '0.0', '', '0.0', '0.0', '', '0.0', '1.0', '1.0', '0.0', '0.0', '0.0', '2.0', '0.0', '3.0', '2.0', '5.0', '0.0', '0.0', '0.0', '0.0', '0.0', '0.0', '0.0', '0.0', '0.0', '1.0', '7.0', '4.0', '', '1.0', '0.0', '2.0', '0.0', '2.0', '13.0', '0.0', '0.0', '0.0', '0.0', '0.0', '0.0', '', '0.0', '1.0', '37.0', '1.0', '3.0', '3.0', '9.0', '17.0', '17.0', '17.0', '5.0', '0.0', '0.0', '10.0', '0.0', '1.0', '0.0', '1.0', '3.0', '1.0', '1.0', '1.0', '0.0', '0.0', '0.0', '1.0', '1.0', '3.0', '0.0', '1.0', '1.0', '3.0', '0.0', '0.0', '0.0', '0.0', '0.0', '0.0', '11.0', '1.0', '4.0', '2.0', '1.0', '1.0', '0.0', '6.0', '0.0', '1.0', '1.0', '8.0', '0.0', '0.0', '0.0', '3.0', '1.0', '0.0', '0.0', '0.0', '0.0', '1.0', '0.0', '0.0', '0.0', '0.0', '0.0', '0.0', '', '0.0', '0.0', '0.0', '0.0', '5.0', '1.0', '', '0.0', '0.0', '1.0', '0.0', '0.0', '0.0', '0.0', '0.0', '2.0', '', '', '6.0', '0.0', '4.0', '1.0', '0.0', '0.0', '2.0', '', '2.0', '4.0', '0.0', '4.0', '', '', '', '5.0', '0.0', '1.0', '1.0', '13.0', '1.0', '18.0', '0.0', '0.0', '', '1.0', '1.0', '0.0', '0.0', '0.0', '3.0', '0.0', '3.0', '1.0', '5.0', '1.0', '0.0', '5.0', '1.0', '0.0', '0.0', '0.0', '1.0', '', '2.0', '13.0', '', '0.0', '0.0', '0.0', '1.0', '1.0', '0.0', '0.0', '', '0.0', '0.0', '0.0', '0.0', '0.0', '0.0', '0.0', '30.0', '4.0', '0.0', '0.0', '0.0', '0.0', '8.0', '6.0', '2.0', '0.0', '3.0', '0.0', '1.0', '17.0', '4.0', '0.0', '2.0', '1.0', '9.0', '', '7.0', '1.0', '2.0', '12.0', '0.0', '0.0', '0.0', '0.0', '0.0', '0.0', '0.0', '0.0', '1.0', '1.0', '', '5.0', '0.0', '', '1.0', '1.0', '0.0', '1.0', '1.0', '1.0', '3.0', '1.0', '0.0', '0.0', '', '6.0', '1.0', '3.0', '0.0', '0.0', '1.0', '8.0', '1.0', '1.0', '0.0', '1.0', '1.0', '0.0', '0.0', '0.0', '0.0', '0.0', '0.0', '0.0', '0.0', '0.0', '0.0', '5.0', '3.0', '1.0', '0.0', '', '2.0', '21.0', '1.0', '2.0', '3.0', '3.0', '3.0', '3.0', '0.0', '0.0', '0.0', '1.0', '1.0', '1.0', '0.0', '0.0', '0.0', '1.0', '1.0', '1.0', '11.0', '8.0', '12.0', '1.0', '0.0', '1.0', '4.0', '0.0', '3.0', '0.0', '0.0', '1.0', '0.0', '1.0', '0.0', '1.0', '0.0', '2.0', '0.0', '1.0', '1.0', '0.0', '100.0', '1.0', '2.0', '0.0', '2.0', '0.0', '0.0', '1.0', '0.0', '3.0', '2.0', '0.0', '0.0', '0.0', '1.0', '0.0', '0.0', '4.0', '3.0', '0.0', '0.0', '0.0', '0.0', '0.0', '100.0', '0.0', '1.0', '4.0', '1.0', '1.0', '0.0', '0.0', '0.0', '1.0', '3.0', '0.0', '0.0', '1.0', '2.0', '10.0', '1.0', '0.0', '0.0', '0.0', '0.0', '0.0', '0.0', '3.0', '3.0', '2.0', '2.0', '2.0', '2.0', '0.0', '0.0', '0.0', '0.0', '0.0', '1.0', '', '4.0', '3.0', '3.0', '3.0', '3.0', '35.0', '10.0', '0.0', '1.0', '2.0', '', '2.0', '0.0', '0.0', '0.0', '0.0', '1.0', '1.0', '1.0', '1.0', '12.0', '7.0', '13.0', '4.0', '1.0', '1.0', '16.0', '39.0', '40.0', '4.0', '1.0', '0.0', '3.0', '0.0', '0.0', '0.0', '0.0', '1.0', '0.0', '2.0', '2.0', '0.0', '0.0', '0.0', '1.0', '2.0', '1.0', '4.0', '1.0', '4.0', '0.0', '0.0', '2.0', '1.0', '0.0', '0.0', '0.0', '0.0', '0.0', '1.0', '3.0', '10.0', '0.0', '0.0', '0.0', '10.0', '6.0', '2.0', '2.0', '1.0', '', '3.0', '6.0', '0.0', '0.0', '1.0', '1.0', '0.0', '0.0', '0.0', '2.0', '0.0', '0.0', '0.0', '2.0', '2.0', '0.0', '1.0', '', '', '1.0', '0.0', '2.0', '5.0', '5.0', '1.0', '1.0', '0.0', '0.0', '0.0', '2.0', '1.0', '12.0', '12.0', '11.0', '14.0', '7.0', '0.0', '0.0', '0.0', '6.0', '1.0', '0.0', '0.0', '1.0', '0.0', '0.0', '2.0', '0.0', '0.0', '4.0', '0.0', '0.0', '0.0', '0.0', '4.0', '1.0', '0.0', '2.0', '2.0', '1.0', '1.0', '4.0', '0.0', '0.0', '0.0', '0.0', '0.0', '0.0', '1.0', '0.0', '1.0', '0.0', '0.0', '1.0', '0.0', '0.0', '1.0', '1.0', '2.0', '3.0', '0.0', '0.0', '1.0', '0.0', '0.0', '0.0', '', '1.0', '', '', '1.0', '1.0', '0.0', '2.0', '0.0', '0.0', '0.0', '0.0', '1.0', '8.0', '5.0', '3.0', '1.0', '0.0', '0.0', '0.0', '1.0', '0.0', '0.0', '4.0', '1.0', '0.0', '0.0', '0.0', '0.0', '0.0', '0.0', '0.0', '0.0', '0.0', '4.0', '4.0', '', '0.0', '', '1.0', '0.0', '0.0', '4.0', '0.0', '3.0', '2.0', '3.0', '1.0', '0.0', '1.0', '3.0', '1.0', '2.0', '4.0', '0.0', '0.0', '1.0', '0.0', '0.0', '9.0', '2.0', '0.0', '0.0', '2.0', '0.0', '0.0', '0.0', '', '0.0', '0.0', '0.0', '3.0', '', '1.0', '6.0', '0.0', '3.0', '0.0', '0.0', '0.0', '0.0', '0.0', '', '', '0.0', '0.0', '3.0', '0.0', '1.0', '1.0', '3.0', '0.0', '7.0', '0.0', '0.0', '4.0', '0.0', '1.0', '7.0', '0.0', '0.0', '6.0', '0.0', '0.0', '', '', '0.0', '1.0', '1.0', '0.0', '0.0', '0.0', '2.0', '', '', '', '11.0', '0.0', '10.0', '1.0', '0.0', '1.0', '3.0', '1.0', '1.0', '0.0', '0.0', '4.0', '1.0', '1.0', '6.0', '0.0', '0.0', '0.0', '0.0', '', '1.0', '0.0', '0.0', '1.0', '0.0', '2.0', '1.0', '1.0', '', '0.0', '4.0', '1.0', '', '0.0', '0.0', '2.0', '1.0', '20.0', '0.0', '1.0', '4.0', '12.0', '7.0', '8.0', '13.0', '5.0', '5.0', '', '28.0', '1.0', '15.0', '0.0', '5.0', '0.0', '0.0', '0.0', '2.0', '2.0', '20.0', '2.0', '21.0', '0.0', '1.0', '1.0', '1.0', '8.0', '9.0', '0.0', '', '2.0', '9.0', '1.0', '0.0', '', '0.0', '0.0', '0.0', '2.0', '1.0', '0.0', '1.0', '0.0', '1.0', '0.0', '0.0', '3.0', '8.0', '0.0', '0.0', '2.0', '0.0', '1.0', '3.0', '1.0', '3.0', '1.0', '1.0', '1.0', '1.0', '1.0', '1.0', '0.0', '0.0', '0.0', '0.0', '0.0', '9.0', '1.0', '4.0', '1.0', '15.0', '1.0', '5.0', '', '0.0', '4.0', '', '4.0', '0.0', '1.0', '0.0', '0.0', '1.0', '0.0', '0.0', '0.0', '1.0', '200.0', '0.0', '6.0', '0.0', '2.0', '1.0', '3.0', '1.0', '1.0', '0.0', '4.0', '0.0', '1.0', '0.0', '0.0', '', '0.0', '1.0', '1.0', '1.0', '14.0', '0.0', '0.0', '1.0', '0.0', '', '0.0', '0.0', '3.0', '0.0', '3.0', '2.0', '2.0', '0.0', '2.0', '0.0', '3.0', '0.0', '0.0', '0.0', '0.0', '0.0', '0.0', '5.0', '3.0', '1.0', '2.0', '0.0', '8.0', '', '0.0', '0.0', '0.0', '0.0', '1.0', '1.0', '4.0', '0.0', '0.0', '0.0', '0.0', '2.0', '2.0', '0.0', '3.0', '17.0', '2.0', '0.0', '2.0', '1.0', '0.0', '1.0', '0.0', '2.0', '0.0', '3.0', '1.0', '1.0', '0.0', '0.0', '0.0', '5.0', '4.0', '0.0', '', '', '', '0.0', '', '0.0', '0.0', '1.0', '65.0', '1.0', '2.0', '1.0', '3.0', '1.0', '0.0', '0.0', '5.0', '3.0', '2.0', '45.0', '1.0', '5.0', '4.0', '1.0', '0.0', '0.0', '0.0', '0.0', '4.0', '0.0', '0.0', '1.0', '2.0', '0.0', '4.0', '0.0', '0.0', '20.0', '1.0', '0.0', '0.0', '0.0', '2.0', '0.0', '0.0', '1.0', '1.0', '0.0', '1.0', '0.0', '0.0', '4.0', '0.0', '1.0', '1.0', '0.0', '0.0', '1.0', '1.0', '0.0', '0.0', '0.0', '0.0', '0.0', '0.0', '0.0', '0.0', '0.0', '1.0', '0.0', '4.0', '2.0', '3.0', '0.0', '4.0', '1.0', '3.0', '1.0', '1.0', '11.0', '', '1.0', '1.0', '0.0', '0.0', '1.0', '0.0', '2.0', '2.0', '8.0', '2.0', '1.0', '2.0', '0.0', '0.0', '0.0', '0.0', '1.0', '6.0', '0.0', '', '', '0.0', '8.0', '3.0', '3.0', '4.0', '2.0', '0.0', '1.0', '2.0', '0.0', '4.0', '', '1.0', '0.0', '1.0', '1.0', '0.0', '0.0', '0.0', '1.0', '1.0', '1.0', '2.0', '1.0', '1.0', '0.0', '0.0', '1.0', '1.0', '2.0', '0.0', '0.0', '4.0', '1.0', '2.0', '7.0', '4.0', '3.0', '6.0', '0.0', '6.0', '6.0', '5.0', '1.0', '0.0', '5.0', '5.0', '0.0', '', '0.0', '', '0.0', '0.0', '', '0.0', '0.0', '0.0', '1.0', '', '5.0', '5.0', '9.0', '17.0', '0.0', '0.0', '0.0', '14.0', '2.0', '2.0', '0.0', '0.0', '0.0', '0.0', '0.0', '0.0', '0.0', '1.0', '2.0', '12.0', '2.0', '1.0', '', '0.0', '', '', '3.0', '0.0', '1.0', '0.0', '17.0', '10.0', '0.0', '10.0', '1.0', '5.0', '2.0', '2.0', '0.0', '4.0', '0.0', '1.0', '3.0', '2.0', '0.0', '1.0', '3.0', '0.0', '2.0', '0.0', '0.0', '0.0', '0.0', '0.0', '0.0', '0.0', '0.0', '0.0', '0.0', '0.0', '0.0', '0.0', '0.0', '0.0', '0.0', '0.0', '1.0', '3.0', '1.0', '0.0', '1.0', '0.0', '0.0', '4.0', '0.0', '0.0', '0.0', '2.0', '1.0', '0.0', '0.0', '0.0', '1.0', '0.0', '0.0', '2.0', '0.0', '6.0', '1.0', '1.0', '', '2.0', '1.0', '5.0', '5.0', '3.0', '2.0', '0.0', '2.0', '0.0', '0.0', '0.0', '5.0', '0.0', '4.0', '2.0', '0.0', '1.0', '0.0', '1.0', '2.0', '0.0', '0.0', '0.0', '2.0', '7.0', '2.0', '0.0', '1.0', '0.0', '2.0', '0.0', '0.0', '0.0', '3.0', '0.0', '0.0', '1.0', '3.0', '2.0', '3.0', '3.0', '1.0', '0.0', '0.0', '0.0', '0.0', '3.0', '1.0', '0.0', '3.0', '0.0', '0.0', '4.0', '0.0', '2.0', '0.0', '1.0', '', '0.0', '5.0', '1.0', '3.0', '0.0', '0.0', '1.0', '0.0', '1.0', '6.0', '1.0', '0.0', '0.0', '7.0', '', '0.0', '0.0', '', '3.0', '0.0', '0.0', '0.0', '0.0', '1.0', '1.0', '2.0', '1.0', '0.0', '1.0', '0.0', '1.0', '4.0', '1.0', '1.0', '18.0', '1.0', '7.0', '9.0', '9.0', '2.0', '1.0', '3.0', '2.0', '0.0', '0.0', '0.0', '0.0', '0.0', '5.0', '0.0', '0.0', '3.0', '1.0', '1.0', '6.0', '2.0', '2.0', '0.0', '0.0', '0.0', '0.0', '1.0', '1.0', '5.0', '3.0', '4.0', '0.0', '0.0', '0.0', '0.0', '6.0', '0.0', '0.0', '0.0', '1.0', '0.0', '0.0', '1.0', '2.0', '0.0', '1.0', '5.0', '', '1.0', '0.0', '0.0', '0.0', '0.0', '0.0', '0.0', '0.0', '0.0', '5.0', '0.0', '0.0', '0.0', '0.0', '0.0', '0.0', '0.0', '0.0', '11.0', '0.0', '0.0', '', '0.0', '0.0', '4.0', '4.0', '1.0', '4.0', '0.0', '4.0', '6.0', '1.0', '1.0', '2.0', '4.0', '28.0', '9.0', '1.0', '0.0', '0.0', '4.0', '0.0', '4.0', '4.0', '0.0', '1.0', '2.0', '', '21.0', '2.0', '0.0', '3.0', '', '4.0', '2.0', '0.0', '0.0', '1.0', '0.0', '0.0', '0.0', '2.0', '16.0', '1.0', '1.0', '1.0', '0.0', '4.0', '3.0', '1.0', '0.0', '0.0', '', '0.0', '2.0', '5.0', '0.0', '1.0', '1.0', '1.0', '1.0', '0.0', '2.0', '2.0', '0.0', '0.0', '13.0', '13.0', '0.0', '0.0', '0.0', '0.0', '0.0', '7.0', '0.0', '2.0', '35.0', '0.0', '1.0', '1.0', '20.0', '', '4.0', '2.0', '1.0', '4.0', '0.0', '1.0', '1.0', '1.0', '1.0', '0.0', '0.0', '0.0', '3.0', '0.0', '0.0', '1.0', '0.0', '9.0', '0.0', '0.0', '3.0', '0.0', '', '2.0', '0.0', '1.0', '0.0', '1.0', '4.0', '3.0', '4.0', '19.0', '0.0', '0.0', '0.0', '0.0', '1.0', '1.0', '0.0', '0.0', '5.0', '0.0', '0.0', '1.0', '0.0', '5.0', '2.0', '1.0', '0.0', '0.0', '', '10.0', '2.0', '5.0', '0.0', '0.0', '3.0', '0.0', '4.0', '2.0', '1.0', '5.0', '1.0', '5.0', '8.0', '1.0', '1.0', '4.0', '6.0', '0.0', '0.0', '0.0', '1.0', '1.0', '1.0', '0.0', '0.0', '1.0', '1.0', '0.0', '0.0', '0.0', '0.0', '', '1.0', '11.0', '0.0', '', '36.0', '27.0', '0.0', '4.0', '1.0', '0.0', '0.0', '0.0', '1.0', '0.0', '11.0', '2.0', '8.0', '7.0', '1.0', '4.0', '4.0', '1.0', '29.0', '0.0', '1.0', '1.0', '1.0', '2.0', '1.0', '2.0', '', '0.0', '0.0', '0.0', '0.0', '0.0', '0.0', '0.0', '1.0', '2.0', '1.0', '1.0', '0.0', '5.0', '21.0', '0.0', '2.0', '4.0', '69.0', '18.0', '0.0', '0.0', '0.0', '6.0', '0.0', '0.0', '0.0', '1.0', '0.0', '', '0.0', '0.0', '0.0', '2.0', '1.0', '0.0', '3.0', '1.0', '0.0', '0.0', '26.0', '47.0', '0.0', '0.0', '1.0', '3.0', '0.0', '1.0', '0.0', '0.0', '0.0', '1.0', '3.0', '3.0', '', '1.0', '1.0', '1.0', '', '3.0', '0.0', '2.0', '', '0.0', '0.0', '0.0', '1.0', '1.0', '3.0', '4.0', '11.0', '1.0', '0.0', '0.0', '0.0', '0.0', '0.0', '0.0', '0.0', '0.0', '5.0', '1.0', '0.0', '2.0', '', '', '3.0', '0.0', '0.0', '1.0', '0.0', '0.0', '1.0', '1.0', '', '20.0', '1.0', '0.0', '0.0', '0.0', '0.0', '0.0', '4.0', '1.0', '1.0', '14.0', '0.0', '2.0', '22.0', '3.0', '5.0', '1.0', '', '1.0', '0.0', '0.0', '0.0', '0.0', '0.0', '0.0', '0.0', '0.0', '0.0', '0.0', '0.0', '0.0', '0.0', '0.0', '6.0', '0.0', '0.0', '0.0', '0.0', '1.0', '0.0', '3.0', '1.0', '4.0', '0.0', '5.0', '0.0', '0.0', '18.0', '1.0', '0.0', '0.0', '11.0', '1.0', '0.0', '0.0', '1.0', '0.0', '1.0', '1.0', '0.0', '6.0', '0.0', '3.0', '3.0', '6.0', '1.0', '12.0', '22.0', '13.0', '0.0', '1.0', '0.0', '1.0', '2.0', '1.0', '0.0', '1.0', '2.0', '2.0', '2.0', '1.0', '0.0', '', '0.0', '0.0', '4.0', '0.0', '0.0', '20.0', '0.0', '0.0', '0.0', '6.0', '1.0', '10.0', '0.0', '0.0', '0.0', '0.0', '0.0', '0.0', '0.0', '0.0', '', '1.0', '', '0.0', '0.0', '8.0', '3.0', '1.0', '0.0', '2.0', '0.0', '2.0', '1.0', '1.0', '3.0', '34.0', '0.0', '2.0', '1.0', '11.0', '2.0', '0.0', '0.0', '7.0', '0.0', '1.0', '0.0', '0.0', '0.0', '0.0', '0.0', '3.0', '0.0', '26.0', '20.0', '0.0', '0.0', '0.0', '0.0', '3.0', '0.0', '0.0', '3.0', '0.0', '1.0', '1.0', '0.0', '6.0', '1.0', '2.0', '2.0', '0.0', '6.0', '3.0', '0.0', '4.0', '2.0', '', '', '1.0', '0.0', '0.0', '1.0', '2.0', '0.0', '0.0', '0.0', '3.0', '72.0', '0.0', '0.0', '0.0', '0.0', '0.0', '0.0', '1.0', '2.0', '2.0', '4.0', '2.0', '72.0', '0.0', '0.0', '26.0', '7.0', '7.0', '3.0', '0.0', '5.0', '0.0', '2.0', '7.0', '2.0', '2.0', '0.0', '0.0', '1.0', '0.0', '1.0', '0.0', '1.0', '0.0', '0.0', '0.0', '4.0', '4.0', '3.0', '3.0', '3.0', '0.0', '0.0', '4.0', '18.0', '3.0', '55.0', '1.0', '1.0', '1.0', '2.0', '1.0', '3.0', '0.0', '0.0', '', '', '2.0', '4.0', '0.0', '', '7.0', '0.0', '0.0', '0.0', '0.0', '0.0', '0.0', '', '5.0', '2.0', '1.0', '0.0', '1.0', '10.0', '4.0', '3.0', '4.0', '0.0', '0.0', '0.0', '0.0', '0.0', '8.0', '1.0', '30.0', '1.0', '3.0', '2.0', '0.0', '0.0', '2.0', '2.0', '', '1.0', '0.0', '0.0', '0.0', '1.0', '1.0', '', '0.0', '1.0', '0.0', '0.0', '0.0', '2.0', '1.0', '0.0', '2.0', '2.0', '0.0', '0.0', '0.0', '1.0', '0.0', '0.0', '1.0', '14.0', '17.0', '3.0', '0.0', '0.0', '5.0', '0.0', '0.0', '0.0', '0.0', '', '0.0', '0.0', '0.0', '0.0', '25.0', '3.0', '0.0', '0.0', '1.0', '1.0', '1.0', '1.0', '1.0', '1.0', '2.0', '2.0', '', '36.0', '2.0', '', '1.0', '0.0', '0.0', '', '1.0', '3.0', '0.0', '4.0', '0.0', '1.0', '1.0', '0.0', '0.0', '0.0', '0.0', '0.0', '0.0', '0.0', '1.0', '13.0', '0.0', '1.0', '0.0', '0.0', '1.0', '2.0', '4.0', '0.0', '2.0', '2.0', '10.0', '2.0', '0.0', '1.0', '0.0', '0.0', '0.0', '0.0', '0.0', '0.0', '20.0', '0.0', '1.0', '2.0', '1.0', '4.0', '2.0', '', '3.0', '0.0', '2.0', '0.0', '1.0', '0.0', '0.0', '0.0', '0.0', '1.0', '', '0.0', '0.0', '1.0', '', '0.0', '0.0', '0.0', '', '0.0', '1.0', '0.0', '0.0', '2.0', '', '0.0', '2.0', '0.0', '0.0', '0.0', '1.0', '2.0', '0.0', '', '1.0', '1.0', '0.0', '0.0', '0.0', '2.0', '0.0', '', '1.0', '2.0', '0.0', '1.0', '0.0', '0.0', '', '1.0', '3.0', '', '0.0', '3.0', '2.0', '9.0', '2.0', '0.0', '2.0', '2.0', '10.0', '13.0', '1.0', '0.0', '8.0', '0.0', '5.0', '5.0', '5.0', '4.0', '1.0', '2.0', '0.0', '0.0', '0.0', '16.0', '0.0', '1.0', '0.0', '4.0', '9.0', '1.0', '2.0', '1.0', '1.0', '0.0', '2.0', '0.0', '', '3.0', '1.0', '7.0', '4.0', '0.0', '0.0', '2.0', '1.0', '0.0', '', '0.0', '0.0', '0.0', '0.0', '0.0', '0.0', '', '0.0', '0.0', '20.0', '0.0', '4.0', '1.0', '0.0', '21.0', '0.0', '', '15.0', '2.0', '0.0', '2.0', '3.0', '3.0', '0.0', '0.0', '0.0', '4.0', '4.0', '3.0', '0.0', '0.0', '0.0', '', '0.0', '1.0', '0.0', '0.0', '1.0', '1.0', '0.0', '8.0', '1.0', '1.0', '1.0', '1.0', '1.0', '0.0', '3.0', '13.0', '0.0', '0.0', '9.0', '1.0', '1.0', '0.0', '2.0', '0.0', '1.0', '3.0', '1.0', '3.0', '0.0', '', '0.0', '', '10.0', '0.0', '', '0.0', '0.0', '5.0', '5.0', '2.0', '2.0', '3.0', '5.0', '28.0', '2.0', '1.0', '1.0', '2.0', '1.0', '', '0.0', '0.0', '0.0', '3.0', '0.0', '0.0', '4.0', '1.0', '0.0', '0.0', '0.0', '0.0', '0.0', '1.0', '0.0', '0.0', '', '0.0', '1.0', '0.0', '0.0', '1.0', '1.0', '1.0', '12.0', '1.0', '1.0', '1.0', '0.0', '1.0', '1.0', '1.0', '0.0', '7.0', '13.0', '13.0', '20.0', '1.0', '0.0', '4.0', '', '1.0', '1.0', '0.0', '', '0.0', '0.0', '0.0', '1.0', '0.0', '1.0', '3.0', '0.0', '2.0', '0.0', '14.0', '1.0', '1.0', '', '0.0', '0.0', '0.0', '0.0', '3.0', '0.0', '43.0', '3.0', '0.0', '2.0', '0.0', '2.0', '1.0', '3.0', '0.0', '2.0', '2.0', '1.0', '1.0', '2.0', '1.0', '', '0.0', '5.0', '3.0', '9.0', '16.0', '6.0', '2.0', '1.0', '0.0', '1.0', '1.0', '16.0', '2.0', '1.0', '2.0', '0.0', '1.0', '2.0', '5.0', '5.0', '0.0', '0.0', '1.0', '1.0', '1.0', '1.0', '0.0', '1.0', '1.0', '0.0', '1.0', '1.0', '0.0', '1.0', '', '7.0', '0.0', '', '0.0', '0.0', '2.0', '0.0', '0.0', '1.0', '2.0', '0.0', '1.0', '4.0', '0.0', '1.0', '0.0', '0.0', '2.0', '2.0', '0.0', '1.0', '1.0', '2.0', '0.0', '2.0', '1.0', '0.0', '1.0', '', '1.0', '1.0', '1.0', '1.0', '1.0', '', '0.0', '6.0', '', '', '8.0', '4.0', '', '0.0', '', '0.0', '0.0', '0.0', '0.0', '0.0', '0.0', '3.0', '7.0', '0.0', '5.0', '4.0', '1.0', '1.0', '0.0', '', '', '3.0', '1.0', '0.0', '0.0', '0.0', '0.0', '2.0', '5.0', '0.0', '10.0', '0.0', '0.0', '1.0', '0.0', '0.0', '1.0', '0.0', '0.0', '1.0', '1.0', '0.0', '0.0', '1.0', '', '6.0', '1.0', '1.0', '5.0', '0.0', '1.0', '0.0', '1.0', '0.0', '1.0', '0.0', '0.0', '2.0', '0.0', '3.0', '0.0', '', '6.0', '2.0', '', '3.0', '4.0', '4.0', '4.0', '1.0', '1.0', '1.0', '0.0', '2.0', '0.0', '0.0', '7.0', '1.0', '11.0', '', '13.0', '2.0', '2.0', '0.0', '1.0', '0.0', '0.0', '0.0', '1.0', '1.0', '', '1.0', '10.0', '2.0', '2.0', '0.0', '0.0', '15.0', '3.0', '7.0', '5.0', '0.0', '0.0', '5.0', '1.0', '4.0', '', '1.0', '0.0', '', '3.0', '1.0', '0.0', '0.0', '0.0', '3.0', '0.0', '1.0', '46.0', '0.0', '0.0', '0.0', '0.0', '1.0', '0.0', '0.0', '0.0', '1.0', '0.0', '1.0', '32.0', '4.0', '4.0', '4.0', '4.0', '4.0', '3.0', '3.0', '3.0', '3.0', '3.0', '3.0', '3.0', '3.0', '3.0', '3.0', '3.0', '3.0', '3.0', '3.0', '3.0', '0.0', '0.0', '0.0', '3.0', '1.0', '0.0', '0.0', '0.0', '0.0', '1.0', '0.0', '0.0', '0.0', '1.0', '0.0', '0.0', '0.0', '1.0', '0.0', '1.0', '1.0', '1.0', '0.0', '3.0', '3.0', '3.0', '3.0', '3.0', '3.0', '3.0', '3.0', '4.0', '45.0', '0.0', '0.0', '0.0', '1.0', '0.0', '1.0', '0.0', '0.0', '11.0', '1.0', '0.0', '1.0', '1.0', '1.0', '0.0', '0.0', '0.0', '3.0', '0.0', '1.0', '0.0', '1.0', '6.0', '1.0', '1.0', '1.0', '0.0', '0.0', '1.0', '', '0.0', '1.0', '2.0', '3.0', '1.0', '14.0', '2.0', '', '0.0', '2.0', '0.0', '3.0', '3.0', '0.0', '0.0', '1.0', '0.0', '2.0', '0.0', '0.0', '0.0', '0.0', '0.0', '0.0', '0.0', '0.0', '0.0', '0.0', '0.0', '0.0', '0.0', '0.0', '0.0', '0.0', '0.0', '0.0', '0.0', '0.0', '0.0', '0.0', '0.0', '0.0', '0.0', '0.0', '0.0', '', '12.0', '0.0', '0.0', '0.0', '0.0', '0.0', '0.0', '0.0', '4.0', '0.0', '1.0', '1.0', '2.0', '0.0', '0.0', '0.0', '4.0', '2.0', '1.0', '5.0', '1.0', '2.0', '0.0', '2.0', '3.0', '2.0', '3.0', '1.0', '3.0', '0.0', '19.0', '0.0', '2.0', '19.0', '0.0', '0.0', '0.0', '0.0', '1.0', '0.0', '0.0', '1.0', '0.0', '5.0', '0.0', '6.0', '', '0.0', '5.0', '0.0', '0.0', '3.0', '2.0', '2.0', '2.0', '0.0', '0.0', '3.0', '1.0', '1.0', '0.0', '0.0', '0.0', '0.0', '0.0', '0.0', '4.0', '3.0', '1.0', '0.0', '0.0', '2.0', '2.0', '6.0', '0.0', '0.0', '0.0', '0.0', '1.0', '1.0', '1.0', '1.0', '0.0', '5.0', '1.0', '', '1.0', '0.0', '1.0', '10.0', '2.0', '0.0', '4.0', '1.0', '0.0', '3.0', '3.0', '0.0', '0.0', '4.0', '0.0', '1.0', '0.0', '4.0', '0.0', '0.0', '0.0', '3.0', '1.0', '0.0', '0.0', '', '0.0', '1.0', '', '0.0', '1.0', '1.0', '11.0', '1.0', '0.0', '3.0', '1.0', '5.0', '5.0', '2.0', '1.0', '4.0', '6.0', '3.0', '1.0', '0.0', '0.0', '0.0', '0.0', '0.0', '1.0', '', '0.0', '10.0', '0.0', '0.0', '0.0', '3.0', '5.0', '1.0', '1.0', '0.0', '3.0', '0.0', '0.0', '5.0', '0.0', '1.0', '1.0', '0.0', '11.0', '2.0', '0.0', '0.0', '', '1.0', '6.0', '5.0', '5.0', '0.0', '1.0', '0.0', '0.0', '0.0', '0.0', '0.0', '0.0', '0.0', '1.0', '0.0', '1.0', '4.0', '3.0', '0.0', '3.0', '0.0', '3.0', '0.0', '', '2.0', '0.0', '1.0', '1.0', '2.0', '2.0', '0.0', '', '0.0', '0.0', '0.0', '0.0', '0.0', '0.0', '0.0', '0.0', '0.0', '0.0', '0.0', '1.0', '2.0', '1.0', '0.0', '3.0', '1.0', '0.0', '10.0', '1.0', '0.0', '0.0', '3.0', '2.0', '0.0', '0.0', '1.0', '0.0', '1.0', '0.0', '2.0', '0.0', '', '0.0', '0.0', '0.0', '5.0', '1.0', '0.0', '0.0', '1.0', '', '1.0', '2.0', '1.0', '3.0', '1.0', '3.0', '3.0', '0.0', '0.0', '2.0', '0.0', '4.0', '0.0', '2.0', '2.0', '0.0', '0.0', '0.0', '0.0', '0.0', '0.0', '0.0', '0.0', '3.0', '3.0', '', '3.0', '0.0', '2.0', '0.0', '0.0', '0.0', '6.0', '1.0', '3.0', '0.0', '0.0', '12.0', '1.0', '0.0', '0.0', '0.0', '0.0', '7.0', '7.0', '6.0', '1.0', '0.0', '', '0.0', '0.0', '5.0', '4.0', '1.0', '5.0', '', '10.0', '1.0', '1.0', '0.0', '', '5.0', '', '5.0', '4.0', '1.0', '2.0', '7.0', '', '1.0', '0.0', '0.0', '1.0', '7.0', '2.0', '0.0', '', '0.0', '9.0', '2.0', '0.0', '0.0', '1.0', '0.0', '3.0', '6.0', '2.0', '1.0', '1.0', '1.0', '1.0', '0.0', '0.0', '3.0', '0.0', '0.0', '1.0', '0.0', '3.0', '6.0', '16.0', '0.0', '1.0', '0.0', '0.0', '1.0', '1.0', '4.0', '5.0', '1.0', '1.0', '0.0', '0.0', '0.0', '1.0', '0.0', '0.0', '', '0.0', '1.0', '1.0', '0.0', '1.0', '1.0', '0.0', '0.0', '0.0', '0.0', '3.0', '3.0', '1.0', '12.0', '21.0', '0.0', '1.0', '1.0', '0.0', '3.0', '9.0', '8.0', '0.0', '1.0', '0.0', '', '0.0', '36.0', '5.0', '0.0', '0.0', '0.0', '0.0', '0.0', '1.0', '0.0', '', '0.0', '0.0', '0.0', '0.0', '0.0', '0.0', '1.0', '0.0', '0.0', '0.0', '5.0', '1.0', '1.0', '2.0', '3.0', '0.0', '1.0', '1.0', '2.0', '0.0', '1.0', '0.0', '0.0', '1.0', '0.0', '3.0', '0.0', '0.0', '0.0', '0.0', '0.0', '1.0', '2.0', '0.0', '1.0', '1.0', '0.0', '0.0', '8.0', '4.0', '1.0', '0.0', '1.0', '5.0', '0.0', '0.0', '0.0', '0.0', '1.0', '0.0', '0.0', '6.0', '1.0', '', '1.0', '0.0', '0.0', '0.0', '0.0', '0.0', '46.0', '44.0', '1.0', '0.0', '0.0', '0.0', '1.0', '1.0', '1.0', '0.0', '2.0', '2.0', '2.0', '0.0', '0.0', '1.0', '2.0', '1.0', '1.0', '1.0', '0.0', '0.0', '0.0', '0.0', '6.0', '0.0', '0.0', '3.0', '0.0', '0.0', '0.0', '1.0', '1.0', '1.0', '12.0', '0.0', '0.0', '0.0', '1.0', '', '2.0', '', '2.0', '', '5.0', '0.0', '2.0', '0.0', '0.0', '1.0', '3.0', '4.0', '0.0', '1.0', '0.0', '1.0', '0.0', '1.0', '3.0', '3.0', '0.0', '3.0', '2.0', '0.0', '0.0', '0.0', '0.0', '0.0', '0.0', '3.0', '2.0', '4.0', '0.0', '1.0', '5.0', '', '14.0', '3.0', '0.0', '0.0', '1.0', '0.0', '1.0', '0.0', '', '0.0', '1.0', '0.0', '0.0', '0.0', '0.0', '0.0', '1.0', '2.0', '0.0', '', '4.0', '3.0', '1.0', '5.0', '4.0', '4.0', '2.0', '4.0', '', '0.0', '6.0', '0.0', '16.0', '2.0', '0.0', '0.0', '0.0', '0.0', '0.0', '1.0', '1.0', '0.0', '0.0', '1.0', '3.0', '0.0', '13.0', '1.0', '6.0', '0.0', '2.0', '0.0', '0.0', '0.0', '0.0', '0.0', '0.0', '0.0', '0.0', '25.0', '', '0.0', '1.0', '1.0', '0.0', '0.0', '0.0', '1.0', '0.0', '6.0', '0.0', '0.0', '2.0', '0.0', '3.0', '1.0', '0.0', '0.0', '0.0', '0.0', '5.0', '1.0', '4.0', '4.0', '4.0', '4.0', '3.0', '0.0', '0.0', '3.0', '0.0', '0.0', '1.0', '1.0', '0.0', '0.0', '6.0', '0.0', '9.0', '1.0', '1.0', '5.0', '2.0', '1.0', '6.0', '1.0', '2.0', '2.0', '0.0', '1.0', '0.0', '0.0', '0.0', '4.0', '2.0', '0.0', '', '1.0', '0.0', '0.0', '0.0', '0.0', '1.0', '0.0', '1.0', '1.0', '0.0', '0.0', '0.0', '0.0', '2.0', '0.0', '0.0', '1.0', '0.0', '3.0', '4.0', '4.0', '4.0', '7.0', '6.0', '0.0', '0.0', '0.0', '4.0', '0.0', '3.0', '2.0', '9.0', '9.0', '3.0', '1.0', '0.0', '1.0', '3.0', '1.0', '0.0', '0.0', '0.0', '3.0', '0.0', '1.0', '1.0', '1.0', '1.0', '1.0', '9.0', '1.0', '0.0', '2.0', '2.0', '1.0', '0.0', '0.0', '1.0', '0.0', '3.0', '2.0', '26.0', '0.0', '1.0', '4.0', '0.0', '4.0', '1.0', '9.0', '1.0', '0.0', '3.0', '3.0', '0.0', '2.0', '1.0', '0.0', '0.0', '1.0', '2.0', '0.0', '5.0', '', '0.0', '1.0', '', '0.0', '1.0', '0.0', '0.0', '', '1.0', '0.0', '', '0.0', '1.0', '1.0', '0.0', '', '1.0', '3.0', '0.0', '2.0', '2.0', '0.0', '3.0', '1.0', '3.0', '0.0', '0.0', '0.0', '0.0', '0.0', '0.0', '0.0', '1.0', '0.0', '1.0', '1.0', '16.0', '4.0', '0.0', '1.0', '0.0', '2.0', '1.0', '4.0', '6.0', '1.0', '0.0', '1.0', '0.0', '3.0', '2.0', '1.0', '0.0', '7.0', '0.0', '0.0', '1.0', '0.0', '0.0', '0.0', '0.0', '0.0', '0.0', '3.0', '0.0', '13.0', '2.0', '2.0', '0.0', '29.0', '28.0', '', '4.0', '0.0', '0.0', '0.0', '0.0', '2.0', '1.0', '1.0', '1.0', '2.0', '0.0', '0.0', '1.0', '4.0', '0.0', '0.0', '0.0', '2.0', '8.0', '1.0', '', '0.0', '', '1.0', '1.0', '0.0', '0.0', '0.0', '1.0', '0.0', '0.0', '0.0', '1.0', '0.0', '0.0', '0.0', '0.0', '0.0', '0.0', '0.0', '0.0', '0.0', '0.0', '0.0', '0.0', '0.0', '0.0', '0.0', '0.0', '0.0', '0.0', '', '0.0', '7.0', '0.0', '0.0', '0.0', '0.0', '5.0', '0.0', '2.0', '2.0', '1.0', '3.0', '73.0', '2.0', '3.0', '0.0', '0.0', '1.0', '0.0', '1.0', '0.0', '0.0', '1.0', '1.0', '1.0', '', '0.0', '0.0', '50.0', '1.0', '0.0', '0.0', '0.0', '0.0', '1.0', '4.0', '1.0', '4.0', '6.0', '7.0', '3.0', '2.0', '12.0', '12.0', '0.0', '0.0', '2.0', '0.0', '1.0', '0.0', '0.0', '0.0', '1.0', '6.0', '2.0', '1.0', '0.0', '0.0', '0.0', '4.0', '2.0', '0.0', '0.0', '3.0', '2.0', '1.0', '1.0', '0.0', '1.0', '4.0', '2.0', '4.0', '1.0', '6.0', '1.0', '0.0', '0.0', '57.0', '0.0', '0.0', '1.0', '1.0', '10.0', '0.0', '0.0', '0.0', '0.0', '0.0', '0.0', '0.0', '0.0', '1.0', '1.0', '1.0', '3.0', '4.0', '', '0.0', '1.0', '1.0', '0.0', '0.0', '1.0', '4.0', '1.0', '4.0', '5.0', '2.0', '0.0', '', '0.0', '0.0', '0.0', '3.0', '2.0', '1.0', '7.0', '59.0', '1.0', '1.0', '2.0', '2.0', '153.0', '3.0', '0.0', '1.0', '1.0', '4.0', '48.0', '0.0', '1.0', '19.0', '1.0', '1.0', '0.0', '0.0', '1.0', '0.0', '0.0', '10.0', '0.0', '0.0', '', '0.0', '1.0', '2.0', '', '0.0', '0.0', '2.0', '48.0', '0.0', '0.0', '0.0', '3.0', '1.0', '0.0', '0.0', '0.0', '4.0', '1.0', '11.0', '0.0', '0.0', '1.0', '0.0', '1.0', '0.0', '0.0', '0.0', '0.0', '0.0', '0.0', '', '1.0', '0.0', '1.0', '2.0', '1.0', '1.0', '0.0', '0.0', '0.0', '0.0', '0.0', '0.0', '1.0', '1.0', '4.0', '29.0', '0.0', '2.0', '0.0', '1.0', '0.0', '0.0', '1.0', '3.0', '7.0', '1.0', '0.0', '0.0', '0.0', '1.0', '2.0', '9.0', '0.0', '0.0', '1.0', '0.0', '1.0', '0.0', '2.0', '1.0', '25.0', '1.0', '3.0', '1.0', '1.0', '6.0', '5.0', '5.0', '1.0', '1.0', '0.0', '1.0', '1.0', '', '', '', '', '0.0', '4.0', '6.0', '0.0', '1.0', '24.0', '1.0', '0.0', '1.0', '5.0', '0.0', '1.0', '0.0', '0.0', '3.0', '0.0', '0.0', '1.0', '1.0', '3.0', '0.0', '2.0', '0.0', '1.0', '', '0.0', '3.0', '1.0', '0.0', '0.0', '0.0', '0.0', '0.0', '26.0', '', '', '', '0.0', '1.0', '0.0', '3.0', '3.0', '3.0', '2.0', '2.0', '5.0', '0.0', '1.0', '0.0', '1.0', '0.0', '0.0', '1.0', '0.0', '2.0', '0.0', '0.0', '0.0', '0.0', '0.0', '8.0', '0.0', '', '', '0.0', '3.0', '5.0', '5.0', '4.0', '1.0', '7.0', '0.0', '1.0', '1.0', '5.0', '14.0', '1.0', '3.0', '6.0', '', '', '1.0', '1.0', '1.0', '0.0', '1.0', '1.0', '0.0', '0.0', '0.0', '0.0', '0.0', '1.0', '0.0', '1.0', '5.0', '0.0', '0.0', '1.0', '1.0', '0.0', '0.0', '2.0', '2.0', '3.0', '0.0', '0.0', '1.0', '2.0', '3.0', '1.0', '1.0', '0.0', '1.0', '0.0', '0.0', '0.0', '0.0', '0.0', '3.0', '2.0', '2.0', '', '0.0', '0.0', '2.0', '', '0.0', '0.0', '8.0', '0.0', '', '0.0', '12.0', '26.0', '16.0', '0.0', '0.0', '128.0', '0.0', '', '0.0', '7.0', '1.0', '3.0', '1.0', '5.0', '0.0', '0.0', '0.0', '7.0', '0.0', '1.0', '0.0', '0.0', '0.0', '1.0', '', '', '', '', '', '', '', '', '', '', '', '', '', '0.0', '0.0', '0.0', '1.0', '1.0', '1.0', '0.0', '19.0', '0.0', '', '6.0', '0.0', '0.0', '1.0', '0.0', '0.0', '9.0', '', '2.0', '', '0.0', '6.0', '3.0', '', '8.0', '0.0', '1.0', '3.0', '2.0', '0.0', '0.0', '0.0', '0.0', '0.0', '0.0', '0.0', '1.0', '2.0', '3.0', '0.0', '', '0.0', '0.0', '588.0', '2.0', '0.0', '0.0', '0.0', '16.0', '1.0', '0.0', '0.0', '2.0', '0.0', '1.0', '5.0', '0.0', '10.0', '0.0', '0.0', '0.0', '0.0', '1.0', '', '0.0', '0.0', '0.0', '0.0', '1.0', '4.0', '1.0', '0.0', '1.0', '1.0', '0.0', '0.0', '3.0', '1.0', '0.0', '0.0', '19.0', '5.0', '5.0', '5.0', '5.0', '5.0', '0.0', '0.0', '0.0', '0.0', '1.0', '0.0', '0.0', '4.0', '0.0', '6.0', '0.0', '1.0', '0.0', '0.0', '', '2.0', '0.0', '0.0', '0.0', '1.0', '0.0', '0.0', '0.0', '3.0', '3.0', '2.0', '2.0', '2.0', '5.0', '1.0', '1.0', '2.0', '0.0', '1.0', '10.0', '1.0', '', '1.0', '3.0', '4.0', '1.0', '0.0', '10.0', '9.0', '1.0', '1.0', '1.0', '4.0', '0.0', '0.0', '0.0', '32.0', '21.0', '74.0', '1.0', '0.0', '0.0', '', '', '1.0', '0.0', '0.0', '1.0', '0.0', '3.0', '1.0', '1.0', '1.0', '0.0', '0.0', '1.0', '1.0', '0.0', '4.0', '1.0', '3.0', '1.0', '1.0', '8.0', '1.0', '2.0', '53.0', '26.0', '1.0', '7.0', '9.0', '5.0', '1.0', '1.0', '1.0', '0.0', '0.0', '9.0', '0.0', '1.0', '0.0', '1.0', '3.0', '0.0', '0.0', '6.0', '2.0', '0.0', '1.0', '2.0', '1.0', '1.0', '1.0', '2.0', '2.0', '0.0', '1.0', '0.0', '0.0', '0.0', '0.0', '0.0', '0.0', '0.0', '1.0', '1.0', '0.0', '1.0', '0.0', '0.0', '0.0', '0.0', '2.0', '', '0.0', '0.0', '0.0', '0.0', '', '3.0', '3.0', '57.0', '34.0', '1.0', '0.0', '0.0', '2.0', '0.0', '2.0', '0.0', '1.0', '2.0', '0.0', '1.0', '2.0', '1.0', '0.0', '1.0', '16.0', '0.0', '1.0', '0.0', '1.0', '1.0', '0.0', '0.0', '0.0', '0.0', '13.0', '0.0', '', '0.0', '1.0', '0.0', '', '0.0', '0.0', '16.0', '0.0', '0.0', '1.0', '1.0', '1.0', '14.0', '2.0', '2.0', '6.0', '0.0', '1.0', '0.0', '1.0', '0.0', '0.0', '0.0', '0.0', '0.0', '1.0', '0.0', '0.0', '', '2.0', '0.0', '', '0.0', '0.0', '0.0', '', '2.0', '1.0', '1.0', '0.0', '', '6.0', '3.0', '0.0', '4.0', '1.0', '0.0', '9.0', '1.0', '0.0', '1.0', '0.0', '', '0.0', '0.0', '0.0', '0.0', '0.0', '0.0', '0.0', '0.0', '1.0', '0.0', '0.0', '1.0', '3.0', '1.0', '9.0', '0.0', '0.0', '1.0', '3.0', '0.0', '26.0', '2.0', '0.0', '0.0', '1.0', '0.0', '0.0', '2.0', '0.0', '3.0', '10.0', '0.0', '0.0', '1.0', '0.0', '28.0', '2.0', '0.0', '1.0', '5.0', '1.0', '0.0', '5.0', '0.0', '7.0', '2.0', '2.0', '0.0', '7.0', '3.0', '2.0', '2.0', '1.0', '4.0', '0.0', '0.0', '0.0', '0.0', '1.0', '1.0', '2.0', '1.0', '5.0', '2.0', '0.0', '0.0', '0.0', '1.0', '0.0', '0.0', '3.0', '0.0', '0.0', '0.0', '0.0', '1.0', '0.0', '0.0', '2.0', '0.0', '1.0', '1.0', '0.0', '1.0', '5.0', '0.0', '0.0', '0.0', '1.0', '0.0', '0.0', '0.0', '0.0', '1.0', '2.0', '0.0', '0.0', '0.0', '0.0', '5.0', '4.0', '1.0', '3.0', '3.0', '2.0', '2.0', '2.0', '2.0', '17.0', '16.0', '5.0', '0.0', '2.0', '0.0', '0.0', '0.0', '0.0', '0.0', '1.0', '0.0', '0.0', '0.0', '2.0', '0.0', '0.0', '0.0', '4.0', '1.0', '0.0', '0.0', '1.0', '2.0', '11.0', '2.0', '2.0', '13.0', '0.0', '1.0', '2.0', '0.0', '2.0', '0.0', '0.0', '0.0', '0.0', '0.0', '0.0', '0.0', '0.0', '0.0', '0.0', '1.0', '0.0', '0.0', '0.0', '0.0', '6.0', '5.0', '1.0', '14.0', '0.0', '0.0', '1.0', '1.0', '0.0', '0.0', '29.0', '1.0', '2.0', '', '0.0', '4.0', '10.0', '0.0', '0.0', '1.0', '0.0', '1.0', '3.0', '0.0', '0.0', '0.0', '2.0', '4.0', '10.0', '8.0', '0.0', '6.0', '4.0', '4.0', '3.0', '3.0', '3.0', '3.0', '3.0', '6.0', '', '0.0', '0.0', '0.0', '4.0', '1.0', '0.0', '0.0', '0.0', '0.0', '3.0', '15.0', '2.0', '1.0', '0.0', '1.0', '3.0', '0.0', '', '2.0', '12.0', '1.0', '1.0', '0.0', '1.0', '0.0', '0.0', '1.0', '0.0', '4.0', '5.0', '0.0', '0.0', '1.0', '5.0', '0.0', '0.0', '13.0', '0.0', '0.0', '1.0', '1.0', '', '0.0', '2.0', '0.0', '0.0', '0.0', '3.0', '10.0', '0.0', '', '', '0.0', '6.0', '1.0', '0.0', '2.0', '2.0', '0.0', '1.0', '1.0', '0.0', '3.0', '2.0', '0.0', '1.0', '0.0', '76.0', '1.0', '3.0', '0.0', '1.0', '', '0.0', '0.0', '0.0', '0.0', '1.0', '1.0', '', '0.0', '0.0', '0.0', '0.0', '0.0', '1.0', '0.0', '1.0', '1.0', '1.0', '2.0', '0.0', '1.0', '4.0', '3.0', '55.0', '0.0', '0.0', '3.0', '0.0', '3.0', '0.0', '4.0', '0.0', '3.0', '0.0', '0.0', '0.0', '0.0', '2.0', '1.0', '1.0', '1.0', '4.0', '1.0', '10.0', '1.0', '4.0', '3.0', '0.0', '2.0', '0.0', '1.0', '1.0', '27.0', '0.0', '0.0', '45.0', '1.0', '0.0', '5.0', '0.0', '0.0', '0.0', '1.0', '0.0', '0.0', '', '0.0', '0.0', '1.0', '0.0', '0.0', '0.0', '0.0', '', '0.0', '5.0', '2.0', '0.0', '2.0', '0.0', '15.0', '0.0', '2.0', '5.0', '1.0', '0.0', '0.0', '0.0', '0.0', '0.0', '', '', '1.0', '0.0', '0.0', '0.0', '0.0', '2.0', '0.0', '9.0', '0.0', '0.0', '0.0', '1.0', '0.0', '0.0', '0.0', '0.0', '0.0', '0.0', '0.0', '1.0', '0.0', '0.0', '0.0', '0.0', '', '3.0', '11.0', '0.0', '1.0', '0.0', '1.0', '2.0', '0.0', '0.0', '0.0', '0.0', '0.0', '4.0', '0.0', '4.0', '5.0', '6.0', '2.0', '0.0', '0.0', '2.0', '10.0', '6.0', '0.0', '0.0', '0.0', '', '4.0', '', '0.0', '6.0', '', '2.0', '3.0', '0.0', '2.0', '0.0', '0.0', '2.0', '0.0', '2.0', '15.0', '1.0', '0.0', '0.0', '0.0', '0.0', '0.0', '3.0', '5.0', '1.0', '', '1.0', '4.0', '4.0', '0.0', '0.0', '3.0', '1.0', '1.0', '0.0', '0.0', '6.0', '2.0', '1.0', '1.0', '0.0', '9.0', '9.0', '9.0', '0.0', '1.0', '0.0', '1.0', '3.0', '3.0', '4.0', '0.0', '0.0', '0.0', '0.0', '0.0', '1.0', '0.0', '0.0', '0.0', '0.0', '1.0', '2.0', '1.0', '1.0', '1.0', '0.0', '3.0', '0.0', '1.0', '0.0', '0.0', '4.0', '0.0', '0.0', '3.0', '0.0', '0.0', '0.0', '0.0', '0.0', '0.0', '0.0', '2.0', '1.0', '2.0', '0.0', '0.0', '0.0', '0.0', '0.0', '12.0', '1.0', '0.0', '1.0', '8.0', '4.0', '34.0', '33.0', '16.0', '15.0', '5.0', '1.0', '1.0', '0.0', '0.0', '0.0', '1.0', '0.0', '2.0', '0.0', '2.0', '0.0', '0.0', '0.0', '0.0', '0.0', '0.0', '1.0', '2.0', '3.0', '18.0', '0.0', '1.0', '0.0', '0.0', '0.0', '0.0', '5.0', '0.0', '0.0', '0.0', '11.0', '0.0', '1.0', '0.0', '1.0', '0.0', '0.0', '0.0', '8.0', '1.0', '0.0', '0.0', '0.0', '2.0', '0.0', '61.0', '3.0', '0.0', '2.0', '1.0', '0.0', '1.0', '0.0', '1.0', '0.0', '1.0', '20.0', '4.0', '0.0', '5.0', '5.0', '5.0', '5.0', '1.0', '1.0', '2.0', '1.0', '1.0', '1.0', '1.0', '0.0', '0.0', '0.0', '15.0', '0.0', '0.0', '1.0', '7.0', '0.0', '0.0', '0.0', '0.0', '', '0.0', '0.0', '0.0', '0.0', '3.0', '4.0', '0.0', '0.0', '2.0', '1.0', '', '0.0', '0.0', '0.0', '21.0', '0.0', '2.0', '0.0', '6.0', '0.0', '2.0', '0.0', '0.0', '0.0', '0.0', '0.0', '0.0', '0.0', '0.0', '0.0', '3.0', '1.0', '0.0', '1.0', '0.0', '1.0', '1.0', '0.0', '1.0', '4.0', '4.0', '0.0', '8.0', '0.0', '2.0', '4.0', '0.0', '0.0', '0.0', '0.0', '0.0', '0.0', '0.0', '0.0', '0.0', '0.0', '0.0', '1.0', '3.0', '5.0', '0.0', '0.0', '2.0', '3.0', '3.0', '1.0', '1.0', '6.0', '1.0', '0.0', '0.0', '3.0', '0.0', '0.0', '0.0', '0.0', '0.0', '0.0', '1.0', '0.0', '1.0', '6.0', '0.0', '0.0', '3.0', '2.0', '1.0', '2.0', '0.0', '0.0', '7.0', '0.0', '0.0', '0.0', '0.0', '0.0', '0.0', '', '0.0', '3.0', '0.0', '0.0', '0.0', '1.0', '8.0', '8.0', '2.0', '7.0', '7.0', '3.0', '1.0', '37.0', '1.0', '0.0', '', '', '0.0', '59.0', '', '1.0', '0.0', '0.0', '0.0', '0.0', '0.0', '5.0', '4.0', '0.0', '1.0', '1.0', '0.0', '', '1.0', '1.0', '1.0', '0.0', '1.0', '0.0', '1.0', '1.0', '2.0', '2.0', '0.0', '0.0', '0.0', '1.0', '0.0', '0.0', '1.0', '1.0', '0.0', '0.0', '0.0', '1.0', '1.0', '0.0', '1.0', '9.0', '11.0', '17.0', '0.0', '0.0', '0.0', '0.0', '0.0', '0.0', '0.0', '0.0', '0.0', '1.0', '3.0', '7.0', '3.0', '7.0', '0.0', '4.0', '0.0', '0.0', '311.0', '1.0', '', '0.0', '0.0', '0.0', '3.0', '1.0', '0.0', '0.0', '0.0', '3.0', '0.0', '0.0', '0.0', '0.0', '1.0', '7.0', '1.0', '1.0', '1.0', '0.0', '0.0', '2.0', '0.0', '0.0', '0.0', '0.0', '0.0', '0.0', '0.0', '3.0', '4.0', '1.0', '0.0', '0.0', '0.0', '0.0', '', '5.0', '0.0', '3.0', '0.0', '0.0', '1.0', '1.0', '7.0', '1.0', '4.0', '0.0', '0.0', '0.0', '0.0', '0.0', '0.0', '1.0', '0.0', '0.0', '0.0', '0.0', '0.0', '4.0', '', '1.0', '0.0', '0.0', '1.0', '0.0', '0.0', '0.0', '0.0', '0.0', '0.0', '0.0', '0.0', '0.0', '0.0', '0.0', '0.0', '0.0', '0.0', '0.0', '2.0', '1.0', '0.0', '0.0', '0.0', '1.0', '1.0', '3.0', '1.0', '1.0', '4.0', '0.0', '0.0', '0.0', '0.0', '1.0', '', '0.0', '1.0', '0.0', '1.0', '10.0', '1.0', '9.0', '1.0', '4.0', '2.0', '1.0', '1.0', '0.0', '0.0', '0.0', '0.0', '0.0', '0.0', '1.0', '1.0', '34.0', '0.0', '0.0', '1.0', '0.0', '0.0', '0.0', '0.0', '0.0', '0.0', '0.0', '1.0', '1.0', '1.0', '0.0', '13.0', '0.0', '2.0', '0.0', '0.0', '0.0', '0.0', '1.0', '1.0', '', '', '3.0', '', '7.0', '1.0', '0.0', '1.0', '1.0', '8.0', '2.0', '6.0', '1.0', '1.0', '0.0', '1.0', '0.0', '0.0', '0.0', '34.0', '0.0', '0.0', '0.0', '0.0', '0.0', '0.0', '0.0', '0.0', '1.0', '2.0', '1.0', '0.0', '1.0', '0.0', '0.0', '0.0', '0.0', '0.0', '0.0', '0.0', '5.0', '', '2.0', '1.0', '1.0', '0.0', '2.0', '0.0', '4.0', '2.0', '0.0', '2.0', '0.0', '0.0', '0.0', '1.0', '1.0', '0.0', '0.0', '0.0', '1.0', '1.0', '5.0', '0.0', '2.0', '5.0', '0.0', '0.0', '0.0', '0.0', '0.0', '19.0', '1.0', '92.0', '0.0', '3.0', '0.0', '0.0', '1.0', '1.0', '4.0', '1.0', '0.0', '0.0', '3.0', '0.0', '1.0', '0.0', '0.0', '0.0', '0.0', '26.0', '12.0', '1.0', '0.0', '12.0', '2.0', '0.0', '1.0', '', '4.0', '1.0', '2.0', '0.0', '9.0', '4.0', '2.0', '2.0', '2.0', '1.0', '20.0', '0.0', '0.0', '0.0', '1.0', '2.0', '0.0', '0.0', '0.0', '0.0', '8.0', '7.0', '0.0', '3.0', '0.0', '1.0', '0.0', '1.0', '0.0', '1.0', '0.0', '0.0', '0.0', '2.0', '0.0', '', '0.0', '0.0', '4.0', '0.0', '0.0', '0.0', '0.0', '0.0', '0.0', '', '0.0', '0.0', '0.0', '1.0', '1.0', '0.0', '1.0', '1.0', '0.0', '6.0', '1.0', '0.0', '', '1.0', '0.0', '0.0', '', '1.0', '0.0', '2.0', '0.0', '0.0', '0.0', '0.0', '1.0', '0.0', '0.0', '1.0', '3.0', '0.0', '0.0', '3.0', '0.0', '0.0', '0.0', '1.0', '0.0', '2.0', '0.0', '4.0', '0.0', '0.0', '1.0', '0.0', '0.0', '1.0', '1.0', '0.0', '0.0', '0.0', '4.0', '4.0', '0.0', '0.0', '0.0', '0.0', '0.0', '0.0', '0.0', '', '', '', '6.0', '0.0', '0.0', '1.0', '1.0', '6.0', '8.0', '1.0', '1.0', '', '', '', '3.0', '1.0', '', '', '1.0', '0.0', '3.0', '0.0', '0.0', '3.0', '3.0', '0.0', '1.0', '0.0', '', '0.0', '0.0', '', '0.0', '0.0', '1.0', '3.0', '2.0', '0.0', '0.0', '1.0', '1.0', '1.0', '5.0', '1.0', '1.0', '0.0', '0.0', '0.0', '0.0', '0.0', '0.0', '0.0', '0.0', '0.0', '0.0', '0.0', '0.0', '1.0', '0.0', '0.0', '20.0', '0.0', '0.0', '0.0', '1.0', '', '0.0', '0.0', '0.0', '0.0', '1.0', '0.0', '0.0', '0.0', '1.0', '0.0', '0.0', '0.0', '0.0', '0.0', '0.0', '6.0', '0.0', '2.0', '3.0', '0.0', '2.0', '5.0', '7.0', '1.0', '', '4.0', '1.0', '14.0', '0.0', '0.0', '0.0', '0.0', '3.0', '0.0', '0.0', '10.0', '0.0', '0.0', '0.0', '0.0', '0.0', '0.0', '', '2.0', '0.0', '0.0', '0.0', '2.0', '1.0', '0.0', '4.0', '0.0', '1.0', '1.0', '0.0', '0.0', '0.0', '', '2.0', '1.0', '0.0', '0.0', '0.0', '', '1.0', '0.0', '11.0', '0.0', '0.0', '', '1.0', '4.0', '0.0', '', '0.0', '0.0', '0.0', '1.0', '0.0', '0.0', '2.0', '3.0', '4.0', '', '', '0.0', '6.0', '0.0', '0.0', '1.0', '0.0', '2.0', '3.0', '0.0', '1.0', '1.0', '0.0', '0.0', '0.0', '2.0', '0.0', '1.0', '2.0', '1.0', '1.0', '2.0', '1.0', '4.0', '0.0', '0.0', '0.0', '1.0', '0.0', '1.0', '0.0', '5.0', '0.0', '0.0', '2.0', '0.0', '0.0', '', '0.0', '7.0', '6.0', '2.0', '0.0', '0.0', '1.0', '1.0', '0.0', '2.0', '1.0', '1.0', '1.0', '1.0', '1.0', '1.0', '1.0', '', '1.0', '2.0', '11.0', '1.0', '3.0', '2.0', '0.0', '0.0', '0.0', '14.0', '0.0', '0.0', '0.0', '2.0', '2.0', '0.0', '0.0', '1.0', '', '1.0', '2.0', '0.0', '2.0', '2.0', '0.0', '0.0', '3.0', '1.0', '3.0', '0.0', '0.0', '2.0', '4.0', '0.0', '0.0', '0.0', '0.0', '1.0', '0.0', '0.0', '1.0', '19.0', '4.0', '', '0.0', '0.0', '0.0', '20.0', '0.0', '4.0', '1.0', '0.0', '52.0', '5.0', '0.0', '1.0', '1.0', '0.0', '0.0', '3.0', '1.0', '1.0', '0.0', '0.0', '10.0', '0.0', '0.0', '1.0', '', '0.0', '1.0', '1.0', '0.0', '0.0', '1.0', '0.0', '0.0', '10.0', '0.0', '0.0', '0.0', '0.0', '0.0', '0.0', '4.0', '0.0', '0.0', '1.0', '0.0', '0.0', '0.0', '1.0', '1.0', '1.0', '11.0', '0.0', '1.0', '12.0', '11.0', '2.0', '0.0', '1.0', '0.0', '', '2.0', '8.0', '0.0', '0.0', '1.0', '1.0', '0.0', '3.0', '1.0', '1.0', '0.0', '0.0', '1.0', '0.0', '0.0', '1.0', '0.0', '', '1.0', '2.0', '0.0', '0.0', '4.0', '3.0', '1.0', '2.0', '3.0', '1.0', '2.0', '0.0', '0.0', '0.0', '0.0', '0.0', '0.0', '4.0', '0.0', '0.0', '1.0', '0.0', '2.0', '0.0', '0.0', '1.0', '0.0', '1.0', '0.0', '0.0', '1.0', '1.0', '2.0', '5.0', '3.0', '2.0', '1.0', '0.0', '0.0', '1.0', '1.0', '0.0', '22.0', '0.0', '0.0', '0.0', '0.0', '2.0', '0.0', '9.0', '10.0', '1.0', '0.0', '0.0', '0.0', '0.0', '', '5.0', '0.0', '1.0', '0.0', '0.0', '0.0', '4.0', '6.0', '1.0', '0.0', '6.0', '1.0', '1.0', '2.0', '1.0', '0.0', '1.0', '2.0', '1.0', '7.0', '0.0', '0.0', '4.0', '2.0', '2.0', '4.0', '0.0', '8.0', '0.0', '0.0', '0.0', '0.0', '1.0', '0.0', '0.0', '8.0', '0.0', '1.0', '0.0', '0.0', '11.0', '0.0', '1.0', '0.0', '4.0', '0.0', '0.0', '1.0', '0.0', '1.0', '1.0', '1.0', '0.0', '1.0', '0.0', '7.0', '2.0', '1.0', '0.0', '2.0', '5.0', '7.0', '3.0', '6.0', '10.0', '3.0', '5.0', '1.0', '3.0', '', '0.0', '0.0', '0.0', '15.0', '1.0', '4.0', '0.0', '0.0', '0.0', '0.0', '1.0', '0.0', '7.0', '', '', '4.0', '0.0', '2.0', '0.0', '0.0', '1.0', '0.0', '', '0.0', '4.0', '10.0', '3.0', '0.0', '0.0', '0.0', '12.0', '4.0', '', '5.0', '0.0', '1.0', '0.0', '0.0', '2.0', '6.0', '0.0', '0.0', '0.0', '1.0', '0.0', '0.0', '2.0', '1.0', '0.0', '3.0', '2.0', '2.0', '0.0', '1.0', '0.0', '4.0', '1.0', '0.0', '1.0', '0.0', '1.0', '1.0', '6.0', '2.0', '0.0', '2.0', '1.0', '2.0', '1.0', '', '0.0', '0.0', '0.0', '1.0', '0.0', '0.0', '51.0', '1.0', '0.0', '6.0', '5.0', '0.0', '0.0', '1.0', '0.0', '1.0', '0.0', '0.0', '4.0', '3.0', '2.0', '0.0', '2.0', '4.0', '0.0', '0.0', '1.0', '0.0', '0.0', '0.0', '0.0', '0.0', '7.0', '0.0', '', '2.0', '0.0', '3.0', '0.0', '0.0', '1.0', '4.0', '10.0', '2.0', '0.0', '1.0', '', '1.0', '', '0.0', '0.0', '0.0', '0.0', '0.0', '', '24.0', '23.0', '23.0', '', '2.0', '0.0', '0.0', '0.0', '0.0', '0.0', '0.0', '0.0', '0.0', '0.0', '11.0', '0.0', '2.0', '50.0', '5.0', '25.0', '0.0', '0.0', '0.0', '0.0', '1.0', '', '0.0', '0.0', '0.0', '', '', '0.0', '0.0', '1.0', '4.0', '8.0', '18.0', '5.0', '2.0', '5.0', '0.0', '1.0', '13.0', '0.0', '1.0', '0.0', '6.0', '0.0', '0.0', '1.0', '2.0', '0.0', '0.0', '0.0', '0.0', '0.0', '0.0', '0.0', '69.0', '', '0.0', '1.0', '0.0', '2.0', '0.0', '0.0', '', '5.0', '1.0', '0.0', '', '9.0', '', '1.0', '60.0', '0.0', '15.0', '', '0.0', '0.0', '1.0', '0.0', '0.0', '6.0', '6.0', '11.0', '10.0', '3.0', '5.0', '4.0', '0.0', '0.0', '0.0', '61.0', '4.0', '7.0', '4.0', '5.0', '10.0', '12.0', '0.0', '7.0', '0.0', '0.0', '', '1.0', '0.0', '0.0', '0.0', '7.0', '1.0', '0.0', '0.0', '0.0', '1.0', '0.0', '5.0', '8.0', '0.0', '0.0', '2.0', '0.0', '2.0', '0.0', '1.0', '0.0', '2.0', '0.0', '1.0', '1.0', '', '1.0', '0.0', '0.0', '0.0', '1.0', '0.0', '0.0', '0.0', '0.0', '0.0', '0.0', '', '3.0', '2.0', '0.0', '0.0', '14.0', '0.0', '0.0', '0.0', '0.0', '1.0', '0.0', '0.0', '0.0', '3.0', '4.0', '', '0.0', '17.0', '2.0', '0.0', '0.0', '0.0', '0.0', '0.0', '0.0', '5.0', '3.0', '0.0', '1.0', '0.0', '0.0', '0.0', '0.0', '', '', '', '0.0', '0.0', '0.0', '0.0', '5.0', '1.0', '7.0', '1.0', '0.0', '6.0', '7.0', '4.0', '24.0', '35.0', '0.0', '0.0', '0.0', '11.0', '0.0', '0.0', '0.0', '1.0', '1.0', '0.0', '0.0', '0.0', '0.0', '0.0', '0.0', '5.0', '0.0', '3.0', '', '3.0', '0.0', '1.0', '6.0', '', '0.0', '0.0', '0.0', '0.0', '0.0', '0.0', '1.0', '0.0', '2.0', '0.0', '0.0', '', '4.0', '0.0', '1.0', '1.0', '0.0', '20.0', '3.0', '1.0', '1.0', '1.0', '0.0', '17.0', '2.0', '0.0', '0.0', '0.0', '0.0', '51.0', '', '0.0', '0.0', '4.0', '0.0', '19.0', '0.0', '2.0', '0.0', '0.0', '0.0', '0.0', '0.0', '17.0', '25.0', '13.0', '1.0', '4.0', '4.0', '0.0', '0.0', '0.0', '0.0', '0.0', '0.0', '0.0', '0.0', '0.0', '0.0', '0.0', '0.0', '0.0', '4.0', '0.0', '13.0', '0.0', '0.0', '0.0', '0.0', '2.0', '0.0', '0.0', '0.0', '0.0', '0.0', '8.0', '1.0', '8.0', '2.0', '', '8.0', '0.0', '0.0', '0.0', '1.0', '5.0', '0.0', '0.0', '0.0', '0.0', '', '2.0', '36.0', '36.0', '17.0', '0.0', '0.0', '11.0', '', '0.0', '9.0', '7.0', '0.0', '0.0', '0.0', '0.0', '0.0', '0.0', '2.0', '0.0', '1.0', '1.0', '0.0', '0.0', '3.0', '2.0', '2.0', '0.0', '0.0', '0.0', '0.0', '0.0', '0.0', '0.0', '0.0', '0.0', '0.0', '0.0', '0.0', '1.0', '0.0', '1.0', '0.0', '0.0', '4.0', '4.0', '2.0', '0.0', '0.0', '0.0', '1.0', '2.0', '', '0.0', '5.0', '0.0', '0.0', '0.0', '4.0', '0.0', '1.0', '5.0', '17.0', '4.0', '3.0', '0.0', '', '0.0', '0.0', '3.0', '8.0', '2.0', '1.0', '', '1.0', '0.0', '0.0', '0.0', '1.0', '0.0', '0.0', '0.0', '0.0', '0.0', '0.0', '0.0', '0.0', '0.0', '2.0', '0.0', '3.0', '0.0', '0.0', '0.0', '0.0', '2.0', '2.0', '1.0', '1.0', '14.0', '27.0', '', '0.0', '0.0', '', '2.0', '5.0', '0.0', '0.0', '3.0', '2.0', '4.0', '0.0', '0.0', '1.0', '0.0', '0.0', '7.0', '0.0', '0.0', '0.0', '0.0', '0.0', '0.0', '4.0', '4.0', '0.0', '0.0', '0.0', '0.0', '0.0', '', '', '0.0', '1.0', '1.0', '1.0', '0.0', '1.0', '2.0', '0.0', '0.0', '0.0', '0.0', '0.0', '0.0', '0.0', '1.0', '0.0', '1.0', '0.0', '0.0', '4.0', '', '0.0', '0.0', '20.0', '0.0', '0.0', '3.0', '0.0', '30.0', '3.0', '9.0', '8.0', '0.0', '', '2.0', '0.0', '0.0', '0.0', '0.0', '0.0', '1.0', '0.0', '3.0', '0.0', '0.0', '0.0', '0.0', '0.0', '2.0', '0.0', '0.0', '0.0', '4.0', '2.0', '5.0', '5.0', '0.0', '4.0', '0.0', '', '', '', '', '', '', '', '', '0.0', '', '', '', '0.0', '0.0', '0.0', '1.0', '0.0', '20.0', '0.0', '', '', '7.0', '0.0', '1.0', '', '', '', '', '', '14.0', '', '115.0', '', '0.0', '4.0', '16.0', '0.0', '3.0', '1.0', '4.0', '2.0', '0.0', '0.0', '0.0', '0.0', '0.0', '0.0', '1.0', '0.0', '0.0', '0.0', '0.0', '0.0', '0.0', '0.0', '0.0', '0.0', '', '9.0', '0.0', '3.0', '0.0', '0.0', '0.0', '3.0', '9.0', '3.0', '3.0', '0.0', '0.0', '1.0', '2.0', '4.0', '10.0', '0.0', '', '8.0', '0.0', '0.0', '0.0', '0.0', '1.0', '1.0', '1.0', '0.0', '2.0', '0.0', '0.0', '5.0', '10.0', '0.0', '14.0', '14.0', '1.0', '5.0', '0.0', '0.0', '0.0', '0.0', '0.0', '0.0', '0.0', '3.0', '9.0', '0.0', '0.0', '0.0', '7.0', '6.0', '3.0', '0.0', '0.0', '0.0', '6.0', '0.0', '1.0', '7.0', '65.0', '0.0', '0.0', '3.0', '0.0', '0.0', '', '', '0.0', '0.0', '0.0', '0.0', '0.0', '14.0', '0.0', '5.0', '0.0', '0.0', '0.0', '0.0', '0.0', '0.0', '0.0', '0.0', '0.0', '2.0', '0.0', '0.0', '0.0', '1.0', '1.0', '15.0', '1.0', '0.0', '0.0', '0.0', '1.0', '', '5.0', '1.0', '4.0', '0.0', '0.0', '', '0.0', '61.0', '13.0', '6.0', '0.0', '8.0', '0.0', '0.0', '0.0', '', '0.0', '', '0.0', '2.0', '3.0', '0.0', '0.0', '0.0', '6.0', '0.0', '1.0', '0.0', '0.0', '0.0', '0.0', '0.0', '0.0', '4.0', '0.0', '0.0', '0.0', '1.0', '2.0', '2.0', '0.0', '0.0', '0.0', '0.0', '0.0', '0.0', '0.0', '9.0', '7.0', '2.0', '', '7.0', '6.0', '0.0', '0.0', '0.0', '0.0', '41.0', '0.0', '1.0', '0.0', '0.0', '', '0.0', '0.0', '1.0', '0.0', '0.0', '', '0.0', '0.0', '0.0', '0.0', '2.0', '0.0', '1.0', '0.0', '4.0', '3.0', '0.0', '', '0.0', '1.0', '1.0', '1.0', '0.0', '', '0.0', '0.0', '6.0', '1.0', '2.0', '0.0', '0.0', '0.0', '0.0', '0.0', '', '0.0', '0.0', '0.0', '0.0', '0.0', '0.0', '0.0', '0.0', '5.0', '2.0', '4.0', '', '8.0', '4.0', '6.0', '0.0', '3.0', '0.0', '0.0', '15.0', '4.0', '6.0', '8.0', '0.0', '0.0', '14.0', '0.0', '0.0', '0.0', '0.0', '0.0', '0.0', '', '0.0', '7.0', '0.0', '0.0', '0.0', '', '', '', '0.0', '', '0.0', '0.0', '0.0', '2.0', '2.0', '0.0', '0.0', '0.0', '0.0', '0.0', '0.0', '0.0', '0.0', '2.0', '2.0', '1.0', '0.0', '0.0', '9.0', '0.0', '1.0', '3.0', '0.0', '1.0', '6.0', '0.0', '', '0.0', '0.0', '1.0', '0.0', '0.0', '0.0', '1.0', '19.0', '0.0', '0.0', '0.0', '0.0', '2.0', '0.0', '0.0', '0.0', '0.0', '0.0', '2.0', '7.0', '1.0', '0.0', '0.0', '13.0', '1.0', '0.0', '4.0', '0.0', '0.0', '1.0', '0.0', '2.0', '4.0', '2.0', '0.0', '0.0', '0.0', '0.0', '1.0', '49.0', '2.0', '3.0', '3.0', '0.0', '0.0', '0.0', '0.0', '0.0', '0.0', '0.0', '0.0', '2.0', '0.0', '0.0', '0.0', '0.0', '10.0', '', '3.0', '0.0', '0.0', '5.0', '5.0', '4.0', '4.0', '4.0', '0.0', '0.0', '0.0', '7.0', '0.0', '0.0', '0.0', '0.0', '0.0', '0.0', '1.0', '0.0', '', '9.0', '3.0', '0.0', '11.0', '', '0.0', '0.0', '3.0', '0.0', '0.0', '1.0', '7.0', '0.0', '0.0', '0.0', '0.0', '1.0', '0.0', '0.0', '0.0', '0.0', '5.0', '', '1.0', '0.0', '0.0', '', '0.0', '0.0', '0.0', '0.0', '2.0', '3.0', '3.0', '5.0', '0.0', '0.0', '0.0', '1.0', '0.0', '1.0', '1.0', '6.0', '', '0.0', '3.0', '5.0', '4.0', '1.0', '0.0', '0.0', '0.0', '0.0', '', '2.0', '1.0', '0.0', '0.0', '1.0', '0.0', '2.0', '2.0', '0.0', '0.0', '2.0', '2.0', '2.0', '2.0', '3.0', '0.0', '0.0', '0.0', '1.0', '0.0', '0.0', '0.0', '0.0', '', '', '24.0', '0.0', '3.0', '4.0', '0.0', '0.0', '0.0', '0.0', '0.0', '0.0', '0.0', '2.0', '0.0', '', '2.0', '5.0', '0.0', '0.0', '', '0.0', '0.0', '7.0', '7.0', '5.0', '0.0', '', '0.0', '0.0', '0.0', '0.0', '0.0', '0.0', '', '0.0', '0.0', '1.0', '2.0', '0.0', '0.0', '0.0', '0.0', '0.0', '0.0', '0.0', '0.0', '0.0', '0.0', '0.0', '0.0', '0.0', '0.0', '0.0', '0.0', '0.0', '0.0', '0.0', '0.0', '0.0', '0.0', '0.0', '0.0', '0.0', '10.0', '0.0', '5.0', '4.0', '7.0', '8.0', '5.0', '0.0', '', '4.0', '4.0', '', '0.0', '0.0', '2.0', '0.0', '0.0', '0.0', '3.0', '0.0', '', '0.0', '', '1.0', '0.0', '0.0', '0.0', '0.0', '0.0', '0.0', '0.0', '1.0', '3.0', '2.0', '0.0', '6.0', '1.0', '4.0', '0.0', '0.0', '0.0', '0.0', '5.0', '0.0', '3.0', '0.0', '', '', '0.0', '0.0', '4.0', '0.0', '1.0', '1.0', '1.0', '3.0', '2.0', '0.0', '0.0', '', '0.0', '41.0', '2.0', '3.0', '4.0', '', '2.0', '0.0', '0.0', '', '2.0', '', '1.0', '2.0', '9.0', '0.0', '2.0', '2.0', '2.0', '5.0', '0.0', '0.0', '5.0', '0.0', '0.0', '', '0.0', '0.0', '1.0', '0.0', '0.0', '0.0', '0.0', '1.0', '2.0', '0.0', '0.0', '0.0', '1.0', '0.0', '0.0', '', '6.0', '9.0', '4.0', '0.0', '2.0', '0.0', '2.0', '0.0', '7.0', '0.0', '5.0', '0.0', '0.0', '2.0', '0.0', '0.0', '0.0', '0.0', '0.0', '0.0', '4.0', '5.0', '0.0', '0.0', '0.0', '0.0', '4.0', '0.0', '2.0', '6.0', '6.0', '16.0', '2.0', '0.0', '', '0.0', '0.0', '0.0', '', '0.0', '1.0', '2.0', '2.0', '0.0', '0.0', '0.0', '0.0', '0.0', '0.0', '0.0', '7.0', '1.0', '', '4.0', '0.0', '2.0', '14.0', '7.0', '4.0', '0.0', '0.0', '0.0', '19.0', '', '0.0', '0.0', '0.0', '0.0', '0.0', '0.0', '0.0', '0.0', '24.0', '0.0', '0.0', '6.0', '3.0', '4.0', '', '21.0', '0.0', '0.0', '0.0', '0.0', '1.0', '0.0', '2.0', '', '5.0', '5.0', '3.0', '0.0', '', '0.0', '0.0', '0.0', '0.0', '0.0', '3.0', '', '0.0', '0.0', '', '0.0', '0.0', '6.0', '4.0', '', '0.0', '1.0', '0.0', '4.0', '0.0', '0.0', '0.0', '0.0', '0.0', '3.0', '3.0', '2.0', '3.0', '3.0', '', '', '', '3.0', '3.0', '7.0', '', '5.0', '0.0', '0.0', '1.0', '1.0', '1.0', '0.0', '2.0', '', '0.0', '0.0', '', '2.0', '0.0', '56.0', '5.0', '0.0', '0.0', '5.0', '0.0', '0.0', '3.0', '1.0', '2.0', '', '4.0', '2.0', '1.0', '0.0', '3.0', '2.0', '0.0', '', '0.0', '0.0', '0.0', '1.0', '1.0', '0.0', '0.0', '2.0', '1.0', '2.0', '0.0', '0.0', '2.0', '', '0.0', '0.0', '8.0', '3.0', '0.0', '0.0', '8.0', '5.0', '7.0', '0.0', '0.0', '0.0', '0.0', '1.0', '0.0', '0.0', '0.0', '0.0', '0.0', '1.0', '3.0', '1.0', '7.0', '15.0', '0.0', '', '', '', '30.0', '4.0', '0.0', '0.0', '3.0', '2.0', '7.0', '', '0.0', '1.0', '', '1.0', '0.0', '6.0', '4.0', '4.0', '1.0', '0.0', '0.0', '0.0', '1.0', '', '2.0', '0.0', '3.0', '0.0', '0.0', '2.0', '', '0.0', '', '0.0', '351.0', '50.0', '2.0', '0.0', '2.0', '0.0', '0.0', '0.0', '3.0', '0.0', '0.0', '0.0', '0.0', '1.0', '1.0', '6.0', '0.0', '1.0', '0.0', '0.0', '1.0', '0.0', '15.0', '0.0', '0.0', '0.0', '0.0', '0.0', '0.0', '2.0', '2.0', '0.0', '0.0', '15.0', '1.0', '0.0', '1.0', '', '2.0', '2.0', '1.0', '0.0', '0.0', '2.0', '1.0', '2.0', '0.0', '3.0', '3.0', '8.0', '0.0', '1.0', '0.0', '2.0', '1.0', '0.0', '0.0', '0.0', '3.0', '', '0.0', '6.0', '3.0', '2.0', '0.0', '3.0', '0.0', '0.0', '0.0', '0.0', '0.0', '0.0', '1.0', '0.0', '0.0', '0.0', '0.0', '6.0', '10.0', '0.0', '0.0', '1.0', '0.0', '2.0', '4.0', '2.0', '47.0', '0.0', '26.0', '4.0', '11.0', '6.0', '0.0', '8.0', '0.0', '0.0', '4.0', '9.0', '0.0', '', '1.0', '0.0', '0.0', '1.0', '1.0', '0.0', '0.0', '0.0', '2.0', '0.0', '0.0', '14.0', '0.0', '0.0', '1.0', '0.0', '2.0', '0.0', '0.0', '11.0', '5.0', '4.0', '1.0', '0.0', '0.0', '0.0', '0.0', '0.0', '0.0', '1.0', '4.0', '0.0', '0.0', '0.0', '', '0.0', '', '5.0', '7.0', '4.0', '0.0', '2.0', '4.0', '4.0', '0.0', '22.0', '3.0', '1.0', '3.0', '0.0', '0.0', '', '0.0', '0.0', '0.0', '0.0', '1.0', '1.0', '0.0', '0.0', '0.0', '1.0', '4.0', '0.0', '10.0', '1.0', '15.0', '30.0', '4.0', '3.0', '0.0', '0.0', '0.0', '3.0', '0.0', '3.0', '3.0', '0.0', '1.0', '0.0', '0.0', '0.0', '1.0', '', '1.0', '2.0', '0.0', '0.0', '4.0', '0.0', '19.0', '3.0', '0.0', '19.0', '6.0', '1.0', '2.0', '0.0', '1.0', '0.0', '0.0', '0.0', '0.0', '1.0', '1.0', '0.0', '0.0', '0.0', '', '0.0', '0.0', '25.0', '1.0', '1.0', '1.0', '2.0', '1.0', '0.0', '0.0', '3.0', '2.0', '0.0', '0.0', '', '', '', '1.0', '5.0', '', '1.0', '2.0', '0.0', '5.0', '4.0', '0.0', '4.0', '1.0', '0.0', '0.0', '0.0', '0.0', '0.0', '0.0', '0.0', '0.0', '0.0', '2.0', '1.0', '4.0', '0.0', '0.0', '0.0', '0.0', '0.0', '11.0', '0.0', '0.0', '100.0', '3.0', '1.0', '0.0', '0.0', '0.0', '3.0', '0.0', '4.0', '0.0', '', '0.0', '0.0', '0.0', '0.0', '4.0', '0.0', '6.0', '0.0', '', '0.0', '3.0', '1.0', '3.0', '', '', '1.0', '0.0', '17.0', '17.0', '0.0', '0.0', '0.0', '2.0', '0.0', '2.0', '0.0', '0.0', '0.0', '0.0', '0.0', '6.0', '0.0', '1.0', '0.0', '2.0', '0.0', '0.0', '0.0', '0.0', '0.0', '0.0', '0.0', '0.0', '0.0', '0.0', '1.0', '0.0', '0.0', '7.0', '0.0', '0.0', '0.0', '1.0', '0.0', '5.0', '0.0', '0.0', '3.0', '0.0', '0.0', '0.0', '0.0', '16.0', '0.0', '15.0', '0.0', '', '9.0', '0.0', '0.0', '4.0', '0.0', '0.0', '0.0', '', '0.0', '0.0', '1.0', '4.0', '0.0', '0.0', '0.0', '1.0', '0.0', '1.0', '3.0', '0.0', '0.0', '0.0', '0.0', '1.0', '3.0', '4.0', '', '0.0', '1.0', '0.0', '0.0', '0.0', '1.0', '0.0', '7.0', '1.0', '2.0', '0.0', '', '0.0', '0.0', '0.0', '0.0', '7.0', '0.0', '0.0', '0.0', '0.0', '0.0', '0.0', '0.0', '2.0', '4.0', '0.0', '3.0', '0.0', '2.0', '4.0', '0.0', '4.0', '0.0', '0.0', '0.0', '', '', '31.0', '1.0', '0.0', '0.0', '0.0', '0.0', '', '0.0', '0.0', '0.0', '0.0', '0.0', '0.0', '', '0.0', '2.0', '4.0', '0.0', '5.0', '', '0.0', '0.0', '0.0', '6.0', '', '0.0', '0.0', '0.0', '3.0', '53.0', '54.0', '1.0', '8.0', '0.0', '2.0', '0.0', '0.0', '0.0', '0.0', '0.0', '3.0', '2.0', '3.0', '', '0.0', '0.0', '0.0', '0.0', '3.0', '3.0', '3.0', '3.0', '3.0', '0.0', '0.0', '3.0', '0.0', '0.0', '0.0', '1.0', '0.0', '0.0', '0.0', '0.0', '0.0', '2.0', '', '', '0.0', '0.0', '0.0', '2.0', '', '0.0', '2.0', '1.0', '', '2.0', '2.0', '8.0', '0.0', '0.0', '1.0', '1.0', '0.0', '0.0', '', '4.0', '0.0', '', '', '', '0.0', '0.0', '0.0', '0.0', '0.0', '0.0', '0.0', '0.0', '0.0', '0.0', '1.0', '1.0', '0.0', '0.0', '', '0.0', '1.0', '0.0', '1.0', '', '3.0', '0.0', '2.0', '0.0', '0.0', '0.0', '0.0', '20.0', '0.0', '0.0', '0.0', '0.0', '2.0', '0.0', '0.0', '4.0', '2.0', '3.0', '2.0', '', '0.0', '2.0', '0.0', '1.0', '3.0', '', '', '5.0', '1.0', '0.0', '3.0', '0.0', '1.0', '', '2.0', '0.0', '1.0', '0.0', '1.0', '0.0', '0.0', '3.0', '', '0.0', '1.0', '5.0', '0.0', '0.0', '0.0', '33.0', '', '0.0', '0.0', '', '0.0', '3.0', '0.0', '0.0', '1.0', '', '', '4.0', '0.0', '2.0', '1.0', '1.0', '1.0', '0.0', '0.0', '0.0', '0.0', '0.0', '3.0', '0.0', '0.0', '0.0', '0.0', '0.0', '0.0', '0.0', '0.0', '', '', '0.0', '0.0', '0.0', '0.0', '1.0', '0.0', '1.0', '0.0', '0.0', '0.0', '0.0', '1.0', '', '0.0', '0.0', '', '0.0', '4.0', '2.0', '2.0', '0.0', '0.0', '0.0', '0.0', '0.0', '0.0', '10.0', '3.0', '0.0', '3.0', '0.0', '0.0', '0.0', '0.0', '0.0', '1.0', '0.0', '0.0', '', '0.0', '0.0', '1.0', '', '0.0', '0.0', '0.0', '0.0', '0.0', '0.0', '0.0', '', '0.0', '3.0', '1.0', '2.0', '1.0', '1.0', '0.0', '50.0', '0.0', '', '0.0', '0.0', '5.0', '0.0', '2.0', '2.0', '3.0', '0.0', '0.0', '5.0', '0.0', '4.0', '84.0', '0.0', '1.0', '1.0', '0.0', '9.0', '8.0', '8.0', '0.0', '0.0', '0.0', '1.0', '1.0', '0.0', '', '0.0', '0.0', '2.0', '1.0', '0.0', '0.0', '0.0', '0.0', '0.0', '0.0', '4.0', '', '0.0', '0.0', '1.0', '0.0', '1.0', '', '3.0', '2.0', '3.0', '', '0.0', '2.0', '0.0', '0.0', '0.0', '0.0', '0.0', '4.0', '4.0', '0.0', '0.0', '0.0', '0.0', '', '', '2.0', '1.0', '0.0', '0.0', '0.0', '3.0', '2.0', '0.0', '', '8.0', '0.0', '0.0', '1.0', '1.0', '', '0.0', '1.0', '1.0', '3.0', '', '', '0.0', '0.0', '0.0', '0.0', '4.0', '', '', '3.0', '0.0', '0.0', '0.0', '0.0', '0.0', '0.0', '0.0', '0.0', '0.0', '4.0', '7.0', '', '0.0', '', '0.0', '7.0', '0.0', '2.0', '0.0', '0.0', '0.0', '2.0', '', '0.0', '0.0', '1.0', '1.0', '0.0', '1.0', '', '0.0', '0.0', '56.0', '0.0', '4.0', '4.0', '0.0', '', '0.0', '0.0', '0.0', '3.0', '3.0', '3.0', '0.0', '0.0', '5.0', '', '0.0', '0.0', '0.0', '8.0', '0.0', '3.0', '2.0', '0.0', '4.0', '0.0', '5.0', '0.0', '0.0', '0.0', '0.0', '2.0', '0.0', '2.0', '0.0', '0.0', '', '0.0', '', '0.0', '1.0', '0.0', '0.0', '5.0', '0.0', '0.0', '0.0', '1.0', '0.0', '4.0', '2.0', '0.0', '0.0', '0.0', '0.0', '0.0', '2.0', '0.0', '0.0', '', '3.0', '0.0', '7.0', '0.0', '0.0', '0.0', '2.0', '0.0', '0.0', '0.0', '4.0', '0.0', '6.0', '0.0', '', '0.0', '1.0', '1.0', '5.0', '2.0', '0.0', '0.0', '0.0', '0.0', '0.0', '0.0', '0.0', '0.0', '1.0', '0.0', '60.0', '28.0', '0.0', '1.0', '0.0', '0.0', '43.0', '0.0', '0.0', '1.0', '0.0', '1.0', '16.0', '', '0.0', '0.0', '0.0', '0.0', '1.0', '0.0', '1.0', '0.0', '1.0', '0.0', '0.0', '0.0', '0.0', '0.0', '0.0', '', '1.0', '2.0', '0.0', '1.0', '0.0', '0.0', '0.0', '4.0', '0.0', '8.0', '0.0', '2.0', '', '0.0', '0.0', '2.0', '3.0', '3.0', '0.0', '4.0', '2.0', '5.0', '26.0', '0.0', '0.0', '', '41.0', '40.0', '0.0', '', '', '0.0', '0.0', '', '2.0', '0.0', '0.0', '0.0', '0.0', '0.0', '0.0', '0.0', '0.0', '0.0', '1.0', '2.0', '', '0.0', '0.0', '1.0', '2.0', '0.0', '0.0', '4.0', '2.0', '1.0', '0.0', '0.0', '0.0', '3.0', '2.0', '1.0', '0.0', '0.0', '0.0', '8.0', '1.0', '2.0', '3.0', '1.0', '0.0', '0.0', '0.0', '0.0', '0.0', '3.0', '2.0', '3.0', '3.0', '0.0', '0.0', '3.0', '', '0.0', '0.0', '2.0', '2.0', '6.0', '1.0', '0.0', '0.0', '', '', '3.0', '0.0', '0.0', '4.0', '0.0', '0.0', '0.0', '0.0', '', '', '3.0', '0.0', '2.0', '', '', '0.0', '1.0', '3.0', '0.0', '0.0', '0.0', '0.0', '4.0', '0.0', '2.0', '45.0', '0.0', '0.0', '1.0', '2.0', '9.0', '0.0', '', '', '0.0', '19.0', '2.0', '0.0', '0.0', '0.0', '0.0', '4.0', '1.0', '0.0', '0.0', '15.0', '', '0.0', '0.0', '0.0', '0.0', '3.0', '0.0', '7.0', '0.0', '11.0', '', '15.0', '4.0', '0.0', '0.0', '1.0', '0.0', '1.0', '2.0', '1.0', '1.0', '1.0', '', '8.0', '8.0', '8.0', '', '', '', '6.0', '6.0', '1.0', '2.0', '1.0', '2.0', '50.0', '0.0', '0.0', '1.0', '5.0', '0.0', '0.0', '0.0', '3.0', '4.0', '0.0', '3.0', '0.0', '0.0', '4.0', '7.0', '7.0', '6.0', '0.0', '0.0', '0.0', '0.0', '0.0', '0.0', '11.0', '10.0', '2.0', '1.0', '0.0', '0.0', '0.0', '0.0', '0.0', '0.0', '0.0', '1.0', '0.0', '0.0', '0.0', '0.0', '4.0', '3.0', '0.0', '0.0', '', '2.0', '0.0', '3.0', '0.0', '0.0', '0.0', '', '0.0', '4.0', '0.0', '3.0', '1.0', '3.0', '2.0', '0.0', '0.0', '0.0', '4.0', '0.0', '0.0', '', '1.0', '3.0', '0.0', '3.0', '3.0', '0.0', '0.0', '0.0', '0.0', '5.0', '2.0', '0.0', '0.0', '3.0', '1.0', '4.0', '0.0', '3.0', '0.0', '4.0', '0.0', '', '1.0', '0.0', '4.0', '2.0', '0.0', '0.0', '0.0', '0.0', '2.0', '0.0', '0.0', '19.0', '19.0', '0.0', '1.0', '', '1.0', '5.0', '0.0', '0.0', '0.0', '0.0', '0.0', '0.0', '0.0', '1.0', '4.0', '1.0', '6.0', '0.0', '3.0', '1.0', '1.0', '', '0.0', '0.0', '0.0', '0.0', '3.0', '0.0', '6.0', '0.0', '6.0', '2.0', '2.0', '0.0', '0.0', '0.0', '1.0', '1.0', '0.0', '0.0', '1.0', '4.0', '0.0', '0.0', '0.0', '15.0', '0.0', '0.0', '1.0', '0.0', '0.0', '2.0', '0.0', '0.0', '2.0', '0.0', '0.0', '0.0', '0.0', '5.0', '2.0', '2.0', '1.0', '1.0', '4.0', '0.0', '30.0', '0.0', '0.0', '0.0', '2.0', '0.0', '0.0', '0.0', '0.0', '2.0', '0.0', '0.0', '0.0', '12.0', '0.0', '3.0', '', '0.0', '0.0', '1.0', '0.0', '0.0', '0.0', '', '3.0', '3.0', '3.0', '3.0', '0.0', '0.0', '2.0', '0.0', '0.0', '3.0', '0.0', '0.0', '1.0', '0.0', '3.0', '1.0', '', '0.0', '0.0', '', '', '', '0.0', '0.0', '0.0', '1.0', '2.0', '2.0', '3.0', '0.0', '0.0', '', '1.0', '0.0', '0.0', '1.0', '0.0', '0.0', '3.0', '0.0', '0.0', '0.0', '0.0', '0.0', '', '6.0', '1.0', '0.0', '0.0', '6.0', '1.0', '0.0', '0.0', '0.0', '4.0', '1.0', '0.0', '45.0', '2.0', '4.0', '4.0', '3.0', '0.0', '0.0', '0.0', '', '0.0', '0.0', '0.0', '0.0', '1.0', '4.0', '2.0', '3.0', '2.0', '3.0', '0.0', '1.0', '0.0', '0.0', '4.0', '0.0', '0.0', '0.0', '3.0', '0.0', '1.0', '0.0', '5.0', '3.0', '0.0', '0.0', '', '11.0', '9.0', '3.0', '3.0', '0.0', '2.0', '0.0', '1.0', '0.0', '0.0', '1.0', '0.0', '0.0', '0.0', '136.0', '2.0', '0.0', '0.0', '5.0', '0.0', '0.0', '0.0', '', '0.0', '0.0', '0.0', '0.0', '', '0.0', '0.0', '0.0', '3.0', '0.0', '14.0', '3.0', '3.0', '0.0', '3.0', '1.0', '0.0', '0.0', '6.0', '1.0', '1.0', '', '0.0', '0.0', '', '', '', '12.0', '0.0', '0.0', '0.0', '0.0', '2.0', '0.0', '0.0', '6.0', '0.0', '0.0', '0.0', '0.0', '0.0', '10.0', '0.0', '1.0', '0.0', '0.0', '2.0', '2.0', '0.0', '0.0', '0.0', '1.0', '0.0', '3.0', '4.0', '0.0', '0.0', '0.0', '3.0', '0.0', '0.0', '13.0', '0.0', '63.0', '0.0', '8.0', '0.0', '7.0', '', '', '0.0', '0.0', '0.0', '0.0', '2.0', '2.0', '4.0', '0.0', '5.0', '0.0', '0.0', '0.0', '0.0', '3.0', '3.0', '2.0', '2.0', '2.0', '1.0', '0.0', '0.0', '0.0', '0.0', '0.0', '', '0.0', '3.0', '1.0', '0.0', '5.0', '1.0', '0.0', '42.0', '0.0', '0.0', '0.0', '0.0', '0.0', '0.0', '0.0', '', '0.0', '0.0', '18.0', '0.0', '10.0', '4.0', '2.0', '1.0', '0.0', '0.0', '', '2.0', '', '2.0', '0.0', '0.0', '4.0', '1.0', '7.0', '1.0', '3.0', '0.0', '2.0', '1.0', '0.0', '', '', '0.0', '2.0', '0.0', '0.0', '0.0', '5.0', '10.0', '3.0', '', '0.0', '0.0', '0.0', '3.0', '3.0', '3.0', '0.0', '0.0', '5.0', '3.0', '0.0', '2.0', '2.0', '2.0', '1.0', '0.0', '0.0', '13.0', '0.0', '0.0', '2.0', '2.0', '0.0', '2.0', '0.0', '0.0', '7.0', '0.0', '0.0', '0.0', '0.0', '0.0', '0.0', '0.0', '0.0', '0.0', '0.0', '0.0', '0.0', '0.0', '0.0', '0.0', '0.0', '0.0', '0.0', '0.0', '0.0', '0.0', '0.0', '0.0', '0.0', '0.0', '0.0', '0.0', '0.0', '0.0', '0.0', '0.0', '0.0', '0.0', '0.0', '0.0', '0.0', '0.0', '14.0', '0.0', '1.0', '0.0', '2.0', '', '0.0', '2.0', '10.0', '0.0', '1.0', '0.0', '3.0', '0.0', '0.0', '3.0', '0.0', '3.0', '0.0', '30.0', '0.0', '0.0', '0.0', '0.0', '0.0', '0.0', '0.0', '0.0', '5.0', '23.0', '', '1.0', '1.0', '', '', '0.0', '0.0', '0.0', '0.0', '0.0', '0.0', '4.0', '0.0', '4.0', '', '', '4.0', '0.0', '0.0', '0.0', '0.0', '0.0', '0.0', '0.0', '', '2.0', '0.0', '0.0', '3.0', '3.0', '0.0', '0.0', '0.0', '0.0', '89.0', '47.0', '0.0', '', '5.0', '4.0', '1.0', '0.0', '0.0', '0.0', '0.0', '1.0', '0.0', '0.0', '0.0', '0.0', '0.0', '', '0.0', '17.0', '35.0', '0.0', '1.0', '0.0', '', '0.0', '0.0', '0.0', '0.0', '0.0', '0.0', '0.0', '0.0', '0.0', '12.0', '0.0', '0.0', '0.0', '0.0', '0.0', '0.0', '4.0', '6.0', '0.0', '1.0', '0.0', '12.0', '0.0', '0.0', '0.0', '0.0', '4.0', '0.0', '12.0', '0.0', '', '3.0', '3.0', '0.0', '0.0', '9.0', '', '0.0', '0.0', '2.0', '0.0', '0.0', '0.0', '3.0', '11.0', '', '2.0', '0.0', '1.0', '1.0', '3.0', '10.0', '1.0', '3.0', '0.0', '0.0', '0.0', '0.0', '4.0', '0.0', '0.0', '', '0.0', '0.0', '0.0', '0.0', '3.0', '0.0', '2.0', '3.0', '0.0', '0.0', '0.0', '1.0', '3.0', '', '0.0', '4.0', '0.0', '', '', '', '', '1.0', '0.0', '0.0', '0.0', '2.0', '0.0', '14.0', '14.0', '', '0.0', '0.0', '0.0', '5.0', '0.0', '0.0', '1.0', '0.0', '0.0', '3.0', '0.0', '2.0', '3.0', '55.0', '7.0', '0.0', '1.0', '1.0', '1.0', '0.0', '0.0', '2.0', '24.0', '4.0', '0.0', '4.0', '1.0', '0.0', '0.0', '1.0', '1.0', '0.0', '0.0', '0.0', '0.0', '2.0', '1.0', '0.0', '0.0', '0.0', '0.0', '3.0', '0.0', '0.0', '2.0', '', '0.0', '0.0', '0.0', '0.0', '2.0', '0.0', '0.0', '0.0', '1.0', '3.0', '6.0', '0.0', '4.0', '0.0', '0.0', '0.0', '0.0', '0.0', '0.0', '5.0', '1.0', '0.0', '0.0', '1.0', '2.0', '0.0', '0.0', '2.0', '3.0', '0.0', '7.0', '0.0', '0.0', '0.0', '0.0', '0.0', '1.0', '0.0', '14.0', '0.0', '2.0', '1.0', '0.0', '0.0', '', '', '2.0', '0.0', '7.0', '3.0', '7.0', '0.0', '0.0', '5.0', '4.0', '', '2.0', '0.0', '1.0', '0.0', '0.0', '0.0', '0.0', '0.0', '0.0', '16.0', '7.0', '0.0', '0.0', '0.0', '0.0', '3.0', '0.0', '4.0', '0.0', '0.0', '0.0', '0.0', '4.0', '', '0.0', '5.0', '0.0', '0.0', '0.0', '0.0', '0.0', '0.0', '0.0', '0.0', '0.0', '1.0', '0.0', '0.0', '3.0', '0.0', '1.0', '1.0', '0.0', '0.0', '0.0', '3.0', '3.0', '0.0', '0.0', '0.0', '0.0', '5.0', '0.0', '4.0', '0.0', '0.0', '0.0', '1.0', '0.0', '0.0', '30.0', '0.0', '0.0', '0.0', '', '0.0', '0.0', '0.0', '', '1.0', '0.0', '1.0', '1.0', '1.0', '1.0', '0.0', '0.0', '0.0', '0.0', '0.0', '3.0', '4.0', '0.0', '3.0', '2.0', '', '4.0', '4.0', '0.0', '0.0', '0.0', '0.0', '', '0.0', '0.0', '1.0', '0.0', '0.0', '0.0', '0.0', '1.0', '1.0', '1.0', '0.0', '0.0', '0.0', '0.0', '5.0', '64.0', '0.0', '6.0', '0.0', '0.0', '0.0', '0.0', '0.0', '0.0', '0.0', '0.0', '0.0', '0.0', '0.0', '0.0', '0.0', '0.0', '0.0', '0.0', '0.0', '0.0', '0.0', '0.0', '0.0', '0.0', '0.0', '0.0', '0.0', '0.0', '0.0', '0.0', '0.0', '0.0', '0.0', '0.0', '0.0', '0.0', '0.0', '0.0', '0.0', '1.0', '1.0', '0.0', '1.0', '2.0', '2.0', '0.0', '0.0', '8.0', '0.0', '0.0', '2.0', '0.0', '14.0', '3.0', '0.0', '0.0', '', '0.0', '0.0', '5.0', '0.0', '0.0', '0.0', '0.0', '0.0', '2.0', '0.0', '0.0', '', '0.0', '1.0', '3.0', '1.0', '0.0', '3.0', '', '2.0', '3.0', '1.0', '20.0', '0.0', '0.0', '0.0', '3.0', '0.0', '1.0', '0.0', '2.0', '', '4.0', '5.0', '0.0', '', '', '2.0', '0.0', '2.0', '7.0', '0.0', '5.0', '1.0', '6.0', '', '0.0', '0.0', '1.0', '1.0', '1.0', '1.0', '3.0', '2.0', '3.0', '0.0', '3.0', '1.0', '1.0', '0.0', '0.0', '0.0', '0.0', '6.0', '9.0', '0.0', '', '0.0', '0.0', '1.0', '1.0', '2.0', '1.0', '4.0', '0.0', '0.0', '3.0', '1.0', '0.0', '4.0', '3.0', '0.0', '1.0', '1.0', '5.0', '0.0', '0.0', '0.0', '1.0', '3.0', '', '0.0', '0.0', '0.0', '0.0', '0.0', '', '1.0', '0.0', '0.0', '0.0', '0.0', '0.0', '1.0', '2.0', '2.0', '0.0', '0.0', '0.0', '5.0', '40.0', '', '15.0', '0.0', '0.0', '0.0', '4.0', '0.0', '0.0', '3.0', '20.0', '0.0', '1.0', '0.0', '0.0', '3.0', '0.0', '0.0', '0.0', '0.0', '0.0', '4.0', '0.0', '0.0', '1.0', '1.0', '5.0', '1.0', '1.0', '4.0', '0.0', '0.0', '2.0', '0.0', '4.0', '14.0', '0.0', '0.0', '0.0', '0.0', '1.0', '3.0', '0.0', '5.0', '0.0', '0.0', '1.0', '0.0', '0.0', '0.0', '7.0', '20.0', '0.0', '0.0', '0.0', '0.0', '', '5.0', '0.0', '1.0', '0.0', '1.0', '0.0', '0.0', '', '0.0', '0.0', '0.0', '0.0', '0.0', '0.0', '0.0', '0.0', '', '18.0', '8.0', '3.0', '3.0', '0.0', '', '0.0', '0.0', '0.0', '3.0', '8.0', '0.0', '8.0', '0.0', '4.0', '1.0', '3.0', '2.0', '0.0', '5.0', '4.0', '', '2.0', '0.0', '1.0', '', '2.0', '0.0', '3.0', '0.0', '0.0', '0.0', '0.0', '0.0', '0.0', '5.0', '0.0', '1.0', '4.0', '5.0', '0.0', '0.0', '4.0', '0.0', '0.0', '0.0', '', '0.0', '2.0', '0.0', '0.0', '0.0', '0.0', '0.0', '1.0', '', '0.0', '1.0', '0.0', '17.0', '3.0', '1.0', '0.0', '0.0', '1.0', '4.0', '', '0.0', '3.0', '0.0', '', '', '0.0', '1.0', '0.0', '0.0', '0.0', '0.0', '0.0', '0.0', '0.0', '0.0', '17.0', '0.0', '0.0', '3.0', '6.0', '1.0', '0.0', '0.0', '0.0', '28.0', '0.0', '2.0', '0.0', '0.0', '0.0', '3.0', '0.0', '9.0', '', '1.0', '19.0', '3.0', '4.0', '0.0', '0.0', '1.0', '7.0', '0.0', '7.0', '', '0.0', '0.0', '14.0', '', '0.0', '2.0', '', '6.0', '0.0', '2.0', '2.0', '0.0', '0.0', '0.0', '0.0', '3.0', '2.0', '1.0', '0.0', '1.0', '', '8.0', '7.0', '1.0', '0.0', '0.0', '', '0.0', '0.0', '3.0', '0.0', '0.0', '3.0', '0.0', '', '', '0.0', '0.0', '0.0', '3.0', '0.0', '0.0', '4.0', '2.0', '0.0', '0.0', '1.0', '0.0', '9.0', '0.0', '', '3.0', '1.0', '3.0', '0.0', '0.0', '1.0', '0.0', '0.0', '0.0', '0.0', '0.0', '0.0', '1.0', '3.0', '0.0', '', '0.0', '0.0', '0.0', '0.0', '7.0', '4.0', '', '0.0', '1.0', '3.0', '0.0', '0.0', '10.0', '2.0', '1.0', '0.0', '0.0', '6.0', '20.0', '7.0', '4.0', '0.0', '0.0', '2.0', '5.0', '0.0', '2.0', '0.0', '4.0', '10.0', '0.0', '', '0.0', '0.0', '1.0', '', '', '0.0', '3.0', '4.0', '6.0', '3.0', '2.0', '0.0', '6.0', '3.0', '', '3.0', '0.0', '0.0', '0.0', '0.0', '1.0', '', '3.0', '40.0', '0.0', '2.0', '0.0', '4.0', '4.0', '0.0', '0.0', '0.0', '10.0', '0.0', '0.0', '5.0', '2.0', '5.0', '0.0', '0.0', '0.0', '0.0', '4.0', '0.0', '0.0', '2.0', '0.0', '9.0', '0.0', '40.0', '0.0', '0.0', '1.0', '6.0', '2.0', '4.0', '0.0', '0.0', '0.0', '1.0', '0.0', '0.0', '0.0', '1.0', '0.0', '', '3.0', '0.0', '2.0', '1.0', '14.0', '0.0', '10.0', '0.0', '0.0', '9.0', '0.0', '0.0', '', '0.0', '0.0', '', '', '', '0.0', '0.0', '0.0', '0.0', '0.0', '0.0', '0.0', '2.0', '0.0', '0.0', '4.0', '0.0', '30.0', '1.0', '3.0', '0.0', '17.0', '0.0', '0.0', '0.0', '0.0', '0.0', '0.0', '0.0', '0.0', '0.0', '0.0', '1.0', '0.0', '15.0', '1.0', '', '0.0', '0.0', '1.0', '0.0', '0.0', '0.0', '0.0', '2.0', '0.0', '0.0', '0.0', '0.0', '6.0', '1.0', '0.0', '0.0', '0.0', '0.0', '1.0', '0.0', '76.0', '3.0', '0.0', '0.0', '2.0', '2.0', '0.0', '0.0', '0.0', '0.0', '0.0', '1.0', '0.0', '2.0', '0.0', '0.0', '0.0', '', '1.0', '', '0.0', '5.0', '5.0', '0.0', '0.0', '2.0', '', '3.0', '0.0', '1.0', '4.0', '3.0', '0.0', '5.0', '0.0', '0.0', '2.0', '0.0', '2.0', '0.0', '0.0', '0.0', '1.0', '0.0', '0.0', '0.0', '0.0', '1.0', '5.0', '0.0', '0.0', '', '', '', '', '', '2.0', '5.0', '0.0', '0.0', '0.0', '0.0', '0.0', '0.0', '0.0', '2.0', '0.0', '0.0', '3.0', '', '3.0', '0.0', '2.0', '0.0', '4.0', '1.0', '0.0', '1.0', '1.0', '4.0', '4.0', '3.0', '0.0', '', '1.0', '1.0', '1.0', '1.0', '1.0', '1.0', '0.0', '6.0', '1.0', '', '', '0.0', '0.0', '2.0', '1.0', '0.0', '0.0', '0.0', '0.0', '0.0', '1.0', '2.0', '0.0', '', '1.0', '0.0', '', '0.0', '0.0', '0.0', '3.0', '0.0', '0.0', '0.0', '0.0', '0.0', '', '0.0', '0.0', '3.0', '0.0', '0.0', '2.0', '0.0', '0.0', '6.0', '6.0', '2.0', '0.0', '3.0', '0.0', '7.0', '', '0.0', '5.0', '0.0', '', '36.0', '', '0.0', '0.0', '6.0', '0.0', '0.0', '0.0', '', '0.0', '0.0', '2.0', '0.0', '', '', '', '', '', '', '', '', '', '', '', '', '', '', '', '', '0.0', '2.0', '0.0', '2.0', '0.0', '0.0', '3.0', '0.0', '0.0', '0.0', '0.0', '0.0', '5.0', '3.0', '', '18.0', '0.0', '16.0', '0.0', '10.0', '0.0', '0.0', '1.0', '0.0', '0.0', '0.0', '', '', '', '', '0.0', '', '0.0', '0.0', '0.0', '5.0', '0.0', '70.0', '', '', '3.0', '0.0', '0.0', '0.0', '0.0', '0.0', '2.0', '0.0', '0.0', '0.0', '2.0', '0.0', '3.0', '5.0', '11.0', '17.0', '0.0', '8.0', '17.0', '', '1.0', '0.0', '2.0', '', '0.0', '4.0', '2.0', '23.0', '23.0', '3.0', '3.0', '2.0', '0.0', '0.0', '0.0', '0.0', '0.0', '0.0', '0.0', '0.0', '0.0', '0.0', '0.0', '0.0', '0.0', '0.0', '2.0', '4.0', '0.0', '0.0', '0.0', '0.0', '15.0', '5.0', '3.0', '0.0', '0.0', '0.0', '0.0', '0.0', '0.0', '', '1.0', '0.0', '0.0', '0.0', '0.0', '0.0', '0.0', '11.0', '2.0', '0.0', '0.0', '0.0', '3.0', '0.0', '12.0', '0.0', '0.0', '0.0', '', '2.0', '0.0', '0.0', '0.0', '4.0', '0.0', '0.0', '0.0', '', '0.0', '0.0', '0.0', '0.0', '0.0', '1.0', '2.0', '2.0', '0.0', '0.0', '0.0', '0.0', '0.0', '0.0', '30.0', '0.0', '0.0', '', '0.0', '0.0', '0.0', '0.0', '20.0', '0.0', '2.0', '0.0', '31.0', '0.0', '0.0', '0.0', '2.0', '2.0', '2.0', '1.0', '0.0', '0.0', '0.0', '1.0', '', '0.0', '0.0', '', '0.0', '0.0', '0.0', '0.0', '40.0', '', '', '', '', '', '0.0', '25.0', '0.0', '0.0', '2.0', '0.0', '4.0', '0.0', '0.0', '0.0', '1.0', '0.0', '1.0', '3.0', '4.0', '0.0', '5.0', '4.0', '0.0', '', '3.0', '1.0', '0.0', '0.0', '', '0.0', '0.0', '8.0', '1.0', '1.0', '0.0', '0.0', '0.0', '0.0', '1.0', '0.0', '4.0', '', '3.0', '3.0', '0.0', '119.0', '1.0', '0.0', '0.0', '0.0', '0.0', '0.0', '0.0', '0.0', '0.0', '0.0', '0.0', '0.0', '0.0', '0.0', '0.0', '0.0', '0.0', '0.0', '', '3.0', '4.0', '0.0', '0.0', '0.0', '0.0', '0.0', '0.0', '0.0', '0.0', '', '0.0', '0.0', '1.0', '1.0', '0.0', '0.0', '0.0', '1.0', '0.0', '1.0', '6.0', '', '', '', '2.0', '1.0', '9.0', '4.0', '0.0', '5.0', '25.0', '0.0', '2.0', '1.0', '2.0', '0.0', '', '0.0', '0.0', '30.0', '1.0', '0.0', '0.0', '0.0', '', '0.0', '0.0', '', '0.0', '0.0', '0.0', '', '1.0', '0.0', '2.0', '0.0', '0.0', '0.0', '0.0', '0.0', '1.0', '0.0', '5.0', '5.0', '2.0', '0.0', '0.0', '3.0', '0.0', '1.0', '0.0', '5.0', '', '6.0', '31.0', '3.0', '1.0', '0.0', '0.0', '20.0', '0.0', '0.0', '0.0', '0.0', '0.0', '1.0', '0.0', '0.0', '0.0', '', '0.0', '1.0', '0.0', '0.0', '0.0', '0.0', '3.0', '0.0', '5.0', '0.0', '', '0.0', '0.0', '2.0', '0.0', '0.0', '2.0', '0.0', '0.0', '0.0', '0.0', '1.0', '1.0', '1.0', '0.0', '52.0', '2.0', '9.0', '3.0', '3.0', '0.0', '0.0', '3.0', '2.0', '2.0', '0.0', '0.0', '0.0', '0.0', '0.0', '0.0', '20.0', '3.0', '4.0', '6.0', '1.0', '31.0', '0.0', '0.0', '0.0', '1.0', '0.0', '0.0', '2.0', '3.0', '0.0', '5.0', '6.0', '1.0', '1.0', '0.0', '0.0', '2.0', '0.0', '0.0', '1.0', '0.0', '0.0', '0.0', '0.0', '0.0', '0.0', '0.0', '0.0', '0.0', '0.0', '0.0', '0.0', '0.0', '4.0', '10.0', '1.0', '0.0', '0.0', '2.0', '0.0', '0.0', '0.0', '0.0', '0.0', '0.0', '0.0', '0.0', '0.0', '0.0', '0.0', '0.0', '', '', '', '', '0.0', '0.0', '0.0', '6.0', '10.0', '0.0', '3.0', '', '0.0', '0.0', '4.0', '0.0', '0.0', '0.0', '3.0', '6.0', '0.0', '0.0', '4.0', '0.0', '0.0', '', '0.0', '3.0', '', '0.0', '0.0', '0.0', '0.0', '0.0', '0.0', '0.0', '', '1.0', '0.0', '0.0', '3.0', '2.0', '2.0', '2.0', '2.0', '2.0', '2.0', '2.0', '2.0', '0.0', '0.0', '6.0', '', '', '2.0', '0.0', '2.0', '0.0', '3.0', '', '', '', '', '2.0', '4.0', '2.0', '1.0', '0.0', '0.0', '2.0', '0.0', '0.0', '2.0', '4.0', '4.0', '0.0', '0.0', '1.0', '17.0', '6.0', '0.0', '', '33.0', '0.0', '0.0', '0.0', '0.0', '47.0', '35.0', '36.0', '1.0', '0.0', '0.0', '0.0', '0.0', '0.0', '2.0', '5.0', '5.0', '5.0', '4.0', '0.0', '0.0', '0.0', '2.0', '0.0', '', '2.0', '4.0', '0.0', '0.0', '0.0', '0.0', '2.0', '0.0', '0.0', '0.0', '0.0', '0.0', '0.0', '0.0', '0.0', '0.0', '1.0', '0.0', '491.0', '3.0', '0.0', '3.0', '0.0', '0.0', '0.0', '3.0', '0.0', '1.0', '0.0', '', '4.0', '0.0', '3.0', '1.0', '0.0', '', '0.0', '3.0', '0.0', '1.0', '0.0', '0.0', '0.0', '0.0', '', '1.0', '4.0', '0.0', '0.0', '13.0', '1.0', '', '0.0', '0.0', '0.0', '0.0', '0.0', '0.0', '0.0', '1.0', '0.0', '0.0', '6.0', '1.0', '1.0', '1.0', '4.0', '3.0', '4.0', '3.0', '1.0', '2.0', '23.0', '', '2.0', '15.0', '2.0', '0.0', '0.0', '0.0', '', '0.0', '0.0', '0.0', '1.0', '2.0', '2.0', '0.0', '30.0', '0.0', '0.0', '0.0', '0.0', '0.0', '0.0', '0.0', '', '0.0', '', '0.0', '0.0', '3.0', '2.0', '', '', '', '0.0', '1.0', '2.0', '1.0', '0.0', '1.0', '0.0', '0.0', '4.0', '', '48.0', '', '', '5.0', '87.0', '0.0', '0.0', '2.0', '0.0', '9.0', '33.0', '4.0', '2.0', '4.0', '0.0', '0.0', '0.0', '3.0', '4.0', '0.0', '0.0', '9.0', '0.0', '0.0', '2.0', '1.0', '0.0', '1.0', '0.0', '0.0', '', '1.0', '0.0', '0.0', '1.0', '0.0', '0.0', '0.0', '0.0', '0.0', '', '7.0', '6.0', '0.0', '0.0', '0.0', '4.0', '0.0', '0.0', '8.0', '8.0', '0.0', '4.0', '1.0', '0.0', '0.0', '0.0', '0.0', '0.0', '2.0', '0.0', '0.0', '0.0', '14.0', '0.0', '0.0', '1.0', '3.0', '0.0', '1.0', '3.0', '0.0', '0.0', '0.0', '', '4.0', '0.0', '2.0', '0.0', '0.0', '30.0', '0.0', '16.0', '1.0', '2.0', '4.0', '0.0', '0.0', '0.0', '0.0', '0.0', '1.0', '2.0', '0.0', '0.0', '6.0', '0.0', '0.0', '', '', '0.0', '2.0', '0.0', '0.0', '3.0', '1.0', '0.0', '7.0', '0.0', '0.0', '0.0', '0.0', '4.0', '0.0', '0.0', '0.0', '26.0', '26.0', '1.0', '13.0', '0.0', '', '2.0', '0.0', '3.0', '2.0', '7.0', '2.0', '0.0', '0.0', '0.0', '1.0', '18.0', '3.0', '3.0', '0.0', '2.0', '1.0', '1.0', '0.0', '2.0', '0.0', '2.0', '0.0', '2.0', '0.0', '0.0', '1.0', '0.0', '0.0', '0.0', '2.0', '0.0', '2.0', '1.0', '2.0', '0.0', '0.0', '', '2.0', '2.0', '0.0', '0.0', '0.0', '0.0', '0.0', '0.0', '0.0', '0.0', '5.0', '7.0', '20.0', '2.0', '0.0', '', '0.0', '3.0', '10.0', '2.0', '0.0', '0.0', '0.0', '2.0', '', '0.0', '0.0', '0.0', '0.0', '0.0', '1.0', '4.0', '23.0', '', '', '', '2.0', '3.0', '1.0', '1.0', '3.0', '9.0', '3.0', '2.0', '1.0', '0.0', '0.0', '0.0', '0.0', '0.0', '0.0', '0.0', '0.0', '', '2.0', '0.0', '', '0.0', '0.0', '0.0', '1.0', '1.0', '', '0.0', '2.0', '0.0', '2.0', '0.0', '2.0', '0.0', '8.0', '', '0.0', '0.0', '0.0', '0.0', '0.0', '0.0', '0.0', '0.0', '0.0', '0.0', '0.0', '0.0', '0.0', '0.0', '0.0', '0.0', '0.0', '5.0', '0.0', '1.0', '5.0', '', '5.0', '0.0', '0.0', '3.0', '0.0', '0.0', '2.0', '2.0', '0.0', '1.0', '1.0', '1.0', '0.0', '0.0', '0.0', '0.0', '1.0', '3.0', '1.0', '0.0', '0.0', '0.0', '1.0', '1.0', '16.0', '0.0', '0.0', '2.0', '0.0', '0.0', '0.0', '3.0', '0.0', '0.0', '2.0', '', '0.0', '0.0', '1.0', '5.0', '4.0', '0.0', '', '3.0', '1.0', '1.0', '1.0', '0.0', '0.0', '5.0', '5.0', '1.0', '0.0', '0.0', '6.0', '2.0', '9.0', '7.0', '0.0', '1.0', '0.0', '0.0', '0.0', '0.0', '1.0', '0.0', '0.0', '0.0', '0.0', '0.0', '0.0', '2.0', '0.0', '0.0', '', '0.0', '0.0', '0.0', '0.0', '0.0', '0.0', '0.0', '0.0', '0.0', '0.0', '0.0', '', '0.0', '0.0', '0.0', '0.0', '0.0', '', '2.0', '2.0', '', '0.0', '0.0', '0.0', '1.0', '1.0', '10.0', '5.0', '0.0', '0.0', '0.0', '0.0', '0.0', '2.0', '0.0', '2.0', '0.0', '2.0', '0.0', '0.0', '1.0', '0.0', '15.0', '6.0', '', '0.0', '0.0', '0.0', '0.0', '0.0', '0.0', '0.0', '0.0', '0.0', '0.0', '4.0', '1.0', '', '0.0', '0.0', '26.0', '4.0', '0.0', '0.0', '0.0', '0.0', '0.0', '0.0', '7.0', '0.0', '0.0', '0.0', '1.0', '6.0', '0.0', '1.0', '0.0', '9.0', '0.0', '0.0', '0.0', '3.0', '0.0', '0.0', '5.0', '5.0', '0.0', '2.0', '0.0', '', '3.0', '1.0', '0.0', '0.0', '0.0', '2.0', '0.0', '0.0', '1.0', '6.0', '0.0', '1.0', '1.0', '7.0', '0.0', '3.0', '3.0', '65.0', '1.0', '0.0', '0.0', '1.0', '0.0', '0.0', '0.0', '0.0', '0.0', '0.0', '0.0', '0.0', '0.0', '0.0', '0.0', '0.0', '', '0.0', '0.0', '0.0', '3.0', '0.0', '0.0', '1.0', '2.0', '0.0', '3.0', '1.0', '4.0', '3.0', '0.0', '0.0', '0.0', '', '', '2.0', '0.0', '11.0', '0.0', '0.0', '0.0', '4.0', '', '9.0', '0.0', '0.0', '0.0', '', '', '', '10.0', '0.0', '3.0', '2.0', '22.0', '4.0', '3.0', '0.0', '0.0', '', '0.0', '0.0', '4.0', '0.0', '0.0', '8.0', '1.0', '2.0', '8.0', '8.0', '0.0', '1.0', '10.0', '0.0', '0.0', '1.0', '3.0', '0.0', '', '7.0', '0.0', '', '0.0', '0.0', '0.0', '0.0', '0.0', '0.0', '1.0', '', '0.0', '0.0', '0.0', '0.0', '0.0', '0.0', '0.0', '0.0', '0.0', '0.0', '0.0', '0.0', '0.0', '4.0', '4.0', '3.0', '0.0', '0.0', '4.0', '0.0', '0.0', '2.0', '0.0', '3.0', '2.0', '0.0', '', '20.0', '0.0', '0.0', '12.0', '0.0', '12.0', '0.0', '0.0', '2.0', '0.0', '0.0', '0.0', '0.0', '0.0', '', '2.0', '0.0', '', '0.0', '0.0', '0.0', '1.0', '12.0', '1.0', '1.0', '2.0', '0.0', '0.0', '', '4.0', '0.0', '3.0', '3.0', '4.0', '0.0', '2.0', '0.0', '5.0', '0.0', '0.0', '0.0', '0.0', '0.0', '0.0', '0.0', '0.0', '0.0', '0.0', '0.0', '0.0', '0.0', '6.0', '2.0', '0.0', '1.0', '', '0.0', '18.0', '3.0', '', '2.0', '4.0', '4.0', '4.0', '5.0', '0.0', '0.0', '0.0', '1.0', '1.0', '1.0', '0.0', '0.0', '0.0', '2.0', '2.0', '9.0', '0.0', '0.0', '3.0', '0.0', '0.0', '2.0', '0.0', '6.0', '0.0', '1.0', '1.0', '0.0', '', '0.0', '0.0', '1.0', '4.0', '1.0', '1.0', '0.0', '4.0', '', '0.0', '0.0', '0.0', '1.0', '', '3.0', '8.0', '5.0', '0.0', '0.0', '1.0', '2.0', '1.0', '0.0', '2.0', '0.0', '5.0', '5.0', '0.0', '0.0', '0.0', '0.0', '2.0', '', '1.0', '1.0', '3.0', '0.0', '0.0', '1.0', '2.0', '0.0', '0.0', '0.0', '0.0', '1.0', '0.0', '2.0', '', '0.0', '0.0', '1.0', '0.0', '0.0', '0.0', '5.0', '2.0', '2.0', '2.0', '2.0', '2.0', '3.0', '4.0', '0.0', '2.0', '0.0', '0.0', '0.0', '', '1.0', '2.0', '2.0', '2.0', '2.0', '58.0', '19.0', '3.0', '0.0', '4.0', '', '0.0', '0.0', '0.0', '0.0', '0.0', '0.0', '0.0', '3.0', '1.0', '6.0', '5.0', '21.0', '9.0', '0.0', '1.0', '19.0', '141.0', '141.0', '2.0', '1.0', '2.0', '3.0', '0.0', '0.0', '0.0', '0.0', '0.0', '12.0', '10.0', '5.0', '0.0', '0.0', '0.0', '0.0', '1.0', '0.0', '0.0', '2.0', '20.0', '0.0', '2.0', '1.0', '4.0', '2.0', '0.0', '0.0', '0.0', '0.0', '0.0', '2.0', '6.0', '0.0', '0.0', '0.0', '30.0', '9.0', '0.0', '2.0', '2.0', '', '0.0', '1.0', '0.0', '0.0', '0.0', '0.0', '0.0', '1.0', '1.0', '9.0', '3.0', '0.0', '0.0', '2.0', '1.0', '2.0', '0.0', '', '', '0.0', '0.0', '2.0', '6.0', '5.0', '0.0', '0.0', '2.0', '1.0', '0.0', '3.0', '0.0', '', '', '', '4.0', '0.0', '7.0', '2.0', '0.0', '2.0', '3.0', '0.0', '2.0', '0.0', '0.0', '5.0', '0.0', '0.0', '0.0', '0.0', '1.0', '0.0', '1.0', '0.0', '0.0', '1.0', '0.0', '0.0', '1.0', '0.0', '0.0', '0.0', '0.0', '0.0', '0.0', '0.0', '0.0', '0.0', '0.0', '0.0', '0.0', '0.0', '0.0', '0.0', '0.0', '0.0', '1.0', '0.0', '1.0', '0.0', '0.0', '0.0', '0.0', '0.0', '0.0', '5.0', '', '9.0', '', '', '0.0', '0.0', '2.0', '0.0', '2.0', '1.0', '10.0', '2.0', '2.0', '5.0', '0.0', '0.0', '0.0', '0.0', '0.0', '0.0', '0.0', '0.0', '0.0', '0.0', '3.0', '0.0', '0.0', '0.0', '0.0', '0.0', '0.0', '0.0', '0.0', '0.0', '0.0', '3.0', '', '0.0', '', '0.0', '3.0', '7.0', '2.0', '0.0', '4.0', '0.0', '13.0', '3.0', '0.0', '0.0', '6.0', '3.0', '0.0', '11.0', '0.0', '0.0', '0.0', '0.0', '0.0', '4.0', '0.0', '0.0', '0.0', '2.0', '0.0', '0.0', '0.0', '', '0.0', '0.0', '0.0', '0.0', '', '1.0', '', '0.0', '0.0', '2.0', '0.0', '0.0', '0.0', '4.0', '', '', '0.0', '0.0', '2.0', '0.0', '3.0', '0.0', '0.0', '0.0', '5.0', '0.0', '0.0', '3.0', '0.0', '4.0', '', '0.0', '3.0', '4.0', '0.0', '0.0', '', '', '0.0', '0.0', '0.0', '0.0', '4.0', '0.0', '0.0', '', '', '', '12.0', '0.0', '40.0', '0.0', '0.0', '2.0', '0.0', '0.0', '2.0', '0.0', '0.0', '5.0', '0.0', '0.0', '4.0', '2.0', '0.0', '0.0', '0.0', '', '0.0', '', '0.0', '0.0', '0.0', '0.0', '0.0', '0.0', '', '3.0', '0.0', '1.0', '', '0.0', '2.0', '0.0', '0.0', '0.0', '0.0', '0.0', '3.0', '0.0', '', '9.0', '0.0', '2.0', '4.0', '', '0.0', '0.0', '0.0', '0.0', '0.0', '2.0', '0.0', '3.0', '6.0', '0.0', '13.0', '9.0', '12.0', '0.0', '1.0', '1.0', '1.0', '22.0', '22.0', '1.0', '', '4.0', '', '0.0', '1.0', '', '1.0', '1.0', '0.0', '2.0', '3.0', '0.0', '0.0', '3.0', '0.0', '0.0', '0.0', '', '0.0', '0.0', '2.0', '5.0', '2.0', '0.0', '', '3.0', '2.0', '1.0', '0.0', '0.0', '2.0', '3.0', '3.0', '3.0', '3.0', '3.0', '3.0', '2.0', '0.0', '1.0', '1.0', '0.0', '21.0', '0.0', '10.0', '', '0.0', '1.0', '0.0', '0.0', '3.0', '0.0', '0.0', '0.0', '0.0', '0.0', '2.0', '1.0', '0.0', '0.0', '1.0', '6.0', '0.0', '0.0', '3.0', '10.0', '0.0', '0.0', '2.0', '0.0', '1.0', '0.0', '0.0', '0.0', '', '1.0', '1.0', '0.0', '1.0', '16.0', '3.0', '0.0', '4.0', '0.0', '', '0.0', '0.0', '0.0', '1.0', '0.0', '0.0', '0.0', '0.0', '1.0', '0.0', '1.0', '0.0', '0.0', '0.0', '0.0', '0.0', '0.0', '3.0', '3.0', '0.0', '4.0', '0.0', '8.0', '', '0.0', '0.0', '0.0', '0.0', '7.0', '0.0', '0.0', '2.0', '3.0', '0.0', '0.0', '1.0', '25.0', '0.0', '0.0', '0.0', '1.0', '0.0', '0.0', '0.0', '5.0', '2.0', '0.0', '0.0', '0.0', '0.0', '0.0', '6.0', '0.0', '20.0', '14.0', '9.0', '1.0', '3.0', '', '', '', '2.0', '', '3.0', '1.0', '3.0', '26.0', '0.0', '4.0', '0.0', '4.0', '0.0', '2.0', '0.0', '25.0', '0.0', '0.0', '0.0', '0.0', '', '', '5.0', '2.0', '0.0', '0.0', '0.0', '5.0', '1.0', '0.0', '0.0', '1.0', '3.0', '7.0', '1.0', '2.0', '', '0.0', '0.0', '0.0', '0.0', '', '4.0', '1.0', '4.0', '3.0', '2.0', '0.0', '0.0', '0.0', '1.0', '1.0', '', '', '3.0', '', '0.0', '1.0', '0.0', '0.0', '0.0', '1.0', '0.0', '0.0', '0.0', '4.0', '0.0', '0.0', '6.0', '0.0', '2.0', '1.0', '0.0', '0.0', '0.0', '1.0', '0.0', '0.0', '', '', '0.0', '0.0', '0.0', '0.0', '1.0', '2.0', '1.0', '1.0', '50.0', '1.0', '0.0', '0.0', '0.0', '0.0', '0.0', '0.0', '0.0', '0.0', '0.0', '', '', '0.0', '18.0', '0.0', '3.0', '10.0', '0.0', '5.0', '1.0', '3.0', '0.0', '4.0', '', '0.0', '0.0', '0.0', '1.0', '7.0', '0.0', '0.0', '0.0', '2.0', '0.0', '0.0', '0.0', '0.0', '0.0', '0.0', '2.0', '3.0', '0.0', '6.0', '0.0', '0.0', '0.0', '4.0', '', '9.0', '9.0', '6.0', '2.0', '6.0', '6.0', '5.0', '0.0', '0.0', '0.0', '', '0.0', '', '4.0', '', '0.0', '3.0', '', '0.0', '1.0', '0.0', '0.0', '', '0.0', '0.0', '14.0', '0.0', '0.0', '0.0', '0.0', '41.0', '7.0', '2.0', '0.0', '0.0', '0.0', '2.0', '0.0', '0.0', '0.0', '0.0', '0.0', '17.0', '0.0', '0.0', '0.0', '0.0', '', '', '0.0', '0.0', '0.0', '0.0', '0.0', '0.0', '0.0', '9.0', '1.0', '0.0', '0.0', '0.0', '4.0', '1.0', '2.0', '0.0', '0.0', '', '0.0', '', '0.0', '3.0', '5.0', '1.0', '0.0', '0.0', '0.0', '', '0.0', '0.0', '0.0', '0.0', '0.0', '0.0', '0.0', '0.0', '0.0', '0.0', '0.0', '0.0', '1.0', '5.0', '5.0', '0.0', '2.0', '0.0', '0.0', '2.0', '0.0', '0.0', '0.0', '7.0', '5.0', '0.0', '0.0', '1.0', '1.0', '2.0', '4.0', '0.0', '6.0', '0.0', '3.0', '3.0', '', '0.0', '3.0', '0.0', '3.0', '0.0', '2.0', '3.0', '3.0', '0.0', '0.0', '0.0', '0.0', '0.0', '0.0', '0.0', '0.0', '0.0', '0.0', '0.0', '0.0', '8.0', '0.0', '2.0', '0.0', '15.0', '1.0', '1.0', '1.0', '1.0', '8.0', '0.0', '3.0', '0.0', '0.0', '7.0', '0.0', '0.0', '2.0', '0.0', '0.0', '1.0', '1.0', '0.0', '0.0', '0.0', '0.0', '1.0', '0.0', '0.0', '0.0', '1.0', '3.0', '0.0', '0.0', '0.0', '2.0', '3.0', '', '0.0', '3.0', '0.0', '0.0', '1.0', '0.0', '0.0', '0.0', '0.0', '0.0', '2.0', '1.0', '0.0', '3.0', '', '4.0', '7.0', '', '4.0', '0.0', '2.0', '0.0', '0.0', '1.0', '2.0', '3.0', '0.0', '0.0', '0.0', '1.0', '', '9.0', '0.0', '1.0', '9.0', '2.0', '0.0', '5.0', '15.0', '0.0', '0.0', '2.0', '3.0', '0.0', '17.0', '1.0', '0.0', '0.0', '', '0.0', '0.0', '0.0', '0.0', '0.0', '0.0', '0.0', '0.0', '0.0', '0.0', '0.0', '0.0', '1.0', '3.0', '0.0', '0.0', '1.0', '0.0', '0.0', '4.0', '3.0', '5.0', '0.0', '0.0', '0.0', '0.0', '1.0', '1.0', '2.0', '1.0', '0.0', '0.0', '0.0', '', '6.0', '0.0', '0.0', '0.0', '0.0', '1.0', '0.0', '0.0', '0.0', '3.0', '3.0', '0.0', '0.0', '0.0', '0.0', '0.0', '3.0', '0.0', '17.0', '5.0', '0.0', '', '4.0', '1.0', '3.0', '2.0', '0.0', '1.0', '0.0', '2.0', '3.0', '1.0', '5.0', '0.0', '2.0', '0.0', '4.0', '2.0', '2.0', '1.0', '3.0', '0.0', '3.0', '2.0', '0.0', '0.0', '0.0', '', '0.0', '0.0', '1.0', '1.0', '', '15.0', '', '0.0', '0.0', '0.0', '0.0', '0.0', '0.0', '0.0', '7.0', '2.0', '2.0', '1.0', '0.0', '0.0', '5.0', '1.0', '0.0', '0.0', '', '0.0', '0.0', '0.0', '0.0', '3.0', '2.0', '0.0', '0.0', '0.0', '2.0', '0.0', '0.0', '', '8.0', '7.0', '0.0', '0.0', '0.0', '3.0', '0.0', '', '2.0', '2.0', '10.0', '0.0', '3.0', '2.0', '32.0', '', '0.0', '1.0', '0.0', '1.0', '2.0', '0.0', '0.0', '0.0', '0.0', '1.0', '1.0', '1.0', '2.0', '2.0', '0.0', '0.0', '0.0', '49.0', '0.0', '0.0', '2.0', '0.0', '0.0', '0.0', '0.0', '0.0', '1.0', '0.0', '0.0', '0.0', '0.0', '26.0', '5.0', '0.0', '1.0', '1.0', '11.0', '0.0', '0.0', '0.0', '9.0', '0.0', '0.0', '0.0', '0.0', '10.0', '0.0', '0.0', '0.0', '3.0', '', '0.0', '1.0', '9.0', '0.0', '6.0', '2.0', '1.0', '0.0', '0.0', '0.0', '15.0', '0.0', '0.0', '0.0', '1.0', '0.0', '0.0', '0.0', '0.0', '2.0', '2.0', '5.0', '0.0', '3.0', '0.0', '0.0', '0.0', '0.0', '0.0', '0.0', '0.0', '0.0', '', '1.0', '', '0.0', '', '41.0', '51.0', '4.0', '3.0', '0.0', '2.0', '0.0', '0.0', '1.0', '1.0', '0.0', '0.0', '', '', '1.0', '0.0', '0.0', '0.0', '0.0', '0.0', '2.0', '1.0', '', '0.0', '0.0', '0.0', '', '1.0', '0.0', '0.0', '0.0', '0.0', '0.0', '0.0', '0.0', '5.0', '4.0', '2.0', '5.0', '1.0', '0.0', '0.0', '3.0', '0.0', '', '9.0', '0.0', '0.0', '0.0', '0.0', '0.0', '1.0', '0.0', '0.0', '0.0', '', '0.0', '0.0', '0.0', '1.0', '0.0', '0.0', '0.0', '3.0', '3.0', '1.0', '13.0', '111.0', '0.0', '0.0', '0.0', '4.0', '2.0', '0.0', '1.0', '3.0', '2.0', '0.0', '0.0', '', '', '1.0', '0.0', '0.0', '', '0.0', '1.0', '', '', '2.0', '0.0', '0.0', '0.0', '1.0', '1.0', '', '0.0', '0.0', '4.0', '', '0.0', '0.0', '2.0', '1.0', '1.0', '0.0', '9.0', '2.0', '1.0', '2.0', '', '', '0.0', '0.0', '0.0', '0.0', '2.0', '0.0', '0.0', '0.0', '', '0.0', '3.0', '1.0', '0.0', '0.0', '0.0', '0.0', '9.0', '0.0', '0.0', '24.0', '0.0', '0.0', '7.0', '0.0', '0.0', '7.0', '', '0.0', '0.0', '0.0', '0.0', '0.0', '0.0', '0.0', '1.0', '0.0', '0.0', '0.0', '1.0', '0.0', '0.0', '0.0', '11.0', '0.0', '0.0', '0.0', '0.0', '1.0', '2.0', '7.0', '0.0', '5.0', '0.0', '1.0', '0.0', '0.0', '0.0', '0.0', '0.0', '0.0', '17.0', '0.0', '0.0', '2.0', '0.0', '0.0', '', '0.0', '0.0', '7.0', '2.0', '0.0', '7.0', '13.0', '0.0', '7.0', '6.0', '10.0', '4.0', '2.0', '0.0', '', '3.0', '3.0', '4.0', '6.0', '4.0', '2.0', '1.0', '1.0', '0.0', '', '0.0', '0.0', '0.0', '0.0', '0.0', '0.0', '0.0', '0.0', '0.0', '2.0', '2.0', '0.0', '0.0', '0.0', '0.0', '0.0', '1.0', '0.0', '0.0', '0.0', '', '4.0', '', '3.0', '0.0', '2.0', '0.0', '0.0', '0.0', '0.0', '1.0', '0.0', '0.0', '0.0', '0.0', '66.0', '0.0', '0.0', '1.0', '7.0', '4.0', '0.0', '0.0', '3.0', '1.0', '0.0', '15.0', '4.0', '5.0', '10.0', '0.0', '4.0', '0.0', '36.0', '9.0', '', '2.0', '0.0', '2.0', '4.0', '3.0', '0.0', '4.0', '3.0', '1.0', '0.0', '0.0', '3.0', '0.0', '4.0', '2.0', '0.0', '8.0', '5.0', '0.0', '10.0', '1.0', '', '', '2.0', '1.0', '0.0', '0.0', '0.0', '0.0', '0.0', '2.0', '0.0', '5.0', '', '0.0', '0.0', '0.0', '0.0', '2.0', '0.0', '0.0', '0.0', '13.0', '1.0', '', '0.0', '2.0', '', '4.0', '5.0', '1.0', '', '0.0', '0.0', '2.0', '2.0', '', '0.0', '4.0', '0.0', '0.0', '0.0', '4.0', '2.0', '0.0', '0.0', '0.0', '0.0', '0.0', '0.0', '2.0', '1.0', '5.0', '1.0', '2.0', '', '', '0.0', '', '0.0', '0.0', '0.0', '0.0', '0.0', '2.0', '7.0', '2.0', '', '', '', '5.0', '0.0', '', '2.0', '0.0', '3.0', '10.0', '0.0', '2.0', '0.0', '', '0.0', '3.0', '5.0', '0.0', '2.0', '1.0', '', '', '0.0', '0.0', '0.0', '0.0', '0.0', '1.0', '4.0', '0.0', '', '', '2.0', '4.0', '0.0', '0.0', '3.0', '3.0', '', '0.0', '5.0', '0.0', '0.0', '1.0', '3.0', '', '0.0', '0.0', '0.0', '0.0', '0.0', '0.0', '1.0', '0.0', '0.0', '1.0', '0.0', '0.0', '0.0', '0.0', '0.0', '0.0', '0.0', '', '', '0.0', '0.0', '0.0', '0.0', '1.0', '1.0', '2.0', '4.0', '', '4.0', '2.0', '0.0', '3.0', '14.0', '1.0', '0.0', '2.0', '3.0', '2.0', '2.0', '0.0', '0.0', '5.0', '45.0', '0.0', '1.0', '75.0', '7.0', '', '1.0', '', '2.0', '', '0.0', '2.0', '0.0', '0.0', '0.0', '2.0', '0.0', '2.0', '0.0', '0.0', '0.0', '0.0', '0.0', '0.0', '0.0', '0.0', '0.0', '0.0', '0.0', '2.0', '0.0', '1.0', '5.0', '0.0', '2.0', '0.0', '0.0', '5.0', '4.0', '0.0', '1.0', '1.0', '0.0', '1.0', '1.0', '0.0', '23.0', '0.0', '0.0', '0.0', '0.0', '0.0', '0.0', '0.0', '0.0', '0.0', '2.0', '6.0', '3.0', '3.0', '0.0', '0.0', '0.0', '0.0', '', '0.0', '3.0', '1.0', '', '0.0', '0.0', '0.0', '', '0.0', '0.0', '0.0', '0.0', '0.0', '', '3.0', '0.0', '2.0', '0.0', '4.0', '3.0', '3.0', '2.0', '', '0.0', '3.0', '0.0', '0.0', '1.0', '1.0', '0.0', '', '0.0', '0.0', '4.0', '0.0', '0.0', '0.0', '', '0.0', '8.0', '', '0.0', '25.0', '0.0', '2.0', '1.0', '1.0', '0.0', '3.0', '20.0', '3.0', '2.0', '0.0', '2.0', '1.0', '2.0', '4.0', '3.0', '4.0', '0.0', '2.0', '0.0', '0.0', '0.0', '25.0', '2.0', '0.0', '0.0', '8.0', '4.0', '0.0', '0.0', '19.0', '0.0', '0.0', '0.0', '1.0', '0.0', '4.0', '1.0', '0.0', '0.0', '0.0', '1.0', '0.0', '0.0', '2.0', '', '3.0', '0.0', '4.0', '1.0', '1.0', '3.0', '', '0.0', '1.0', '8.0', '0.0', '0.0', '0.0', '4.0', '21.0', '0.0', '', '8.0', '6.0', '0.0', '0.0', '2.0', '2.0', '1.0', '3.0', '0.0', '6.0', '7.0', '7.0', '0.0', '0.0', '0.0', '', '0.0', '0.0', '0.0', '2.0', '1.0', '1.0', '2.0', '0.0', '1.0', '0.0', '0.0', '1.0', '1.0', '0.0', '', '', '1.0', '3.0', '4.0', '1.0', '0.0', '0.0', '0.0', '0.0', '3.0', '2.0', '0.0', '', '1.0', '', '0.0', '', '2.0', '0.0', '', '0.0', '0.0', '3.0', '0.0', '8.0', '2.0', '4.0', '1.0', '42.0', '41.0', '0.0', '0.0', '2.0', '1.0', '', '0.0', '0.0', '0.0', '', '0.0', '1.0', '9.0', '1.0', '0.0', '0.0', '2.0', '0.0', '3.0', '1.0', '0.0', '7.0', '1.0', '2.0', '', '0.0', '0.0', '0.0', '0.0', '5.0', '6.0', '1.0', '0.0', '3.0', '1.0', '20.0', '0.0', '0.0', '0.0', '3.0', '4.0', '5.0', '3.0', '0.0', '0.0', '0.0', '', '1.0', '0.0', '4.0', '', '4.0', '0.0', '0.0', '0.0', '0.0', '5.0', '0.0', '3.0', '3.0', '2.0', '101.0', '3.0', '0.0', '', '1.0', '0.0', '0.0', '0.0', '2.0', '0.0', '4.0', '0.0', '2.0', '1.0', '2.0', '5.0', '1.0', '0.0', '5.0', '7.0', '13.0', '14.0', '2.0', '0.0', '0.0', '1.0', '1.0', '0.0', '0.0', '2.0', '0.0', '6.0', '3.0', '3.0', '3.0', '5.0', '2.0', '27.0', '9.0', '1.0', '5.0', '1.0', '', '0.0', '6.0', '5.0', '2.0', '3.0', '0.0', '1.0', '8.0', '4.0', '0.0', '1.0', '0.0', '0.0', '0.0', '7.0', '0.0', '1.0', '4.0', '0.0', '0.0', '', '0.0', '1.0', '9.0', '0.0', '0.0', '2.0', '1.0', '0.0', '0.0', '', '0.0', '3.0', '1.0', '0.0', '10.0', '3.0', '0.0', '', '', '1.0', '0.0', '1.0', '3.0', '0.0', '', '1.0', '0.0', '5.0', '0.0', '0.0', '0.0', '', '2.0', '7.0', '', '', '7.0', '0.0', '0.0', '0.0', '', '2.0', '1.0', '0.0', '0.0', '0.0', '0.0', '7.0', '0.0', '0.0', '8.0', '8.0', '0.0', '0.0', '2.0', '', '', '0.0', '0.0', '0.0', '0.0', '0.0', '0.0', '', '4.0', '2.0', '6.0', '0.0', '0.0', '0.0', '0.0', '0.0', '4.0', '0.0', '1.0', '0.0', '4.0', '0.0', '0.0', '0.0', '', '1.0', '0.0', '0.0', '0.0', '0.0', '0.0', '2.0', '4.0', '2.0', '0.0', '', '0.0', '0.0', '3.0', '0.0', '0.0', '', '38.0', '3.0', '', '1.0', '', '', '', '5.0', '0.0', '0.0', '2.0', '0.0', '7.0', '0.0', '39.0', '0.0', '0.0', '', '15.0', '6.0', '6.0', '0.0', '2.0', '0.0', '0.0', '0.0', '0.0', '0.0', '', '1.0', '12.0', '0.0', '0.0', '0.0', '0.0', '30.0', '', '6.0', '', '0.0', '0.0', '0.0', '0.0', '0.0', '', '3.0', '3.0', '', '0.0', '0.0', '0.0', '0.0', '0.0', '', '0.0', '0.0', '', '1.0', '0.0', '1.0', '13.0', '0.0', '0.0', '0.0', '1.0', '1.0', '2.0', '0.0', '50.0', '', '', '', '', '', '', '', '', '', '', '', '', '', '', '', '', '', '', '', '', '0.0', '4.0', '3.0', '2.0', '1.0', '0.0', '0.0', '1.0', '4.0', '0.0', '0.0', '1.0', '1.0', '0.0', '0.0', '0.0', '1.0', '0.0', '0.0', '0.0', '0.0', '0.0', '1.0', '', '', '', '', '', '', '', '', '7.0', '', '405.0', '0.0', '4.0', '4.0', '0.0', '0.0', '0.0', '0.0', '5.0', '0.0', '0.0', '0.0', '5.0', '5.0', '0.0', '2.0', '4.0', '2.0', '0.0', '0.0', '0.0', '0.0', '2.0', '0.0', '0.0', '0.0', '0.0', '2.0', '0.0', '', '0.0', '0.0', '1.0', '5.0', '2.0', '19.0', '0.0', '', '4.0', '3.0', '2.0', '0.0', '0.0', '0.0', '0.0', '3.0', '0.0', '10.0', '0.0', '1.0', '0.0', '0.0', '0.0', '0.0', '0.0', '0.0', '0.0', '0.0', '0.0', '0.0', '0.0', '0.0', '0.0', '0.0', '0.0', '0.0', '0.0', '0.0', '0.0', '0.0', '0.0', '0.0', '0.0', '0.0', '0.0', '', '30.0', '0.0', '0.0', '0.0', '0.0', '0.0', '0.0', '0.0', '8.0', '2.0', '0.0', '0.0', '2.0', '0.0', '0.0', '0.0', '7.0', '3.0', '2.0', '0.0', '0.0', '0.0', '0.0', '0.0', '3.0', '0.0', '1.0', '0.0', '0.0', '0.0', '', '0.0', '0.0', '6.0', '0.0', '0.0', '2.0', '8.0', '0.0', '1.0', '0.0', '0.0', '0.0', '0.0', '0.0', '8.0', '', '0.0', '6.0', '0.0', '0.0', '1.0', '2.0', '0.0', '3.0', '1.0', '3.0', '0.0', '0.0', '0.0', '0.0', '0.0', '1.0', '0.0', '0.0', '0.0', '1.0', '0.0', '1.0', '0.0', '0.0', '2.0', '1.0', '0.0', '0.0', '0.0', '0.0', '0.0', '0.0', '', '0.0', '1.0', '0.0', '0.0', '0.0', '', '0.0', '3.0', '0.0', '0.0', '0.0', '0.0', '2.0', '4.0', '3.0', '4.0', '1.0', '1.0', '0.0', '7.0', '7.0', '0.0', '0.0', '0.0', '1.0', '0.0', '2.0', '52.0', '0.0', '0.0', '0.0', '', '0.0', '0.0', '', '1.0', '0.0', '3.0', '2.0', '7.0', '0.0', '2.0', '0.0', '18.0', '17.0', '0.0', '0.0', '1.0', '0.0', '0.0', '0.0', '0.0', '0.0', '1.0', '1.0', '0.0', '0.0', '', '0.0', '12.0', '3.0', '0.0', '0.0', '5.0', '2.0', '1.0', '0.0', '1.0', '0.0', '0.0', '0.0', '1.0', '0.0', '0.0', '0.0', '1.0', '11.0', '0.0', '', '0.0', '', '2.0', '0.0', '0.0', '0.0', '0.0', '0.0', '0.0', '0.0', '0.0', '0.0', '0.0', '0.0', '0.0', '0.0', '0.0', '', '0.0', '', '4.0', '3.0', '6.0', '0.0', '0.0', '', '', '0.0', '3.0', '0.0', '0.0', '0.0', '1.0', '', '1.0', '7.0', '4.0', '0.0', '0.0', '0.0', '0.0', '0.0', '0.0', '10.0', '1.0', '4.0', '0.0', '0.0', '10.0', '0.0', '0.0', '2.0', '14.0', '3.0', '0.0', '0.0', '1.0', '2.0', '1.0', '0.0', '0.0', '0.0', '1.0', '1.0', '', '0.0', '', '1.0', '2.0', '5.0', '0.0', '3.0', '0.0', '1.0', '0.0', '', '1.0', '', '1.0', '0.0', '4.0', '0.0', '1.0', '1.0', '2.0', '', '0.0', '6.0', '0.0', '0.0', '3.0', '0.0', '0.0', '0.0', '0.0', '0.0', '0.0', '0.0', '0.0', '0.0', '0.0', '', '0.0', '0.0', '0.0', '0.0', '5.0', '2.0', '0.0', '13.0', '1.0', '3.0', '0.0', '0.0', '1.0', '0.0', '1.0', '1.0', '1.0', '5.0', '5.0', '5.0', '4.0', '0.0', '', '0.0', '0.0', '3.0', '2.0', '0.0', '2.0', '0.0', '3.0', '0.0', '6.0', '2.0', '', '0.0', '0.0', '0.0', '0.0', '0.0', '8.0', '1.0', '', '0.0', '1.0', '1.0', '0.0', '', '0.0', '0.0', '', '0.0', '2.0', '0.0', '10.0', '1.0', '1.0', '0.0', '3.0', '0.0', '0.0', '0.0', '0.0', '2.0', '1.0', '0.0', '0.0', '0.0', '6.0', '0.0', '0.0', '3.0', '0.0', '1.0', '0.0', '1.0', '0.0', '2.0', '9.0', '0.0', '4.0', '2.0', '14.0', '6.0', '1.0', '0.0', '0.0', '2.0', '2.0', '0.0', '2.0', '0.0', '2.0', '0.0', '1.0', '3.0', '0.0', '0.0', '0.0', '0.0', '0.0', '0.0', '4.0', '4.0', '4.0', '0.0', '6.0', '4.0', '1.0', '0.0', '5.0', '', '7.0', '8.0', '0.0', '4.0', '1.0', '', '0.0', '23.0', '7.0', '1.0', '0.0', '0.0', '3.0', '1.0', '9.0', '2.0', '', '0.0', '0.0', '0.0', '0.0', '1.0', '1.0', '4.0', '2.0', '0.0', '0.0', '8.0', '1.0', '2.0', '2.0', '1.0', '5.0', '0.0', '1.0', '0.0', '1.0', '0.0', '0.0', '0.0', '0.0', '2.0', '2.0', '0.0', '0.0', '0.0', '1.0', '0.0', '0.0', '3.0', '3.0', '8.0', '4.0', '2.0', '0.0', '14.0', '5.0', '8.0', '0.0', '0.0', '', '2.0', '1.0', '0.0', '7.0', '0.0', '0.0', '0.0', '6.0', '1.0', '', '4.0', '1.0', '1.0', '0.0', '0.0', '0.0', '47.0', '46.0', '0.0', '0.0', '0.0', '0.0', '14.0', '13.0', '0.0', '6.0', '4.0', '3.0', '0.0', '0.0', '0.0', '0.0', '1.0', '0.0', '0.0', '0.0', '0.0', '0.0', '0.0', '2.0', '0.0', '0.0', '0.0', '0.0', '0.0', '0.0', '0.0', '0.0', '3.0', '0.0', '0.0', '29.0', '14.0', '7.0', '0.0', '', '5.0', '', '2.0', '', '5.0', '0.0', '5.0', '0.0', '0.0', '0.0', '0.0', '6.0', '0.0', '0.0', '1.0', '0.0', '0.0', '1.0', '0.0', '0.0', '0.0', '2.0', '0.0', '0.0', '0.0', '0.0', '0.0', '0.0', '1.0', '0.0', '7.0', '9.0', '0.0', '0.0', '0.0', '', '8.0', '2.0', '4.0', '0.0', '0.0', '0.0', '0.0', '3.0', '', '0.0', '1.0', '2.0', '0.0', '0.0', '0.0', '2.0', '0.0', '7.0', '5.0', '0.0', '8.0', '8.0', '1.0', '', '3.0', '14.0', '1.0', '0.0', '', '1.0', '0.0', '0.0', '0.0', '', '1.0', '0.0', '0.0', '0.0', '1.0', '0.0', '0.0', '2.0', '0.0', '0.0', '5.0', '0.0', '46.0', '0.0', '0.0', '0.0', '0.0', '0.0', '4.0', '0.0', '0.0', '0.0', '0.0', '0.0', '0.0', '0.0', '', '0.0', '0.0', '', '0.0', '2.0', '1.0', '5.0', '0.0', '34.0', '0.0', '0.0', '5.0', '3.0', '21.0', '0.0', '0.0', '3.0', '1.0', '2.0', '0.0', '0.0', '0.0', '0.0', '0.0', '0.0', '0.0', '0.0', '0.0', '1.0', '0.0', '0.0', '4.0', '0.0', '0.0', '0.0', '', '2.0', '', '2.0', '1.0', '2.0', '0.0', '', '', '0.0', '0.0', '0.0', '0.0', '2.0', '0.0', '0.0', '1.0', '29.0', '7.0', '7.0', '0.0', '1.0', '2.0', '0.0', '0.0', '0.0', '2.0', '2.0', '3.0', '0.0', '3.0', '0.0', '1.0', '0.0', '0.0', '0.0', '4.0', '0.0', '0.0', '0.0', '6.0', '0.0', '0.0', '10.0', '10.0', '0.0', '0.0', '0.0', '2.0', '0.0', '4.0', '4.0', '', '', '', '0.0', '0.0', '3.0', '', '0.0', '0.0', '0.0', '0.0', '5.0', '5.0', '3.0', '1.0', '0.0', '12.0', '1.0', '8.0', '0.0', '0.0', '3.0', '3.0', '2.0', '4.0', '0.0', '1.0', '8.0', '0.0', '2.0', '0.0', '0.0', '0.0', '1.0', '0.0', '2.0', '0.0', '0.0', '3.0', '2.0', '4.0', '5.0', '7.0', '0.0', '2.0', '0.0', '0.0', '8.0', '0.0', '1.0', '0.0', '', '1.0', '0.0', '', '0.0', '1.0', '0.0', '0.0', '', '5.0', '2.0', '0.0', '0.0', '1.0', '1.0', '0.0', '', '2.0', '2.0', '3.0', '0.0', '2.0', '0.0', '7.0', '5.0', '0.0', '0.0', '0.0', '0.0', '0.0', '0.0', '0.0', '0.0', '0.0', '1.0', '7.0', '3.0', '4.0', '2.0', '3.0', '0.0', '4.0', '2.0', '0.0', '1.0', '3.0', '0.0', '0.0', '0.0', '0.0', '', '', '3.0', '0.0', '0.0', '0.0', '0.0', '0.0', '0.0', '', '1.0', '1.0', '1.0', '0.0', '1.0', '0.0', '4.0', '0.0', '0.0', '2.0', '9.0', '10.0', '0.0', '8.0', '0.0', '1.0', '4.0', '0.0', '1.0', '0.0', '0.0', '0.0', '3.0', '', '0.0', '4.0', '11.0', '4.0', '4.0', '1.0', '2.0', '', '0.0', '2.0', '0.0', '', '2.0', '0.0', '0.0', '0.0', '0.0', '5.0', '0.0', '0.0', '0.0', '0.0', '0.0', '0.0', '0.0', '0.0', '0.0', '0.0', '0.0', '0.0', '0.0', '0.0', '0.0', '0.0', '0.0', '0.0', '0.0', '0.0', '0.0', '0.0', '', '0.0', '10.0', '0.0', '0.0', '0.0', '0.0', '2.0', '0.0', '0.0', '0.0', '5.0', '16.0', '', '0.0', '3.0', '0.0', '2.0', '0.0', '1.0', '2.0', '0.0', '0.0', '0.0', '0.0', '0.0', '', '0.0', '0.0', '0.0', '0.0', '0.0', '0.0', '0.0', '0.0', '0.0', '0.0', '5.0', '0.0', '20.0', '', '2.0', '2.0', '', '', '0.0', '0.0', '0.0', '20.0', '1.0', '0.0', '0.0', '0.0', '0.0', '0.0', '4.0', '3.0', '1.0', '1.0', '0.0', '0.0', '3.0', '0.0', '0.0', '2.0', '1.0', '0.0', '4.0', '0.0', '0.0', '0.0', '3.0', '0.0', '0.0', '0.0', '0.0', '3.0', '9.0', '17.0', '1.0', '4.0', '0.0', '0.0', '6.0', '0.0', '0.0', '0.0', '0.0', '0.0', '1.0', '0.0', '0.0', '1.0', '1.0', '0.0', '0.0', '0.0', '', '0.0', '0.0', '2.0', '0.0', '2.0', '0.0', '0.0', '0.0', '0.0', '0.0', '0.0', '0.0', '', '4.0', '3.0', '1.0', '0.0', '0.0', '1.0', '10.0', '851.0', '0.0', '0.0', '3.0', '4.0', '', '0.0', '0.0', '0.0', '0.0', '0.0', '7.0', '0.0', '0.0', '13.0', '4.0', '2.0', '3.0', '1.0', '0.0', '2.0', '0.0', '0.0', '0.0', '5.0', '', '1.0', '2.0', '1.0', '', '0.0', '0.0', '', '7.0', '1.0', '', '0.0', '0.0', '0.0', '1.0', '0.0', '0.0', '3.0', '2.0', '0.0', '0.0', '4.0', '0.0', '0.0', '0.0', '0.0', '0.0', '0.0', '3.0', '0.0', '1.0', '', '0.0', '0.0', '1.0', '0.0', '0.0', '1.0', '0.0', '0.0', '0.0', '0.0', '0.0', '2.0', '7.0', '0.0', '4.0', '10.0', '0.0', '2.0', '0.0', '2.0', '1.0', '1.0', '0.0', '0.0', '21.0', '0.0', '1.0', '1.0', '0.0', '0.0', '', '', '1.0', '0.0', '0.0', '3.0', '3.0', '0.0', '0.0', '0.0', '21.0', '2.0', '0.0', '3.0', '10.0', '2.0', '2.0', '1.0', '0.0', '0.0', '0.0', '0.0', '0.0', '', '', '', '', '0.0', '4.0', '12.0', '0.0', '0.0', '', '0.0', '2.0', '0.0', '2.0', '2.0', '0.0', '7.0', '0.0', '3.0', '1.0', '0.0', '0.0', '0.0', '0.0', '1.0', '0.0', '0.0', '3.0', '', '3.0', '0.0', '4.0', '0.0', '0.0', '1.0', '0.0', '0.0', '', '', '', '', '0.0', '0.0', '0.0', '0.0', '3.0', '5.0', '0.0', '0.0', '', '2.0', '1.0', '0.0', '0.0', '0.0', '0.0', '0.0', '0.0', '1.0', '0.0', '0.0', '0.0', '1.0', '5.0', '0.0', '0.0', '', '', '1.0', '7.0', '2.0', '0.0', '0.0', '0.0', '9.0', '2.0', '6.0', '6.0', '8.0', '20.0', '0.0', '1.0', '13.0', '', '', '1.0', '0.0', '0.0', '1.0', '1.0', '2.0', '1.0', '0.0', '1.0', '0.0', '1.0', '0.0', '1.0', '0.0', '0.0', '4.0', '0.0', '3.0', '2.0', '0.0', '0.0', '3.0', '3.0', '0.0', '0.0', '0.0', '0.0', '3.0', '0.0', '1.0', '3.0', '1.0', '6.0', '0.0', '0.0', '0.0', '0.0', '1.0', '0.0', '0.0', '0.0', '', '0.0', '0.0', '0.0', '0.0', '3.0', '4.0', '20.0', '3.0', '', '1.0', '10.0', '0.0', '', '0.0', '0.0', '0.0', '0.0', '', '0.0', '7.0', '1.0', '0.0', '0.0', '7.0', '0.0', '1.0', '1.0', '0.0', '1.0', '0.0', '2.0', '7.0', '0.0', '0.0', '', '', '', '', '', '', '', '', '', '', '', '', '', '0.0', '2.0', '0.0', '0.0', '0.0', '1.0', '1.0', '100.0', '1.0', '', '2.0', '0.0', '0.0', '0.0', '0.0', '0.0', '8.0', '', '3.0', '', '3.0', '0.0', '0.0', '', '5.0', '0.0', '3.0', '1.0', '1.0', '0.0', '1.0', '0.0', '0.0', '1.0', '10.0', '0.0', '9.0', '4.0', '0.0', '0.0', '', '1.0', '0.0', '316.0', '0.0', '0.0', '3.0', '5.0', '13.0', '2.0', '4.0', '0.0', '0.0', '2.0', '0.0', '0.0', '0.0', '6.0', '7.0', '0.0', '0.0', '3.0', '0.0', '', '0.0', '1.0', '1.0', '0.0', '0.0', '3.0', '0.0', '1.0', '3.0', '5.0', '3.0', '0.0', '0.0', '0.0', '', '0.0', '', '5.0', '4.0', '3.0', '3.0', '3.0', '1.0', '0.0', '0.0', '0.0', '0.0', '', '0.0', '5.0', '0.0', '5.0', '1.0', '1.0', '0.0', '1.0', '', '0.0', '0.0', '0.0', '0.0', '0.0', '0.0', '0.0', '2.0', '0.0', '8.0', '7.0', '3.0', '0.0', '3.0', '0.0', '2.0', '0.0', '0.0', '0.0', '', '0.0', '', '2.0', '0.0', '0.0', '0.0', '0.0', '', '', '0.0', '0.0', '0.0', '1.0', '2.0', '0.0', '0.0', '0.0', '46.0', '236.0', '0.0', '0.0', '12.0', '', '', '3.0', '0.0', '0.0', '0.0', '0.0', '0.0', '0.0', '0.0', '0.0', '0.0', '0.0', '0.0', '3.0', '2.0', '0.0', '', '5.0', '3.0', '0.0', '22.0', '0.0', '0.0', '9.0', '24.0', '0.0', '0.0', '9.0', '3.0', '0.0', '0.0', '', '0.0', '0.0', '6.0', '0.0', '0.0', '0.0', '', '', '0.0', '1.0', '0.0', '0.0', '4.0', '0.0', '0.0', '3.0', '4.0', '0.0', '', '0.0', '0.0', '0.0', '12.0', '26.0', '0.0', '0.0', '0.0', '0.0', '5.0', '1.0', '0.0', '0.0', '0.0', '2.0', '0.0', '5.0', '0.0', '5.0', '', '2.0', '2.0', '2.0', '2.0', '0.0', '0.0', '0.0', '55.0', '10.0', '0.0', '0.0', '1.0', '1.0', '0.0', '2.0', '0.0', '3.0', '0.0', '0.0', '1.0', '2.0', '0.0', '0.0', '0.0', '4.0', '0.0', '0.0', '2.0', '4.0', '0.0', '0.0', '0.0', '0.0', '1.0', '5.0', '5.0', '', '0.0', '', '1.0', '', '0.0', '1.0', '13.0', '0.0', '1.0', '1.0', '0.0', '1.0', '5.0', '13.0', '8.0', '6.0', '0.0', '1.0', '1.0', '0.0', '0.0', '0.0', '0.0', '0.0', '0.0', '0.0', '1.0', '8.0', '', '0.0', '0.0', '', '0.0', '2.0', '4.0', '', '3.0', '1.0', '1.0', '1.0', '', '0.0', '1.0', '', '2.0', '0.0', '0.0', '10.0', '0.0', '0.0', '2.0', '1.0', '', '5.0', '0.0', '0.0', '0.0', '0.0', '0.0', '4.0', '2.0', '0.0', '0.0', '4.0', '7.0', '0.0', '0.0', '5.0', '0.0', '0.0', '6.0', '3.0', '0.0', '4.0', '5.0', '0.0', '2.0', '1.0', '0.0', '0.0', '6.0', '0.0', '2.0', '8.0', '0.0', '0.0', '0.0', '0.0', '0.0', '0.0', '0.0', '2.0', '0.0', '0.0', '0.0', '4.0', '0.0', '1.0', '3.0', '3.0', '1.0', '8.0', '5.0', '', '1.0', '0.0', '13.0', '0.0', '0.0', '3.0', '2.0', '0.0', '0.0', '0.0', '0.0', '0.0', '0.0', '8.0', '0.0', '1.0', '0.0', '4.0', '1.0', '2.0', '0.0', '12.0', '0.0', '0.0', '0.0', '3.0', '2.0', '0.0', '6.0', '1.0', '0.0', '1.0', '9.0', '1.0', '0.0', '0.0', '0.0', '0.0', '0.0', '', '0.0', '5.0', '0.0', '0.0', '2.0', '0.0', '0.0', '0.0', '3.0', '12.0', '0.0', '4.0', '4.0', '3.0', '3.0', '3.0', '3.0', '20.0', '21.0', '3.0', '1.0', '0.0', '0.0', '0.0', '0.0', '0.0', '2.0', '4.0', '0.0', '0.0', '0.0', '0.0', '0.0', '0.0', '0.0', '4.0', '1.0', '1.0', '0.0', '2.0', '0.0', '0.0', '', '10.0', '0.0', '2.0', '0.0', '2.0', '0.0', '8.0', '1.0', '0.0', '0.0', '0.0', '0.0', '1.0', '0.0', '0.0', '0.0', '0.0', '0.0', '5.0', '3.0', '0.0', '1.0', '', '14.0', '0.0', '18.0', '0.0', '8.0', '1.0', '0.0', '0.0', '0.0', '4.0', '1.0', '1.0', '', '2.0', '0.0', '0.0', '1.0', '2.0', '1.0', '2.0', '3.0', '1.0', '0.0', '0.0', '0.0', '0.0', '1.0', '21.0', '13.0', '3.0', '2.0', '1.0', '1.0', '1.0', '1.0', '1.0', '1.0', '1.0', '0.0', '', '2.0', '2.0', '0.0', '1.0', '0.0', '0.0', '1.0', '4.0', '3.0', '0.0', '27.0', '7.0', '1.0', '0.0', '6.0', '0.0', '0.0', '', '0.0', '', '0.0', '0.0', '0.0', '4.0', '0.0', '5.0', '0.0', '0.0', '10.0', '3.0', '3.0', '0.0', '0.0', '6.0', '0.0', '0.0', '2.0', '0.0', '0.0', '4.0', '2.0', '', '0.0', '0.0', '0.0', '0.0', '0.0', '3.0', '23.0', '0.0', '', '', '1.0', '0.0', '1.0', '2.0', '1.0', '4.0', '0.0', '0.0', '0.0', '5.0', '0.0', '0.0', '0.0', '1.0', '0.0', '140.0', '4.0', '1.0', '0.0', '0.0', '', '0.0', '0.0', '1.0', '0.0', '', '2.0', '', '3.0', '0.0', '0.0', '0.0', '0.0', '1.0', '0.0', '0.0', '6.0', '0.0', '7.0', '2.0', '3.0', '11.0', '10.0', '47.0', '0.0', '0.0', '0.0', '0.0', '5.0', '1.0', '0.0', '0.0', '0.0', '1.0', '0.0', '0.0', '0.0', '0.0', '0.0', '0.0', '3.0', '4.0', '0.0', '13.0', '0.0', '0.0', '0.0', '0.0', '0.0', '0.0', '2.0', '0.0', '5.0', '1.0', '3.0', '3.0', '0.0', '0.0', '3.0', '0.0', '0.0', '0.0', '0.0', '2.0', '0.0', '', '0.0', '0.0', '5.0', '0.0', '0.0', '0.0', '0.0', '', '0.0', '20.0', '1.0', '0.0', '0.0', '2.0', '0.0', '0.0', '0.0', '7.0', '0.0', '2.0', '5.0', '2.0', '4.0', '0.0', '', '', '0.0', '0.0', '0.0', '0.0', '0.0', '0.0', '0.0', '4.0', '1.0', '1.0', '0.0', '2.0', '4.0', '0.0', '0.0', '0.0', '0.0', '1.0', '0.0', '0.0', '0.0', '0.0', '0.0', '0.0', '', '7.0', '3.0', '0.0', '1.0', '1.0', '0.0', '0.0', '2.0', '2.0', '2.0', '0.0', '3.0', '0.0', '0.0', '9.0', '0.0', '4.0', '2.0', '0.0', '3.0', '5.0', '0.0', '4.0', '0.0', '1.0', '0.0', '', '4.0', '', '1.0', '0.0', '', '0.0', '9.0', '2.0', '3.0', '7.0', '0.0', '0.0', '0.0', '5.0', '7.0', '0.0', '2.0', '0.0', '0.0', '0.0', '4.0', '0.0', '', '0.0', '', '0.0', '13.0', '4.0', '0.0', '0.0', '3.0', '0.0', '2.0', '2.0', '1.0', '7.0', '0.0', '0.0', '', '0.0', '0.0', '0.0', '0.0', '0.0', '0.0', '0.0', '0.0', '0.0', '', '5.0', '0.0', '', '0.0', '0.0', '0.0', '5.0', '5.0', '0.0', '0.0', '0.0', '3.0', '0.0', '3.0', '1.0', '0.0', '0.0', '0.0', '4.0', '1.0', '0.0', '0.0', '20.0', '0.0', '0.0', '0.0', '0.0', '0.0', '5.0', '0.0', '4.0', '0.0', '0.0', '', '0.0', '8.0', '1.0', '0.0', '1.0', '0.0', '0.0', '4.0', '0.0', '0.0', '4.0', '1.0', '0.0', '25.0', '25.0', '12.0', '12.0', '6.0', '8.0', '0.0', '0.0', '0.0', '0.0', '0.0', '1.0', '6.0', '0.0', '1.0', '0.0', '0.0', '0.0', '0.0', '0.0', '2.0', '3.0', '0.0', '0.0', '', '1.0', '0.0', '0.0', '0.0', '3.0', '0.0', '3.0', '0.0', '0.0', '0.0', '18.0', '0.0', '0.0', '0.0', '1.0', '0.0', '0.0', '0.0', '15.0', '1.0', '1.0', '0.0', '1.0', '', '1.0', '', '0.0', '0.0', '0.0', '5.0', '0.0', '2.0', '0.0', '2.0', '0.0', '0.0', '0.0', '1.0', '0.0', '7.0', '7.0', '7.0', '6.0', '0.0', '0.0', '5.0', '1.0', '0.0', '1.0', '0.0', '0.0', '1.0', '1.0', '18.0', '7.0', '4.0', '0.0', '0.0', '1.0', '0.0', '0.0', '0.0', '', '0.0', '0.0', '0.0', '0.0', '1.0', '0.0', '0.0', '1.0', '0.0', '0.0', '', '0.0', '0.0', '4.0', '30.0', '0.0', '1.0', '0.0', '0.0', '0.0', '1.0', '0.0', '0.0', '5.0', '0.0', '0.0', '0.0', '0.0', '0.0', '0.0', '0.0', '0.0', '2.0', '16.0', '0.0', '0.0', '0.0', '1.0', '0.0', '3.0', '3.0', '0.0', '5.0', '1.0', '0.0', '4.0', '0.0', '2.0', '8.0', '3.0', '0.0', '0.0', '1.0', '3.0', '0.0', '0.0', '3.0', '1.0', '5.0', '0.0', '0.0', '0.0', '0.0', '3.0', '3.0', '0.0', '0.0', '0.0', '0.0', '0.0', '1.0', '0.0', '0.0', '0.0', '0.0', '5.0', '3.0', '0.0', '2.0', '1.0', '0.0', '4.0', '0.0', '0.0', '0.0', '0.0', '1.0', '0.0', '0.0', '4.0', '2.0', '0.0', '1.0', '0.0', '0.0', '0.0', '1.0', '', '', '20.0', '0.0', '0.0', '0.0', '0.0', '', '', '3.0', '', '', '0.0', '2.0', '85.0', '1.0', '0.0', '0.0', '0.0', '0.0', '40.0', '', '0.0', '0.0', '0.0', '0.0', '0.0', '0.0', '0.0', '0.0', '0.0', '3.0', '2.0', '0.0', '', '0.0', '4.0', '1.0', '2.0', '0.0', '0.0', '1.0', '0.0', '0.0', '16.0', '0.0', '0.0', '0.0', '1.0', '3.0', '0.0', '0.0', '0.0', '0.0', '0.0', '', '0.0', '0.0', '0.0', '0.0', '17.0', '4.0', '3.0', '2.0', '0.0', '0.0', '0.0', '0.0', '0.0', '0.0', '0.0', '', '0.0', '2.0', '14.0', '0.0', '0.0', '0.0', '2.0', '1.0', '0.0', '127.0', '2.0', '1.0', '3.0', '3.0', '0.0', '0.0', '0.0', '0.0', '0.0', '0.0', '6.0', '0.0', '0.0', '0.0', '0.0', '12.0', '15.0', '3.0', '0.0', '2.0', '0.0', '1.0', '2.0', '0.0', '0.0', '0.0', '0.0', '0.0', '0.0', '0.0', '', '0.0', '0.0', '0.0', '', '0.0', '0.0', '', '0.0', '1.0', '0.0', '0.0', '0.0', '0.0', '0.0', '17.0', '5.0', '9.0', '2.0', '0.0', '0.0', '0.0', '0.0', '0.0', '0.0', '0.0', '0.0', '0.0', '0.0', '0.0', '6.0', '', '2.0', '0.0', '0.0', '6.0', '0.0', '0.0', '0.0', '0.0', '0.0', '0.0', '0.0', '0.0', '0.0', '0.0', '0.0', '0.0', '0.0', '0.0', '0.0', '2.0', '0.0', '0.0', '0.0', '0.0', '2.0', '3.0', '1.0', '2.0', '0.0', '1.0', '0.0', '0.0', '0.0', '0.0', '0.0', '', '0.0', '2.0', '3.0', '0.0', '21.0', '0.0', '1.0', '1.0', '3.0', '1.0', '0.0', '0.0', '2.0', '3.0', '0.0', '1.0', '0.0', '0.0', '0.0', '1.0', '10.0', '0.0', '2.0', '0.0', '5.0', '0.0', '1.0', '0.0', '2.0', '0.0', '1.0', '1.0', '1.0', '0.0', '1.0', '', '0.0', '2.0', '0.0', '0.0', '1.0', '0.0', '0.0', '0.0', '0.0', '0.0', '0.0', '0.0', '3.0', '11.0', '0.0', '0.0', '0.0', '2.0', '6.0', '0.0', '0.0', '0.0', '2.0', '7.0', '0.0', '0.0', '0.0', '9.0', '0.0', '0.0', '0.0', '0.0', '0.0', '0.0', '0.0', '0.0', '0.0', '1.0', '1.0', '0.0', '0.0', '0.0', '2.0', '0.0', '0.0', '1.0', '3.0', '0.0', '12.0', '', '3.0', '0.0', '0.0', '1.0', '0.0', '0.0', '', '2.0', '4.0', '1.0', '0.0', '0.0', '1.0', '1.0', '0.0', '0.0', '2.0', '3.0', '2.0', '0.0', '1.0', '0.0', '3.0', '2.0', '0.0', '3.0', '0.0', '0.0', '0.0', '20.0', '0.0', '0.0', '4.0', '3.0', '0.0', '0.0', '0.0', '0.0', '3.0', '0.0', '0.0', '2.0', '8.0', '6.0', '0.0', '4.0', '0.0', '3.0', '0.0', '0.0', '37.0', '4.0', '0.0', '4.0', '1.0', '0.0', '1.0', '', '0.0', '1.0', '0.0', '0.0', '24.0', '0.0', '0.0', '0.0', '0.0', '2.0', '38.0', '', '0.0', '0.0', '0.0', '2.0', '1.0', '0.0', '5.0', '0.0', '26.0', '27.0', '0.0', '6.0', '3.0', '6.0', '0.0', '0.0', '1.0', '0.0', '7.0', '0.0', '0.0', '0.0', '1.0', '', '0.0', '0.0', '3.0', '0.0', '0.0', '0.0', '0.0', '0.0', '1.0', '', '0.0', '0.0', '1.0', '0.0', '0.0', '0.0', '0.0', '2.0', '0.0', '13.0', '', '0.0', '4.0', '0.0', '3.0', '0.0', '', '1.0', '0.0', '7.0', '0.0', '0.0', '0.0', '0.0', '0.0', '0.0', '0.0', '0.0', '0.0', '1.0', '3.0', '1.0', '0.0', '0.0', '0.0', '5.0', '3.0', '3.0', '0.0', '0.0', '0.0', '11.0', '0.0', '0.0', '0.0', '3.0', '0.0', '0.0', '0.0', '0.0', '0.0', '0.0', '0.0', '0.0', '', '0.0', '5.0', '0.0', '0.0', '', '', '', '0.0', '0.0', '0.0', '0.0', '0.0', '8.0', '16.0', '0.0', '1.0', '', '', '', '0.0', '0.0', '', '', '0.0', '0.0', '0.0', '0.0', '0.0', '1.0', '', '0.0', '0.0', '0.0', '', '0.0', '0.0', '', '0.0', '0.0', '0.0', '7.0', '0.0', '5.0', '2.0', '0.0', '0.0', '0.0', '0.0', '0.0', '0.0', '0.0', '3.0', '0.0', '', '5.0', '0.0', '0.0', '1.0', '0.0', '0.0', '0.0', '0.0', '0.0', '0.0', '0.0', '53.0', '0.0', '0.0', '2.0', '0.0', '', '0.0', '4.0', '1.0', '5.0', '3.0', '1.0', '0.0', '0.0', '0.0', '0.0', '1.0', '0.0', '0.0', '0.0', '1.0', '10.0', '0.0', '1.0', '0.0', '3.0', '0.0', '0.0', '9.0', '8.0', '2.0', '0.0', '2.0', '4.0', '0.0', '', '0.0', '0.0', '', '5.0', '2.0', '0.0', '0.0', '1.0', '5.0', '0.0', '0.0', '1.0', '', '0.0', '0.0', '0.0', '0.0', '7.0', '2.0', '2.0', '0.0', '3.0', '0.0', '4.0', '1.0', '2.0', '1.0', '', '0.0', '', '1.0', '0.0', '7.0', '', '0.0', '0.0', '14.0', '1.0', '0.0', '', '0.0', '', '5.0', '', '0.0', '0.0', '0.0', '0.0', '0.0', '1.0', '4.0', '0.0', '12.0', '', '', '0.0', '', '0.0', '0.0', '5.0', '0.0', '0.0', '4.0', '3.0', '0.0', '0.0', '4.0', '2.0', '0.0', '1.0', '2.0', '0.0', '4.0', '1.0', '0.0', '0.0', '0.0', '2.0', '0.0', '0.0', '0.0', '0.0', '0.0', '0.0', '0.0', '', '0.0', '0.0', '20.0', '0.0', '6.0', '', '3.0', '', '', '2.0', '2.0', '0.0', '2.0', '0.0', '1.0', '2.0', '2.0', '1.0', '1.0', '1.0', '1.0', '1.0', '1.0', '', '0.0', '0.0', '2.0', '0.0', '0.0', '0.0', '0.0', '0.0', '0.0', '', '0.0', '0.0', '0.0', '3.0', '0.0', '0.0', '0.0', '0.0', '', '0.0', '0.0', '0.0', '0.0', '2.0', '6.0', '0.0', '1.0', '3.0', '', '0.0', '0.0', '0.0', '0.0', '0.0', '0.0', '3.0', '0.0', '0.0', '1.0', '0.0', '5.0', '15.0', '0.0', '', '0.0', '0.0', '0.0', '', '', '6.0', '0.0', '0.0', '60.0', '0.0', '1.0', '0.0', '1.0', '1.0', '1.0', '6.0', '', '1.0', '0.0', '0.0', '0.0', '0.0', '5.0', '3.0', '', '6.0', '6.0', '3.0', '0.0', '0.0', '1.0', '1.0', '0.0', '', '0.0', '0.0', '2.0', '0.0', '0.0', '2.0', '0.0', '2.0', '1.0', '0.0', '0.0', '0.0', '0.0', '1.0', '0.0', '0.0', '56.0', '1.0', '1.0', '5.0', '5.0', '5.0', '4.0', '2.0', '0.0', '', '2.0', '5.0', '0.0', '1.0', '0.0', '', '', '0.0', '5.0', '2.0', '0.0', '0.0', '2.0', '0.0', '0.0', '2.0', '', '', '0.0', '0.0', '0.0', '0.0', '0.0', '31.0', '0.0', '0.0', '2.0', '3.0', '6.0', '0.0', '0.0', '0.0', '11.0', '0.0', '0.0', '0.0', '2.0', '0.0', '2.0', '0.0', '', '0.0', '0.0', '0.0', '0.0', '0.0', '3.0', '0.0', '0.0', '2.0', '0.0', '0.0', '0.0', '4.0', '0.0', '3.0', '0.0', '0.0', '', '0.0', '', '8.0', '0.0', '0.0', '0.0', '2.0', '1.0', '', '0.0', '1.0', '0.0', '0.0', '0.0', '0.0', '', '2.0', '1.0', '0.0', '1.0', '2.0', '0.0', '6.0', '5.0', '1.0', '1.0', '1.0', '2.0', '18.0', '3.0', '2.0', '0.0', '0.0', '0.0', '2.0', '5.0', '0.0', '4.0', '8.0', '2.0', '0.0', '1.0', '0.0', '11.0', '', '0.0', '0.0', '0.0', '0.0', '3.0', '0.0', '0.0', '0.0', '1.0', '0.0', '2.0', '8.0', '0.0', '0.0', '0.0', '0.0', '0.0', '1.0', '0.0', '0.0', '3.0', '3.0', '0.0', '3.0', '0.0', '0.0', '6.0', '0.0', '5.0', '0.0', '0.0', '0.0', '3.0', '7.0', '', '5.0', '0.0', '7.0', '0.0', '5.0', '', '0.0', '1.0', '0.0', '26.0', '0.0', '0.0', '0.0', '0.0', '1.0', '0.0', '0.0', '1.0', '1.0', '', '', '5.0', '5.0', '1.0', '0.0', '0.0', '0.0', '0.0', '', '0.0', '', '0.0', '1.0', '0.0', '0.0', '0.0', '', '0.0', '', '0.0', '0.0', '4.0', '2.0', '1.0', '1.0', '6.0', '0.0', '3.0', '1.0', '0.0', '1.0', '0.0', '1.0', '0.0', '18.0', '0.0', '0.0', '0.0', '0.0', '1.0', '4.0', '2.0', '0.0', '2.0', '14.0', '0.0', '1.0', '0.0', '0.0', '0.0', '4.0', '0.0', '1.0', '0.0', '0.0', '', '0.0', '0.0', '0.0', '2.0', '0.0', '0.0', '81.0', '0.0', '2.0', '3.0', '0.0', '0.0', '1.0', '0.0', '0.0', '0.0', '0.0', '0.0', '0.0', '3.0', '0.0', '0.0', '0.0', '13.0', '0.0', '0.0', '2.0', '1.0', '3.0', '3.0', '0.0', '0.0', '3.0', '0.0', '', '3.0', '2.0', '1.0', '0.0', '1.0', '2.0', '10.0', '6.0', '0.0', '2.0', '0.0', '', '', '', '0.0', '0.0', '0.0', '0.0', '0.0', '', '', '', '', '0.0', '2.0', '0.0', '0.0', '0.0', '0.0', '3.0', '0.0', '0.0', '10.0', '0.0', '15.0', '1.0', '28.0', '', '', '', '0.0', '0.0', '0.0', '1.0', '0.0', '2.0', '0.0', '2.0', '0.0', '', '', '0.0', '5.0', '0.0', '9.0', '3.0', '14.0', '0.0', '3.0', '0.0', '0.0', '1.0', '0.0', '0.0', '5.0', '0.0', '0.0', '0.0', '4.0', '2.0', '7.0', '0.0', '0.0', '0.0']\n",
      "51372.0\n",
      "1167.0\n"
     ]
    }
   ],
   "source": [
    "import numpy as np\n",
    "import csv\n",
    "\n",
    "with open('Dataset/year2017.csv') as file_obj:\n",
    "    file_data = csv.DictReader(file_obj,skipinitialspace=True)\n",
    "    killed = []\n",
    "    wounded = []\n",
    "    country = []\n",
    "    for row in (file_data):\n",
    "        killed.append(row['Killed'])\n",
    "        wounded.append(row['Wounded'])\n",
    "        country.append(row['Country'])\n",
    "    np_killed = np.array(killed)\n",
    "    np_wounded = np.array(wounded)\n",
    "    print(np_killed)\n",
    "    print(np_wounded)\n",
    "    np_killed[np_killed == ''] = '0.0'\n",
    "    np_wounded[np_wounded == ''] = '0.0'\n",
    "    np_killed = np.array(np_killed,dtype=float)\n",
    "    np_wounded = np.array(np_wounded,dtype=float)\n",
    "    killed_wounded = np_killed + np_wounded\n",
    "    print(killed+wounded)\n",
    "    np_country = np.array(country)\n",
    "    bool_ind = np_country == 'India'\n",
    "    ans = killed_wounded[bool_ind]\n",
    "    print(sum(killed_wounded))\n",
    "    print(sum(ans))"
   ]
  },
  {
   "cell_type": "markdown",
   "id": "50dc1e19-4b1d-4e9a-b079-1d4155274cc3",
   "metadata": {},
   "source": [
    "### QUESTIONS"
   ]
  },
  {
   "cell_type": "code",
   "execution_count": null,
   "id": "dfb773ac-fc9b-4df9-b919-50bf1a4fba64",
   "metadata": {},
   "outputs": [],
   "source": [
    "import csv \n",
    "import numpy as np\n",
    "\n",
    "with open('Dataset/terrorismData.csv', encoding='utf-8') as file_obj:\n",
    "    file_data = csv.reader(file_obj)\n",
    "    country = []\n",
    "    killed= []\n",
    "    for row in (file_data):\n",
    "        # country.append(row['Country'])\n",
    "        # killed.append(row['Killed'])\n",
    "        print(row)"
   ]
  },
  {
   "cell_type": "code",
   "execution_count": null,
   "id": "fc3ef82a-014a-44e3-91f1-d7f5350082cc",
   "metadata": {},
   "outputs": [],
   "source": []
  },
  {
   "cell_type": "code",
   "execution_count": null,
   "id": "2a3e9451-6ca9-445d-8cb4-98d8dd3cf8b1",
   "metadata": {},
   "outputs": [],
   "source": []
  }
 ],
 "metadata": {
  "kernelspec": {
   "display_name": "Python 3 (ipykernel)",
   "language": "python",
   "name": "python3"
  },
  "language_info": {
   "codemirror_mode": {
    "name": "ipython",
    "version": 3
   },
   "file_extension": ".py",
   "mimetype": "text/x-python",
   "name": "python",
   "nbconvert_exporter": "python",
   "pygments_lexer": "ipython3",
   "version": "3.11.7"
  }
 },
 "nbformat": 4,
 "nbformat_minor": 5
}
