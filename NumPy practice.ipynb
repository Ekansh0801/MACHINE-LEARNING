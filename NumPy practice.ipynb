{
 "cells": [
  {
   "cell_type": "code",
   "execution_count": 21,
   "id": "d8d4f2f7-dda6-407a-ba29-af6706df6b42",
   "metadata": {},
   "outputs": [
    {
     "name": "stdout",
     "output_type": "stream",
     "text": [
      "[0 0 0 ... 0 0 1]\n",
      "3771\n"
     ]
    }
   ],
   "source": [
    "import csv\n",
    "import numpy as np\n",
    "with open('Dataset/terrorismData.csv', encoding='utf-8') as file_obj:\n",
    "    file_data = csv.DictReader(file_obj)\n",
    "    country = []\n",
    "    killed = []\n",
    "    for row in file_data:\n",
    "        country.append(row['Country'])\n",
    "        killed.append(row['Killed'])\n",
    "    np_country = np.array(country)\n",
    "    np_killed = np.array(killed)\n",
    "    np_killed[np_killed ==''] = '0.0'\n",
    "    np_killed = np.array(np_killed,dtype = float)\n",
    "    np_killed = np.array(np_killed,dtype = int)    \n",
    "    bool_arr = np_country == 'United States'\n",
    "    new_arr = np_killed[bool_arr]\n",
    "    print(new_arr)\n",
    "    print(sum(new_arr))"
   ]
  },
  {
   "cell_type": "markdown",
   "id": "0a83219d-2f37-4cac-92bd-27fd0cccee54",
   "metadata": {},
   "source": [
    "### Q1"
   ]
  },
  {
   "cell_type": "code",
   "execution_count": 21,
   "id": "fbb433fc-a577-4e90-b2cd-31ea5902c260",
   "metadata": {},
   "outputs": [
    {
     "name": "stdout",
     "output_type": "stream",
     "text": [
      "159015\n"
     ]
    }
   ],
   "source": [
    "import csv\n",
    "import numpy as np\n",
    "\n",
    "with open('Dataset/terrorismData.csv', encoding='utf-8') as file_obj:\n",
    "    file_data = csv.DictReader(file_obj)\n",
    "    attack = []\n",
    "    day = []\n",
    "    for row in (file_data):\n",
    "        attack.append(row['Killed'])\n",
    "        day.append(row['Day'])\n",
    "    arr_attack = np.array(attack)\n",
    "    arr_attack[arr_attack == ''] = '0.0'\n",
    "    arr_attack = np.array(arr_attack,dtype=float)\n",
    "    arr_attack = np.array(arr_attack,dtype=int)\n",
    "    arr_day = np.array(day,dtype=int)\n",
    "    bool_arr = (arr_day >= 10) & (arr_day <= 20)\n",
    "    new_arr = arr_attack[bool_arr]\n",
    "    print(sum(new_arr))"
   ]
  },
  {
   "cell_type": "markdown",
   "id": "f5339310-cad2-4087-902f-68609dca053b",
   "metadata": {},
   "source": [
    "### Q2"
   ]
  },
  {
   "cell_type": "code",
   "execution_count": null,
   "id": "57704572-0aac-4076-94dd-3570f4b4ec4e",
   "metadata": {},
   "outputs": [],
   "source": [
    "import numpy as np\n",
    "import csv\n",
    "\n",
    "with open('Dataset/terrorismData.csv',encoding = 'utf-8') as file_obj:\n",
    "    file_data = csv.DictReader(file_obj)\n",
    "    year = []\n",
    "    month = []\n",
    "    day = []\n",
    "    for row in file_data:\n",
    "        year.append(row['Year'])\n",
    "        month.append(row['Month'])\n",
    "        day.append(row['Day'])\n",
    "    np_year = np.array(year)\n",
    "    np_month = np.array(month)\n",
    "    np_day = np.array(day)\n",
    "    print(np_year)\n",
    "    print(np_month)\n",
    "    print(np_day)"
   ]
  },
  {
   "cell_type": "code",
   "execution_count": null,
   "id": "2766952d-189e-4a2a-aa72-0e2b48eee401",
   "metadata": {},
   "outputs": [],
   "source": []
  }
 ],
 "metadata": {
  "kernelspec": {
   "display_name": "Python 3 (ipykernel)",
   "language": "python",
   "name": "python3"
  },
  "language_info": {
   "codemirror_mode": {
    "name": "ipython",
    "version": 3
   },
   "file_extension": ".py",
   "mimetype": "text/x-python",
   "name": "python",
   "nbconvert_exporter": "python",
   "pygments_lexer": "ipython3",
   "version": "3.11.7"
  }
 },
 "nbformat": 4,
 "nbformat_minor": 5
}
