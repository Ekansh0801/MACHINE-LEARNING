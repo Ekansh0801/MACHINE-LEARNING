{
 "cells": [
  {
   "cell_type": "code",
   "execution_count": 23,
   "id": "478dcbb6-c93c-4c77-aef5-f53a0e562a6e",
   "metadata": {},
   "outputs": [
    {
     "name": "stdout",
     "output_type": "stream",
     "text": [
      "[]\n"
     ]
    }
   ],
   "source": [
    "# Q-2\n",
    "\n",
    "import numpy as np\n",
    "import csv\n",
    "\n",
    "with open('Dataset/terrorismData.csv',encoding = 'utf-8') as file_obj:\n",
    "    file_data = csv.DictReader(file_obj)\n",
    "    year = []\n",
    "    month = []\n",
    "    day = []\n",
    "    for row in file_data:\n",
    "        year.append(row['Year'])\n",
    "        month.append(row['Month'])\n",
    "        day.append(row['Day'])\n",
    "    np_year = np.array(year,dtype=int)\n",
    "    np_month = np.array(month,dtype=int)\n",
    "    np_day = np.array(day,dtype=int)\n",
    "    bool_year = np_year == 2010\n",
    "    bool_month = np_month == 0\n",
    "    bool_day = (np_day >= 1) & (np_day <= 31)\n",
    "    bool_arr = bool_year & bool_month & bool_day\n",
    "    print(bool_arr[bool_arr])"
   ]
  },
  {
   "cell_type": "code",
   "execution_count": 36,
   "id": "142d32f8-b0ad-4b60-b425-1151dc8253bc",
   "metadata": {},
   "outputs": [
    {
     "name": "stdout",
     "output_type": "stream",
     "text": [
      "1591\n"
     ]
    }
   ],
   "source": [
    "# Q-4\n",
    "\n",
    "import numpy as np\n",
    "import csv\n",
    "\n",
    "with open('Dataset/terrorismData.csv',encoding = 'utf-8') as file_obj:\n",
    "    file_data = csv.DictReader(file_obj)\n",
    "    killed = []\n",
    "    wounded = []\n",
    "    state= []\n",
    "    for row in file_data:\n",
    "        killed.append(row['Killed'])\n",
    "        wounded.append(row['Wounded'])\n",
    "        state.append(row['State'])\n",
    "    np_killed = np.array(killed)\n",
    "    np_wounded = np.array(wounded)\n",
    "    np_state = np.array(state)\n",
    "    np_killed[np_killed == ''] = '0.0'\n",
    "    np_wounded[np_wounded == ''] = '0.0'\n",
    "    np_state[np_state == ''] = 'null'\n",
    "    np_killed = np.array(np_killed,dtype=float)\n",
    "    np_wounded = np.array(np_wounded,dtype=float)\n",
    "    np_killed = np.array(np_killed,dtype=int)\n",
    "    np_wounded = np.array(np_wounded,dtype=int)    \n",
    "    bool_state = (np_state == 'jharkhand') | (np_state == 'Odisha') | (np_state == 'Andhra Pradesh') | (np_state == 'Chattisgharh')\n",
    "    casuality = np_killed + np_wounded\n",
    "    new_arr = casuality[bool_state]\n",
    "    print(sum(new_arr))"
   ]
  },
  {
   "cell_type": "code",
   "execution_count": 58,
   "id": "517afb21-19fc-44e1-bcfa-a5510e27089d",
   "metadata": {},
   "outputs": [
    {
     "name": "stdout",
     "output_type": "stream",
     "text": [
      "Jammu and Kashmir 2454\n",
      "Assam 1151\n",
      "Manipur 1100\n",
      "Chhattisgarh 979\n",
      "Punjab 949\n"
     ]
    }
   ],
   "source": [
    "import numpy as np\n",
    "import csv\n",
    "\n",
    "state_count = {}  \n",
    "with open('Dataset/terrorismData.csv', encoding='utf-8') as file_obj:\n",
    "    file_data = csv.DictReader(file_obj)\n",
    "    country = []\n",
    "    state = []\n",
    "    for row in file_data:\n",
    "        country.append(row['Country'])\n",
    "        state.append(row['State'])\n",
    "    np_country = np.array(country)\n",
    "    bool_country = np_country == 'India'\n",
    "    np_state = np.array(state)\n",
    "    np_state[np_state == ''] = 'null'\n",
    "    new_arr = np_state[bool_country]\n",
    "    for st in new_arr:\n",
    "        if st in state_count:\n",
    "            state_count[st] += 1\n",
    "        else:\n",
    "            state_count[st] = 1\n",
    "\n",
    "first_5_items = list(sorted_state_count.items())[:5]\n",
    "for state, count in first_5_items:\n",
    "    print(state, count)"
   ]
  },
  {
   "cell_type": "code",
   "execution_count": 79,
   "id": "ac9e91a0-e87b-402f-9b9c-b0ab213c290d",
   "metadata": {},
   "outputs": [
    {
     "ename": "TypeError",
     "evalue": "'dict' object is not callable",
     "output_type": "error",
     "traceback": [
      "\u001b[1;31m---------------------------------------------------------------------------\u001b[0m",
      "\u001b[1;31mTypeError\u001b[0m                                 Traceback (most recent call last)",
      "Cell \u001b[1;32mIn[79], line 15\u001b[0m\n\u001b[0;32m     12\u001b[0m     filtered_days \u001b[38;5;241m=\u001b[39m np_day[bool_day]\n\u001b[0;32m     14\u001b[0m     unique_days, counts \u001b[38;5;241m=\u001b[39m np\u001b[38;5;241m.\u001b[39munique(filtered_days, return_counts\u001b[38;5;241m=\u001b[39m\u001b[38;5;28;01mTrue\u001b[39;00m)\n\u001b[1;32m---> 15\u001b[0m     day_count \u001b[38;5;241m=\u001b[39m \u001b[38;5;28mdict\u001b[39m(\u001b[38;5;28mzip\u001b[39m(unique_days, counts))\n\u001b[0;32m     17\u001b[0m most_frequent_day \u001b[38;5;241m=\u001b[39m \u001b[38;5;28mmax\u001b[39m(day_count, key\u001b[38;5;241m=\u001b[39mday_count\u001b[38;5;241m.\u001b[39mget)\n\u001b[0;32m     18\u001b[0m \u001b[38;5;28mprint\u001b[39m(\u001b[38;5;124m\"\u001b[39m\u001b[38;5;124mDay with the most frequency of attacks:\u001b[39m\u001b[38;5;124m\"\u001b[39m, most_frequent_day)\n",
      "\u001b[1;31mTypeError\u001b[0m: 'dict' object is not callable"
     ]
    }
   ],
   "source": [
    "import numpy as np\n",
    "import csv\n",
    "import dictionary as \n",
    "\n",
    "day_count = {}  \n",
    "with open('Dataset/terrorismData.csv', encoding='utf-8') as file_obj:\n",
    "    file_data = csv.DictReader(file_obj)\n",
    "    day = []\n",
    "    for row in file_data:\n",
    "        day.append(row['Day'])\n",
    "    np_day = np.array(day, dtype=int)\n",
    "    bool_day = (np_day >= 1) & (np_day <= 31)\n",
    "    filtered_days = np_day[bool_day]\n",
    "\n",
    "    unique_days, counts = np.unique(filtered_days, return_counts=True)\n",
    "    day_count = dict(zip(unique_days, counts))\n",
    "\n",
    "print(day_count)\n"
   ]
  },
  {
   "cell_type": "code",
   "execution_count": null,
   "id": "0f928ada-7931-4ae1-a80b-f878e53a5358",
   "metadata": {},
   "outputs": [],
   "source": []
  }
 ],
 "metadata": {
  "kernelspec": {
   "display_name": "Python 3 (ipykernel)",
   "language": "python",
   "name": "python3"
  },
  "language_info": {
   "codemirror_mode": {
    "name": "ipython",
    "version": 3
   },
   "file_extension": ".py",
   "mimetype": "text/x-python",
   "name": "python",
   "nbconvert_exporter": "python",
   "pygments_lexer": "ipython3",
   "version": "3.11.7"
  }
 },
 "nbformat": 4,
 "nbformat_minor": 5
}
